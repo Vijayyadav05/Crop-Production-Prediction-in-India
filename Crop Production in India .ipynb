{
 "cells": [
  {
   "cell_type": "markdown",
   "id": "027f0e85-e5ab-41e2-87d4-fbde98494702",
   "metadata": {},
   "source": [
    "# Crop Production Prediction in India"
   ]
  },
  {
   "cell_type": "markdown",
   "id": "fae97a1b-107a-424e-b278-97bef92b903c",
   "metadata": {},
   "source": [
    "### Objective:\n",
    "#### The aim of this project is to develop a machine-learning model to predict crop production in various regions of India. This prediction will be based on factors such as the state, district, crop type, season, area under cultivation, crop year and production. Accurate predictions can assist farmers, policymakers, and stakeholders in making informed decisions regarding agriculture planning, resource allocation, and crop management."
   ]
  },
  {
   "cell_type": "markdown",
   "id": "4fa9e070-5b3b-4579-8a90-1b6064de8ee9",
   "metadata": {},
   "source": [
    "### Key features :\n",
    "\n",
    "##### 1.State: The state in India where the crop is cultivated.\n",
    "##### 2.District: The district within the state where the crop is cultivated.\n",
    "##### 3.Crop: The type of crop being cultivated (e.g., rice, wheat, maize).\n",
    "##### 4.Season: The season during which the crop is cultivated (e.g., Kharif, Rabi).\n",
    "##### 5.Crop Year: The year in which the crop was cultivated\n",
    "##### 6.Area: The area of land (in hectares) used for cultivating the crop.\n",
    "##### 7.Production: The total production of the crop (in tonnes), which is the target variable for prediction."
   ]
  },
  {
   "cell_type": "markdown",
   "id": "aa388d0a-a4a9-4692-9cad-348cd486482a",
   "metadata": {},
   "source": [
    "### Imoprt the libraries"
   ]
  },
  {
   "cell_type": "code",
   "execution_count": 1,
   "id": "c6f19941-64c4-432d-ab48-02f0be4734ae",
   "metadata": {},
   "outputs": [],
   "source": [
    "# Basic Libraries\n",
    "import numpy as np \n",
    "import pandas as pd \n",
    "import matplotlib.pyplot as plt\n",
    "import seaborn as sns\n",
    "import warnings\n",
    "warnings.filterwarnings('ignore')\n",
    "\n",
    "# Algorithm used to build ML Model\n",
    "\n",
    "from sklearn.model_selection import train_test_split\n",
    "from sklearn.linear_model import LinearRegression\n",
    "from sklearn.tree import DecisionTreeRegressor\n",
    "from sklearn.ensemble import RandomForestRegressor\n",
    "\n",
    "# Model Evaluation \n",
    "from sklearn.preprocessing import StandardScaler\n",
    "from sklearn.metrics import mean_squared_error,r2_score"
   ]
  },
  {
   "cell_type": "code",
   "execution_count": 2,
   "id": "7ccf9636-e080-43a5-876d-4cf7c4192d14",
   "metadata": {},
   "outputs": [
    {
     "data": {
      "text/plain": [
       "(246091, 7)"
      ]
     },
     "execution_count": 2,
     "metadata": {},
     "output_type": "execute_result"
    }
   ],
   "source": [
    "data =pd.read_csv('crop_production.csv')\n",
    "data.shape"
   ]
  },
  {
   "cell_type": "code",
   "execution_count": 4,
   "id": "27644637-fb15-4108-9d4a-7b2f0a6b31ac",
   "metadata": {},
   "outputs": [
    {
     "data": {
      "text/html": [
       "<div>\n",
       "<style scoped>\n",
       "    .dataframe tbody tr th:only-of-type {\n",
       "        vertical-align: middle;\n",
       "    }\n",
       "\n",
       "    .dataframe tbody tr th {\n",
       "        vertical-align: top;\n",
       "    }\n",
       "\n",
       "    .dataframe thead th {\n",
       "        text-align: right;\n",
       "    }\n",
       "</style>\n",
       "<table border=\"1\" class=\"dataframe\">\n",
       "  <thead>\n",
       "    <tr style=\"text-align: right;\">\n",
       "      <th></th>\n",
       "      <th>State_Name</th>\n",
       "      <th>District_Name</th>\n",
       "      <th>Crop_Year</th>\n",
       "      <th>Season</th>\n",
       "      <th>Crop</th>\n",
       "      <th>Area</th>\n",
       "      <th>Production</th>\n",
       "    </tr>\n",
       "  </thead>\n",
       "  <tbody>\n",
       "    <tr>\n",
       "      <th>0</th>\n",
       "      <td>Andaman and Nicobar Islands</td>\n",
       "      <td>NICOBARS</td>\n",
       "      <td>2000</td>\n",
       "      <td>Kharif</td>\n",
       "      <td>Arecanut</td>\n",
       "      <td>1254.0</td>\n",
       "      <td>2000.0</td>\n",
       "    </tr>\n",
       "    <tr>\n",
       "      <th>1</th>\n",
       "      <td>Andaman and Nicobar Islands</td>\n",
       "      <td>NICOBARS</td>\n",
       "      <td>2000</td>\n",
       "      <td>Kharif</td>\n",
       "      <td>Other Kharif pulses</td>\n",
       "      <td>2.0</td>\n",
       "      <td>1.0</td>\n",
       "    </tr>\n",
       "    <tr>\n",
       "      <th>2</th>\n",
       "      <td>Andaman and Nicobar Islands</td>\n",
       "      <td>NICOBARS</td>\n",
       "      <td>2000</td>\n",
       "      <td>Kharif</td>\n",
       "      <td>Rice</td>\n",
       "      <td>102.0</td>\n",
       "      <td>321.0</td>\n",
       "    </tr>\n",
       "    <tr>\n",
       "      <th>3</th>\n",
       "      <td>Andaman and Nicobar Islands</td>\n",
       "      <td>NICOBARS</td>\n",
       "      <td>2000</td>\n",
       "      <td>Whole Year</td>\n",
       "      <td>Banana</td>\n",
       "      <td>176.0</td>\n",
       "      <td>641.0</td>\n",
       "    </tr>\n",
       "    <tr>\n",
       "      <th>4</th>\n",
       "      <td>Andaman and Nicobar Islands</td>\n",
       "      <td>NICOBARS</td>\n",
       "      <td>2000</td>\n",
       "      <td>Whole Year</td>\n",
       "      <td>Cashewnut</td>\n",
       "      <td>720.0</td>\n",
       "      <td>165.0</td>\n",
       "    </tr>\n",
       "  </tbody>\n",
       "</table>\n",
       "</div>"
      ],
      "text/plain": [
       "                    State_Name District_Name  Crop_Year       Season  \\\n",
       "0  Andaman and Nicobar Islands      NICOBARS       2000  Kharif        \n",
       "1  Andaman and Nicobar Islands      NICOBARS       2000  Kharif        \n",
       "2  Andaman and Nicobar Islands      NICOBARS       2000  Kharif        \n",
       "3  Andaman and Nicobar Islands      NICOBARS       2000  Whole Year    \n",
       "4  Andaman and Nicobar Islands      NICOBARS       2000  Whole Year    \n",
       "\n",
       "                  Crop    Area  Production  \n",
       "0             Arecanut  1254.0      2000.0  \n",
       "1  Other Kharif pulses     2.0         1.0  \n",
       "2                 Rice   102.0       321.0  \n",
       "3               Banana   176.0       641.0  \n",
       "4            Cashewnut   720.0       165.0  "
      ]
     },
     "execution_count": 4,
     "metadata": {},
     "output_type": "execute_result"
    }
   ],
   "source": [
    "data.head()"
   ]
  },
  {
   "cell_type": "markdown",
   "id": "1a3b5d3d-a0f9-4314-b8be-7b19ebe21952",
   "metadata": {},
   "source": [
    "### Here we split the data into train and test"
   ]
  },
  {
   "cell_type": "code",
   "execution_count": 5,
   "id": "817a5e93-2d6c-470b-bc25-9c655b85cb01",
   "metadata": {},
   "outputs": [],
   "source": [
    "train = data.sample(frac=0.8,random_state=0)\n",
    "test = data.drop(train.index)"
   ]
  },
  {
   "cell_type": "code",
   "execution_count": 6,
   "id": "f5df4556-aacd-4606-a07b-65db5b122687",
   "metadata": {},
   "outputs": [
    {
     "data": {
      "text/html": [
       "<div>\n",
       "<style scoped>\n",
       "    .dataframe tbody tr th:only-of-type {\n",
       "        vertical-align: middle;\n",
       "    }\n",
       "\n",
       "    .dataframe tbody tr th {\n",
       "        vertical-align: top;\n",
       "    }\n",
       "\n",
       "    .dataframe thead th {\n",
       "        text-align: right;\n",
       "    }\n",
       "</style>\n",
       "<table border=\"1\" class=\"dataframe\">\n",
       "  <thead>\n",
       "    <tr style=\"text-align: right;\">\n",
       "      <th></th>\n",
       "      <th>State_Name</th>\n",
       "      <th>District_Name</th>\n",
       "      <th>Crop_Year</th>\n",
       "      <th>Season</th>\n",
       "      <th>Crop</th>\n",
       "      <th>Area</th>\n",
       "      <th>Production</th>\n",
       "    </tr>\n",
       "  </thead>\n",
       "  <tbody>\n",
       "    <tr>\n",
       "      <th>222211</th>\n",
       "      <td>Uttar Pradesh</td>\n",
       "      <td>MAU</td>\n",
       "      <td>2001</td>\n",
       "      <td>Kharif</td>\n",
       "      <td>Small millets</td>\n",
       "      <td>98.0</td>\n",
       "      <td>51.0</td>\n",
       "    </tr>\n",
       "    <tr>\n",
       "      <th>148500</th>\n",
       "      <td>Odisha</td>\n",
       "      <td>BARGARH</td>\n",
       "      <td>2007</td>\n",
       "      <td>Winter</td>\n",
       "      <td>Sugarcane</td>\n",
       "      <td>742.0</td>\n",
       "      <td>47581.5</td>\n",
       "    </tr>\n",
       "    <tr>\n",
       "      <th>40239</th>\n",
       "      <td>Bihar</td>\n",
       "      <td>PURBI CHAMPARAN</td>\n",
       "      <td>2010</td>\n",
       "      <td>Kharif</td>\n",
       "      <td>Mesta</td>\n",
       "      <td>7.0</td>\n",
       "      <td>120.0</td>\n",
       "    </tr>\n",
       "    <tr>\n",
       "      <th>117</th>\n",
       "      <td>Andaman and Nicobar Islands</td>\n",
       "      <td>NORTH AND MIDDLE ANDAMAN</td>\n",
       "      <td>2010</td>\n",
       "      <td>Rabi</td>\n",
       "      <td>Dry chillies</td>\n",
       "      <td>254.0</td>\n",
       "      <td>402.0</td>\n",
       "    </tr>\n",
       "    <tr>\n",
       "      <th>64394</th>\n",
       "      <td>Gujarat</td>\n",
       "      <td>SURENDRANAGAR</td>\n",
       "      <td>1997</td>\n",
       "      <td>Kharif</td>\n",
       "      <td>Bajra</td>\n",
       "      <td>85900.0</td>\n",
       "      <td>103000.0</td>\n",
       "    </tr>\n",
       "  </tbody>\n",
       "</table>\n",
       "</div>"
      ],
      "text/plain": [
       "                         State_Name             District_Name  Crop_Year  \\\n",
       "222211                Uttar Pradesh                       MAU       2001   \n",
       "148500                       Odisha                   BARGARH       2007   \n",
       "40239                         Bihar           PURBI CHAMPARAN       2010   \n",
       "117     Andaman and Nicobar Islands  NORTH AND MIDDLE ANDAMAN       2010   \n",
       "64394                       Gujarat             SURENDRANAGAR       1997   \n",
       "\n",
       "             Season           Crop     Area  Production  \n",
       "222211  Kharif       Small millets     98.0        51.0  \n",
       "148500  Winter           Sugarcane    742.0     47581.5  \n",
       "40239   Kharif               Mesta      7.0       120.0  \n",
       "117     Rabi          Dry chillies    254.0       402.0  \n",
       "64394   Kharif               Bajra  85900.0    103000.0  "
      ]
     },
     "execution_count": 6,
     "metadata": {},
     "output_type": "execute_result"
    }
   ],
   "source": [
    "train.head()"
   ]
  },
  {
   "cell_type": "code",
   "execution_count": 7,
   "id": "03b0b941-351f-442b-aba2-5dea65358597",
   "metadata": {},
   "outputs": [
    {
     "data": {
      "text/plain": [
       "(196873, 7)"
      ]
     },
     "execution_count": 7,
     "metadata": {},
     "output_type": "execute_result"
    }
   ],
   "source": [
    "train.shape"
   ]
  },
  {
   "cell_type": "code",
   "execution_count": 8,
   "id": "be238252-7a71-4dc3-8907-00088832e231",
   "metadata": {},
   "outputs": [
    {
     "data": {
      "text/plain": [
       "(49218, 7)"
      ]
     },
     "execution_count": 8,
     "metadata": {},
     "output_type": "execute_result"
    }
   ],
   "source": [
    "test.shape"
   ]
  },
  {
   "cell_type": "code",
   "execution_count": 9,
   "id": "dd8b900f-07e3-4214-a676-3a88998e3dd9",
   "metadata": {},
   "outputs": [],
   "source": [
    "train = train.reset_index(drop=True)"
   ]
  },
  {
   "cell_type": "code",
   "execution_count": 10,
   "id": "1e62db9c-1ef8-42b5-a261-3bfc2daab168",
   "metadata": {},
   "outputs": [
    {
     "data": {
      "text/html": [
       "<div>\n",
       "<style scoped>\n",
       "    .dataframe tbody tr th:only-of-type {\n",
       "        vertical-align: middle;\n",
       "    }\n",
       "\n",
       "    .dataframe tbody tr th {\n",
       "        vertical-align: top;\n",
       "    }\n",
       "\n",
       "    .dataframe thead th {\n",
       "        text-align: right;\n",
       "    }\n",
       "</style>\n",
       "<table border=\"1\" class=\"dataframe\">\n",
       "  <thead>\n",
       "    <tr style=\"text-align: right;\">\n",
       "      <th></th>\n",
       "      <th>State_Name</th>\n",
       "      <th>District_Name</th>\n",
       "      <th>Crop_Year</th>\n",
       "      <th>Season</th>\n",
       "      <th>Crop</th>\n",
       "      <th>Area</th>\n",
       "      <th>Production</th>\n",
       "    </tr>\n",
       "  </thead>\n",
       "  <tbody>\n",
       "    <tr>\n",
       "      <th>0</th>\n",
       "      <td>Uttar Pradesh</td>\n",
       "      <td>MAU</td>\n",
       "      <td>2001</td>\n",
       "      <td>Kharif</td>\n",
       "      <td>Small millets</td>\n",
       "      <td>98.0</td>\n",
       "      <td>51.0</td>\n",
       "    </tr>\n",
       "    <tr>\n",
       "      <th>1</th>\n",
       "      <td>Odisha</td>\n",
       "      <td>BARGARH</td>\n",
       "      <td>2007</td>\n",
       "      <td>Winter</td>\n",
       "      <td>Sugarcane</td>\n",
       "      <td>742.0</td>\n",
       "      <td>47581.5</td>\n",
       "    </tr>\n",
       "    <tr>\n",
       "      <th>2</th>\n",
       "      <td>Bihar</td>\n",
       "      <td>PURBI CHAMPARAN</td>\n",
       "      <td>2010</td>\n",
       "      <td>Kharif</td>\n",
       "      <td>Mesta</td>\n",
       "      <td>7.0</td>\n",
       "      <td>120.0</td>\n",
       "    </tr>\n",
       "    <tr>\n",
       "      <th>3</th>\n",
       "      <td>Andaman and Nicobar Islands</td>\n",
       "      <td>NORTH AND MIDDLE ANDAMAN</td>\n",
       "      <td>2010</td>\n",
       "      <td>Rabi</td>\n",
       "      <td>Dry chillies</td>\n",
       "      <td>254.0</td>\n",
       "      <td>402.0</td>\n",
       "    </tr>\n",
       "    <tr>\n",
       "      <th>4</th>\n",
       "      <td>Gujarat</td>\n",
       "      <td>SURENDRANAGAR</td>\n",
       "      <td>1997</td>\n",
       "      <td>Kharif</td>\n",
       "      <td>Bajra</td>\n",
       "      <td>85900.0</td>\n",
       "      <td>103000.0</td>\n",
       "    </tr>\n",
       "  </tbody>\n",
       "</table>\n",
       "</div>"
      ],
      "text/plain": [
       "                    State_Name             District_Name  Crop_Year  \\\n",
       "0                Uttar Pradesh                       MAU       2001   \n",
       "1                       Odisha                   BARGARH       2007   \n",
       "2                        Bihar           PURBI CHAMPARAN       2010   \n",
       "3  Andaman and Nicobar Islands  NORTH AND MIDDLE ANDAMAN       2010   \n",
       "4                      Gujarat             SURENDRANAGAR       1997   \n",
       "\n",
       "        Season           Crop     Area  Production  \n",
       "0  Kharif       Small millets     98.0        51.0  \n",
       "1  Winter           Sugarcane    742.0     47581.5  \n",
       "2  Kharif               Mesta      7.0       120.0  \n",
       "3  Rabi          Dry chillies    254.0       402.0  \n",
       "4  Kharif               Bajra  85900.0    103000.0  "
      ]
     },
     "execution_count": 10,
     "metadata": {},
     "output_type": "execute_result"
    }
   ],
   "source": [
    "train.head()"
   ]
  },
  {
   "cell_type": "code",
   "execution_count": 11,
   "id": "eaabf7e1-523c-40a8-ba74-a7982ae442a9",
   "metadata": {},
   "outputs": [
    {
     "name": "stdout",
     "output_type": "stream",
     "text": [
      "<class 'pandas.core.frame.DataFrame'>\n",
      "RangeIndex: 196873 entries, 0 to 196872\n",
      "Data columns (total 7 columns):\n",
      " #   Column         Non-Null Count   Dtype  \n",
      "---  ------         --------------   -----  \n",
      " 0   State_Name     196873 non-null  object \n",
      " 1   District_Name  196873 non-null  object \n",
      " 2   Crop_Year      196873 non-null  int64  \n",
      " 3   Season         196873 non-null  object \n",
      " 4   Crop           196873 non-null  object \n",
      " 5   Area           196873 non-null  float64\n",
      " 6   Production     193911 non-null  float64\n",
      "dtypes: float64(2), int64(1), object(4)\n",
      "memory usage: 10.5+ MB\n"
     ]
    }
   ],
   "source": [
    "train.info()"
   ]
  },
  {
   "cell_type": "markdown",
   "id": "95b13591-923e-42f1-8f6c-c29cadc255e3",
   "metadata": {},
   "source": [
    "### Data Cleaning"
   ]
  },
  {
   "cell_type": "code",
   "execution_count": 12,
   "id": "29d8f08c-8b6a-4c43-8a3e-ea7ce6d038df",
   "metadata": {},
   "outputs": [
    {
     "data": {
      "text/plain": [
       "State_Name          0\n",
       "District_Name       0\n",
       "Crop_Year           0\n",
       "Season              0\n",
       "Crop                0\n",
       "Area                0\n",
       "Production       2962\n",
       "dtype: int64"
      ]
     },
     "execution_count": 12,
     "metadata": {},
     "output_type": "execute_result"
    }
   ],
   "source": [
    "train.isnull().sum()"
   ]
  },
  {
   "cell_type": "code",
   "execution_count": 13,
   "id": "079da37b-4a04-401c-a7fe-09a9036c468a",
   "metadata": {},
   "outputs": [
    {
     "data": {
      "text/plain": [
       "array([5.10000e+01, 4.75815e+04, 1.20000e+02, ..., 3.90510e+04,\n",
       "       1.57434e+05, 1.23800e+06])"
      ]
     },
     "execution_count": 13,
     "metadata": {},
     "output_type": "execute_result"
    }
   ],
   "source": [
    "train.Production.unique()"
   ]
  },
  {
   "cell_type": "code",
   "execution_count": 14,
   "id": "2edc65b1-8b9e-4533-bde1-c7a09e2349a4",
   "metadata": {},
   "outputs": [
    {
     "data": {
      "text/html": [
       "<div>\n",
       "<style scoped>\n",
       "    .dataframe tbody tr th:only-of-type {\n",
       "        vertical-align: middle;\n",
       "    }\n",
       "\n",
       "    .dataframe tbody tr th {\n",
       "        vertical-align: top;\n",
       "    }\n",
       "\n",
       "    .dataframe thead th {\n",
       "        text-align: right;\n",
       "    }\n",
       "</style>\n",
       "<table border=\"1\" class=\"dataframe\">\n",
       "  <thead>\n",
       "    <tr style=\"text-align: right;\">\n",
       "      <th></th>\n",
       "      <th>State_Name</th>\n",
       "      <th>District_Name</th>\n",
       "      <th>Crop_Year</th>\n",
       "      <th>Season</th>\n",
       "      <th>Crop</th>\n",
       "      <th>Area</th>\n",
       "      <th>Production</th>\n",
       "    </tr>\n",
       "  </thead>\n",
       "  <tbody>\n",
       "    <tr>\n",
       "      <th>78</th>\n",
       "      <td>Haryana</td>\n",
       "      <td>SIRSA</td>\n",
       "      <td>1998</td>\n",
       "      <td>Whole Year</td>\n",
       "      <td>Sannhamp</td>\n",
       "      <td>7.0</td>\n",
       "      <td>NaN</td>\n",
       "    </tr>\n",
       "    <tr>\n",
       "      <th>146</th>\n",
       "      <td>Madhya Pradesh</td>\n",
       "      <td>DHAR</td>\n",
       "      <td>2009</td>\n",
       "      <td>Whole Year</td>\n",
       "      <td>Tobacco</td>\n",
       "      <td>1.0</td>\n",
       "      <td>NaN</td>\n",
       "    </tr>\n",
       "    <tr>\n",
       "      <th>153</th>\n",
       "      <td>Chhattisgarh</td>\n",
       "      <td>BIJAPUR</td>\n",
       "      <td>2006</td>\n",
       "      <td>Whole Year</td>\n",
       "      <td>Turmeric</td>\n",
       "      <td>12.0</td>\n",
       "      <td>NaN</td>\n",
       "    </tr>\n",
       "    <tr>\n",
       "      <th>200</th>\n",
       "      <td>Haryana</td>\n",
       "      <td>KARNAL</td>\n",
       "      <td>2010</td>\n",
       "      <td>Kharif</td>\n",
       "      <td>Maize</td>\n",
       "      <td>252.0</td>\n",
       "      <td>NaN</td>\n",
       "    </tr>\n",
       "    <tr>\n",
       "      <th>263</th>\n",
       "      <td>Haryana</td>\n",
       "      <td>SONIPAT</td>\n",
       "      <td>2005</td>\n",
       "      <td>Kharif</td>\n",
       "      <td>Moong(Green Gram)</td>\n",
       "      <td>172.0</td>\n",
       "      <td>NaN</td>\n",
       "    </tr>\n",
       "    <tr>\n",
       "      <th>...</th>\n",
       "      <td>...</td>\n",
       "      <td>...</td>\n",
       "      <td>...</td>\n",
       "      <td>...</td>\n",
       "      <td>...</td>\n",
       "      <td>...</td>\n",
       "      <td>...</td>\n",
       "    </tr>\n",
       "    <tr>\n",
       "      <th>196522</th>\n",
       "      <td>Haryana</td>\n",
       "      <td>KURUKSHETRA</td>\n",
       "      <td>2009</td>\n",
       "      <td>Kharif</td>\n",
       "      <td>Sesamum</td>\n",
       "      <td>1.0</td>\n",
       "      <td>NaN</td>\n",
       "    </tr>\n",
       "    <tr>\n",
       "      <th>196627</th>\n",
       "      <td>Haryana</td>\n",
       "      <td>KARNAL</td>\n",
       "      <td>2005</td>\n",
       "      <td>Kharif</td>\n",
       "      <td>Cotton(lint)</td>\n",
       "      <td>51.0</td>\n",
       "      <td>NaN</td>\n",
       "    </tr>\n",
       "    <tr>\n",
       "      <th>196628</th>\n",
       "      <td>Madhya Pradesh</td>\n",
       "      <td>ASHOKNAGAR</td>\n",
       "      <td>2006</td>\n",
       "      <td>Rabi</td>\n",
       "      <td>Small millets</td>\n",
       "      <td>1.0</td>\n",
       "      <td>NaN</td>\n",
       "    </tr>\n",
       "    <tr>\n",
       "      <th>196745</th>\n",
       "      <td>Kerala</td>\n",
       "      <td>THIRUVANANTHAPURAM</td>\n",
       "      <td>2013</td>\n",
       "      <td>Whole Year</td>\n",
       "      <td>Cowpea(Lobia)</td>\n",
       "      <td>40.0</td>\n",
       "      <td>NaN</td>\n",
       "    </tr>\n",
       "    <tr>\n",
       "      <th>196831</th>\n",
       "      <td>Kerala</td>\n",
       "      <td>ERNAKULAM</td>\n",
       "      <td>2014</td>\n",
       "      <td>Whole Year</td>\n",
       "      <td>Moong(Green Gram)</td>\n",
       "      <td>1.0</td>\n",
       "      <td>NaN</td>\n",
       "    </tr>\n",
       "  </tbody>\n",
       "</table>\n",
       "<p>2962 rows × 7 columns</p>\n",
       "</div>"
      ],
      "text/plain": [
       "            State_Name       District_Name  Crop_Year       Season  \\\n",
       "78             Haryana               SIRSA       1998  Whole Year    \n",
       "146     Madhya Pradesh                DHAR       2009  Whole Year    \n",
       "153       Chhattisgarh             BIJAPUR       2006  Whole Year    \n",
       "200            Haryana              KARNAL       2010  Kharif        \n",
       "263            Haryana             SONIPAT       2005  Kharif        \n",
       "...                ...                 ...        ...          ...   \n",
       "196522         Haryana         KURUKSHETRA       2009  Kharif        \n",
       "196627         Haryana              KARNAL       2005  Kharif        \n",
       "196628  Madhya Pradesh          ASHOKNAGAR       2006  Rabi          \n",
       "196745          Kerala  THIRUVANANTHAPURAM       2013  Whole Year    \n",
       "196831          Kerala           ERNAKULAM       2014  Whole Year    \n",
       "\n",
       "                     Crop   Area  Production  \n",
       "78               Sannhamp    7.0         NaN  \n",
       "146               Tobacco    1.0         NaN  \n",
       "153              Turmeric   12.0         NaN  \n",
       "200                 Maize  252.0         NaN  \n",
       "263     Moong(Green Gram)  172.0         NaN  \n",
       "...                   ...    ...         ...  \n",
       "196522            Sesamum    1.0         NaN  \n",
       "196627       Cotton(lint)   51.0         NaN  \n",
       "196628      Small millets    1.0         NaN  \n",
       "196745      Cowpea(Lobia)   40.0         NaN  \n",
       "196831  Moong(Green Gram)    1.0         NaN  \n",
       "\n",
       "[2962 rows x 7 columns]"
      ]
     },
     "execution_count": 14,
     "metadata": {},
     "output_type": "execute_result"
    }
   ],
   "source": [
    "train[(train.Production.isnull())]"
   ]
  },
  {
   "cell_type": "code",
   "execution_count": 15,
   "id": "18c35601-d321-4f6e-9d74-0b60b61433a2",
   "metadata": {},
   "outputs": [],
   "source": [
    "train.dropna(inplace=True)"
   ]
  },
  {
   "cell_type": "code",
   "execution_count": 16,
   "id": "13650b4d-1e79-4e9f-be0c-ee3522e89b25",
   "metadata": {},
   "outputs": [
    {
     "data": {
      "text/plain": [
       "Production\n",
       "1.00          3180\n",
       "0.00          2817\n",
       "100.00        2808\n",
       "2.00          2338\n",
       "3.00          1813\n",
       "              ... \n",
       "53079.00         1\n",
       "9797.00          1\n",
       "6102.77          1\n",
       "121037.00        1\n",
       "1238000.00       1\n",
       "Name: count, Length: 44287, dtype: int64"
      ]
     },
     "execution_count": 16,
     "metadata": {},
     "output_type": "execute_result"
    }
   ],
   "source": [
    "train.Production.value_counts()"
   ]
  },
  {
   "cell_type": "code",
   "execution_count": 17,
   "id": "d5cedb16-218b-40c0-b6da-a920c218643e",
   "metadata": {},
   "outputs": [
    {
     "data": {
      "text/html": [
       "<div>\n",
       "<style scoped>\n",
       "    .dataframe tbody tr th:only-of-type {\n",
       "        vertical-align: middle;\n",
       "    }\n",
       "\n",
       "    .dataframe tbody tr th {\n",
       "        vertical-align: top;\n",
       "    }\n",
       "\n",
       "    .dataframe thead th {\n",
       "        text-align: right;\n",
       "    }\n",
       "</style>\n",
       "<table border=\"1\" class=\"dataframe\">\n",
       "  <thead>\n",
       "    <tr style=\"text-align: right;\">\n",
       "      <th></th>\n",
       "      <th>State_Name</th>\n",
       "      <th>District_Name</th>\n",
       "      <th>Crop_Year</th>\n",
       "      <th>Season</th>\n",
       "      <th>Crop</th>\n",
       "      <th>Area</th>\n",
       "      <th>Production</th>\n",
       "    </tr>\n",
       "  </thead>\n",
       "  <tbody>\n",
       "  </tbody>\n",
       "</table>\n",
       "</div>"
      ],
      "text/plain": [
       "Empty DataFrame\n",
       "Columns: [State_Name, District_Name, Crop_Year, Season, Crop, Area, Production]\n",
       "Index: []"
      ]
     },
     "execution_count": 17,
     "metadata": {},
     "output_type": "execute_result"
    }
   ],
   "source": [
    "train[train.duplicated()]"
   ]
  },
  {
   "cell_type": "code",
   "execution_count": 18,
   "id": "82721e60-d720-444d-9cc1-9bb65e14344a",
   "metadata": {},
   "outputs": [
    {
     "data": {
      "text/plain": [
       "array([2001, 2007, 2010, 1997, 2002, 2003, 2004, 1998, 1999, 2009, 2008,\n",
       "       2012, 2014, 2006, 2013, 2005, 2011, 2000, 2015], dtype=int64)"
      ]
     },
     "execution_count": 18,
     "metadata": {},
     "output_type": "execute_result"
    }
   ],
   "source": [
    "train['Crop_Year'].unique()"
   ]
  },
  {
   "cell_type": "markdown",
   "id": "1c0266d7-7148-4335-b96b-5de1ed4be249",
   "metadata": {},
   "source": [
    "### The Data has been collected from the year 1997 to 2015"
   ]
  },
  {
   "cell_type": "code",
   "execution_count": 19,
   "id": "2a4857a8-40fa-488c-9c34-7ac112a9cf95",
   "metadata": {},
   "outputs": [
    {
     "data": {
      "text/plain": [
       "array(['Uttar Pradesh', 'Odisha', 'Bihar', 'Andaman and Nicobar Islands',\n",
       "       'Gujarat', 'Andhra Pradesh', 'Rajasthan', 'Telangana ',\n",
       "       'West Bengal', 'Assam', 'Maharashtra', 'Madhya Pradesh',\n",
       "       'Arunachal Pradesh', 'Karnataka', 'Punjab', 'Chhattisgarh',\n",
       "       'Nagaland', 'Kerala', 'Tamil Nadu', 'Meghalaya', 'Manipur',\n",
       "       'Jammu and Kashmir ', 'Uttarakhand', 'Jharkhand', 'Goa', 'Haryana',\n",
       "       'Mizoram', 'Tripura', 'Dadra and Nagar Haveli', 'Sikkim',\n",
       "       'Himachal Pradesh', 'Puducherry', 'Chandigarh'], dtype=object)"
      ]
     },
     "execution_count": 19,
     "metadata": {},
     "output_type": "execute_result"
    }
   ],
   "source": [
    "train['State_Name'].unique()"
   ]
  },
  {
   "cell_type": "code",
   "execution_count": 20,
   "id": "6ad32105-bb41-4f12-9122-9b1a7b3bcbbb",
   "metadata": {},
   "outputs": [
    {
     "data": {
      "text/plain": [
       "33"
      ]
     },
     "execution_count": 20,
     "metadata": {},
     "output_type": "execute_result"
    }
   ],
   "source": [
    "len(train['State_Name'].unique())"
   ]
  },
  {
   "cell_type": "markdown",
   "id": "863974bf-4eaf-4cb4-9d3f-7ec76048e532",
   "metadata": {},
   "source": [
    "### There are a total of 33 states in this data"
   ]
  },
  {
   "cell_type": "code",
   "execution_count": 21,
   "id": "ecf22970-f672-4777-a501-96bd2dda6a72",
   "metadata": {},
   "outputs": [
    {
     "data": {
      "text/html": [
       "<div>\n",
       "<style scoped>\n",
       "    .dataframe tbody tr th:only-of-type {\n",
       "        vertical-align: middle;\n",
       "    }\n",
       "\n",
       "    .dataframe tbody tr th {\n",
       "        vertical-align: top;\n",
       "    }\n",
       "\n",
       "    .dataframe thead th {\n",
       "        text-align: right;\n",
       "    }\n",
       "</style>\n",
       "<table border=\"1\" class=\"dataframe\">\n",
       "  <thead>\n",
       "    <tr style=\"text-align: right;\">\n",
       "      <th></th>\n",
       "      <th>State_Name</th>\n",
       "      <th>District_Name</th>\n",
       "      <th>Crop_Year</th>\n",
       "      <th>Season</th>\n",
       "      <th>Crop</th>\n",
       "      <th>Area</th>\n",
       "      <th>Production</th>\n",
       "    </tr>\n",
       "  </thead>\n",
       "  <tbody>\n",
       "    <tr>\n",
       "      <th>0</th>\n",
       "      <td>Uttar Pradesh</td>\n",
       "      <td>MAU</td>\n",
       "      <td>2001</td>\n",
       "      <td>Kharif</td>\n",
       "      <td>Small millets</td>\n",
       "      <td>98.0</td>\n",
       "      <td>51.0</td>\n",
       "    </tr>\n",
       "    <tr>\n",
       "      <th>1</th>\n",
       "      <td>Odisha</td>\n",
       "      <td>BARGARH</td>\n",
       "      <td>2007</td>\n",
       "      <td>Winter</td>\n",
       "      <td>Sugarcane</td>\n",
       "      <td>742.0</td>\n",
       "      <td>47581.5</td>\n",
       "    </tr>\n",
       "    <tr>\n",
       "      <th>2</th>\n",
       "      <td>Bihar</td>\n",
       "      <td>PURBI CHAMPARAN</td>\n",
       "      <td>2010</td>\n",
       "      <td>Kharif</td>\n",
       "      <td>Mesta</td>\n",
       "      <td>7.0</td>\n",
       "      <td>120.0</td>\n",
       "    </tr>\n",
       "    <tr>\n",
       "      <th>3</th>\n",
       "      <td>Andaman and Nicobar Islands</td>\n",
       "      <td>NORTH AND MIDDLE ANDAMAN</td>\n",
       "      <td>2010</td>\n",
       "      <td>Rabi</td>\n",
       "      <td>Dry chillies</td>\n",
       "      <td>254.0</td>\n",
       "      <td>402.0</td>\n",
       "    </tr>\n",
       "    <tr>\n",
       "      <th>4</th>\n",
       "      <td>Gujarat</td>\n",
       "      <td>SURENDRANAGAR</td>\n",
       "      <td>1997</td>\n",
       "      <td>Kharif</td>\n",
       "      <td>Bajra</td>\n",
       "      <td>85900.0</td>\n",
       "      <td>103000.0</td>\n",
       "    </tr>\n",
       "  </tbody>\n",
       "</table>\n",
       "</div>"
      ],
      "text/plain": [
       "                    State_Name             District_Name  Crop_Year  \\\n",
       "0                Uttar Pradesh                       MAU       2001   \n",
       "1                       Odisha                   BARGARH       2007   \n",
       "2                        Bihar           PURBI CHAMPARAN       2010   \n",
       "3  Andaman and Nicobar Islands  NORTH AND MIDDLE ANDAMAN       2010   \n",
       "4                      Gujarat             SURENDRANAGAR       1997   \n",
       "\n",
       "        Season           Crop     Area  Production  \n",
       "0  Kharif       Small millets     98.0        51.0  \n",
       "1  Winter           Sugarcane    742.0     47581.5  \n",
       "2  Kharif               Mesta      7.0       120.0  \n",
       "3  Rabi          Dry chillies    254.0       402.0  \n",
       "4  Kharif               Bajra  85900.0    103000.0  "
      ]
     },
     "execution_count": 21,
     "metadata": {},
     "output_type": "execute_result"
    }
   ],
   "source": [
    "train.head()"
   ]
  },
  {
   "cell_type": "markdown",
   "id": "ab697ad5-d04a-4f65-8cbc-57f307b42dbf",
   "metadata": {},
   "source": [
    "### EDA (Exporatry Data Analysis)"
   ]
  },
  {
   "cell_type": "code",
   "execution_count": 22,
   "id": "a777f333-95ab-46d3-9d39-a8f209352ebd",
   "metadata": {
    "scrolled": true
   },
   "outputs": [
    {
     "data": {
      "text/html": [
       "<div>\n",
       "<style scoped>\n",
       "    .dataframe tbody tr th:only-of-type {\n",
       "        vertical-align: middle;\n",
       "    }\n",
       "\n",
       "    .dataframe tbody tr th {\n",
       "        vertical-align: top;\n",
       "    }\n",
       "\n",
       "    .dataframe thead th {\n",
       "        text-align: right;\n",
       "    }\n",
       "</style>\n",
       "<table border=\"1\" class=\"dataframe\">\n",
       "  <thead>\n",
       "    <tr style=\"text-align: right;\">\n",
       "      <th></th>\n",
       "      <th>State_Name</th>\n",
       "      <th>Production</th>\n",
       "    </tr>\n",
       "  </thead>\n",
       "  <tbody>\n",
       "    <tr>\n",
       "      <th>15</th>\n",
       "      <td>Kerala</td>\n",
       "      <td>7.592551e+10</td>\n",
       "    </tr>\n",
       "    <tr>\n",
       "      <th>1</th>\n",
       "      <td>Andhra Pradesh</td>\n",
       "      <td>1.400627e+10</td>\n",
       "    </tr>\n",
       "    <tr>\n",
       "      <th>27</th>\n",
       "      <td>Tamil Nadu</td>\n",
       "      <td>9.383089e+09</td>\n",
       "    </tr>\n",
       "    <tr>\n",
       "      <th>30</th>\n",
       "      <td>Uttar Pradesh</td>\n",
       "      <td>2.510232e+09</td>\n",
       "    </tr>\n",
       "    <tr>\n",
       "      <th>3</th>\n",
       "      <td>Assam</td>\n",
       "      <td>1.659829e+09</td>\n",
       "    </tr>\n",
       "    <tr>\n",
       "      <th>32</th>\n",
       "      <td>West Bengal</td>\n",
       "      <td>1.077135e+09</td>\n",
       "    </tr>\n",
       "    <tr>\n",
       "      <th>17</th>\n",
       "      <td>Maharashtra</td>\n",
       "      <td>1.019219e+09</td>\n",
       "    </tr>\n",
       "    <tr>\n",
       "      <th>0</th>\n",
       "      <td>Andaman and Nicobar Islands</td>\n",
       "      <td>6.916703e+08</td>\n",
       "    </tr>\n",
       "    <tr>\n",
       "      <th>14</th>\n",
       "      <td>Karnataka</td>\n",
       "      <td>6.772324e+08</td>\n",
       "    </tr>\n",
       "    <tr>\n",
       "      <th>24</th>\n",
       "      <td>Punjab</td>\n",
       "      <td>4.700334e+08</td>\n",
       "    </tr>\n",
       "  </tbody>\n",
       "</table>\n",
       "</div>"
      ],
      "text/plain": [
       "                     State_Name    Production\n",
       "15                       Kerala  7.592551e+10\n",
       "1                Andhra Pradesh  1.400627e+10\n",
       "27                   Tamil Nadu  9.383089e+09\n",
       "30                Uttar Pradesh  2.510232e+09\n",
       "3                         Assam  1.659829e+09\n",
       "32                  West Bengal  1.077135e+09\n",
       "17                  Maharashtra  1.019219e+09\n",
       "0   Andaman and Nicobar Islands  6.916703e+08\n",
       "14                    Karnataka  6.772324e+08\n",
       "24                       Punjab  4.700334e+08"
      ]
     },
     "execution_count": 22,
     "metadata": {},
     "output_type": "execute_result"
    }
   ],
   "source": [
    " state_wise =train.groupby('State_Name')['Production'].sum().reset_index().sort_values(by='Production',ascending=False).head(10)\n",
    "state_wise"
   ]
  },
  {
   "cell_type": "code",
   "execution_count": 23,
   "id": "35f5af5f-3c17-4611-8f9b-a7ffc8da3fbf",
   "metadata": {},
   "outputs": [
    {
     "data": {
      "image/png": "[encoded data removed]",
      "text/plain": [
       "<Figure size 1600x750 with 1 Axes>"
      ]
     },
     "metadata": {},
     "output_type": "display_data"
    }
   ],
   "source": [
    "plt.figure(figsize=(16, 7.5))\n",
    "sns.barplot(x ='State_Name',y ='Production',data=state_wise)\n",
    "plt.xticks(rotation=90)\n",
    "plt.xlabel('State Name')\n",
    "plt.ylabel('Production')\n",
    "plt.show()"
   ]
  },
  {
   "cell_type": "markdown",
   "id": "439d26f5-8766-487b-b316-1583a7cf5acc",
   "metadata": {},
   "source": [
    "### We can see that Kerela has the highest production, Also we can see that the top 3 states with the highest production over the years are from South India which is Kerala, Andhra Pradesh and Tamil Nadu."
   ]
  },
  {
   "cell_type": "code",
   "execution_count": 24,
   "id": "e9f18358-8f42-4625-b908-a1f4b6411cc1",
   "metadata": {},
   "outputs": [
    {
     "data": {
      "text/plain": [
       "1212000000.0"
      ]
     },
     "execution_count": 24,
     "metadata": {},
     "output_type": "execute_result"
    }
   ],
   "source": [
    "train.Production.max()"
   ]
  },
  {
   "cell_type": "code",
   "execution_count": 25,
   "id": "cdb98d8f-1e5b-410b-9086-e375d7b88b32",
   "metadata": {},
   "outputs": [
    {
     "data": {
      "text/html": [
       "<div>\n",
       "<style scoped>\n",
       "    .dataframe tbody tr th:only-of-type {\n",
       "        vertical-align: middle;\n",
       "    }\n",
       "\n",
       "    .dataframe tbody tr th {\n",
       "        vertical-align: top;\n",
       "    }\n",
       "\n",
       "    .dataframe thead th {\n",
       "        text-align: right;\n",
       "    }\n",
       "</style>\n",
       "<table border=\"1\" class=\"dataframe\">\n",
       "  <thead>\n",
       "    <tr style=\"text-align: right;\">\n",
       "      <th></th>\n",
       "      <th>State_Name</th>\n",
       "      <th>District_Name</th>\n",
       "      <th>Crop_Year</th>\n",
       "      <th>Season</th>\n",
       "      <th>Crop</th>\n",
       "      <th>Area</th>\n",
       "      <th>Production</th>\n",
       "    </tr>\n",
       "  </thead>\n",
       "  <tbody>\n",
       "    <tr>\n",
       "      <th>138510</th>\n",
       "      <td>Tamil Nadu</td>\n",
       "      <td>COIMBATORE</td>\n",
       "      <td>2013</td>\n",
       "      <td>Whole Year</td>\n",
       "      <td>Coconut</td>\n",
       "      <td>84531.0</td>\n",
       "      <td>1.212000e+09</td>\n",
       "    </tr>\n",
       "  </tbody>\n",
       "</table>\n",
       "</div>"
      ],
      "text/plain": [
       "        State_Name District_Name  Crop_Year       Season      Crop     Area  \\\n",
       "138510  Tamil Nadu    COIMBATORE       2013  Whole Year   Coconut   84531.0   \n",
       "\n",
       "          Production  \n",
       "138510  1.212000e+09  "
      ]
     },
     "execution_count": 25,
     "metadata": {},
     "output_type": "execute_result"
    }
   ],
   "source": [
    "train[train.Production==1212000000.0]"
   ]
  },
  {
   "cell_type": "markdown",
   "id": "5c756535-ebac-4112-a26f-4c4ed566591f",
   "metadata": {},
   "source": [
    "### Tamilnadu is the state with the highest production of any crop with 1212 million tonnes or 1.21 billion tonnes of Coconut in the year 2013"
   ]
  },
  {
   "cell_type": "code",
   "execution_count": 26,
   "id": "b53d02db-f7dd-40e9-a140-cae8cc1a8059",
   "metadata": {},
   "outputs": [
    {
     "data": {
      "text/html": [
       "<div>\n",
       "<style scoped>\n",
       "    .dataframe tbody tr th:only-of-type {\n",
       "        vertical-align: middle;\n",
       "    }\n",
       "\n",
       "    .dataframe tbody tr th {\n",
       "        vertical-align: top;\n",
       "    }\n",
       "\n",
       "    .dataframe thead th {\n",
       "        text-align: right;\n",
       "    }\n",
       "</style>\n",
       "<table border=\"1\" class=\"dataframe\">\n",
       "  <thead>\n",
       "    <tr style=\"text-align: right;\">\n",
       "      <th></th>\n",
       "      <th>Crop_Year</th>\n",
       "      <th>Area</th>\n",
       "      <th>Production</th>\n",
       "    </tr>\n",
       "  </thead>\n",
       "  <tbody>\n",
       "    <tr>\n",
       "      <th>count</th>\n",
       "      <td>193911.000000</td>\n",
       "      <td>1.939110e+05</td>\n",
       "      <td>1.939110e+05</td>\n",
       "    </tr>\n",
       "    <tr>\n",
       "      <th>mean</th>\n",
       "      <td>2005.622765</td>\n",
       "      <td>1.221956e+04</td>\n",
       "      <td>5.691737e+05</td>\n",
       "    </tr>\n",
       "    <tr>\n",
       "      <th>std</th>\n",
       "      <td>4.953754</td>\n",
       "      <td>5.346682e+04</td>\n",
       "      <td>1.679175e+07</td>\n",
       "    </tr>\n",
       "    <tr>\n",
       "      <th>min</th>\n",
       "      <td>1997.000000</td>\n",
       "      <td>1.000000e-01</td>\n",
       "      <td>0.000000e+00</td>\n",
       "    </tr>\n",
       "    <tr>\n",
       "      <th>25%</th>\n",
       "      <td>2002.000000</td>\n",
       "      <td>8.700000e+01</td>\n",
       "      <td>8.800000e+01</td>\n",
       "    </tr>\n",
       "    <tr>\n",
       "      <th>50%</th>\n",
       "      <td>2006.000000</td>\n",
       "      <td>6.050000e+02</td>\n",
       "      <td>7.324000e+02</td>\n",
       "    </tr>\n",
       "    <tr>\n",
       "      <th>75%</th>\n",
       "      <td>2010.000000</td>\n",
       "      <td>4.529500e+03</td>\n",
       "      <td>7.050000e+03</td>\n",
       "    </tr>\n",
       "    <tr>\n",
       "      <th>max</th>\n",
       "      <td>2015.000000</td>\n",
       "      <td>8.580100e+06</td>\n",
       "      <td>1.212000e+09</td>\n",
       "    </tr>\n",
       "  </tbody>\n",
       "</table>\n",
       "</div>"
      ],
      "text/plain": [
       "           Crop_Year          Area    Production\n",
       "count  193911.000000  1.939110e+05  1.939110e+05\n",
       "mean     2005.622765  1.221956e+04  5.691737e+05\n",
       "std         4.953754  5.346682e+04  1.679175e+07\n",
       "min      1997.000000  1.000000e-01  0.000000e+00\n",
       "25%      2002.000000  8.700000e+01  8.800000e+01\n",
       "50%      2006.000000  6.050000e+02  7.324000e+02\n",
       "75%      2010.000000  4.529500e+03  7.050000e+03\n",
       "max      2015.000000  8.580100e+06  1.212000e+09"
      ]
     },
     "execution_count": 26,
     "metadata": {},
     "output_type": "execute_result"
    }
   ],
   "source": [
    "train.describe()"
   ]
  },
  {
   "cell_type": "code",
   "execution_count": 27,
   "id": "3b1ddbbc-c76c-4801-933a-e89b31edcb76",
   "metadata": {},
   "outputs": [
    {
     "data": {
      "text/plain": [
       "<Axes: xlabel='Production'>"
      ]
     },
     "execution_count": 27,
     "metadata": {},
     "output_type": "execute_result"
    },
    {
     "data": {
      "image/png": "[encoded data removed]",
      "text/plain": [
       "<Figure size 640x480 with 1 Axes>"
      ]
     },
     "metadata": {},
     "output_type": "display_data"
    }
   ],
   "source": [
    "sns.boxplot(x=train.Production)"
   ]
  },
  {
   "cell_type": "code",
   "execution_count": 28,
   "id": "ed23bc71-5387-4eb1-bd4e-005f9aa7f19d",
   "metadata": {},
   "outputs": [
    {
     "data": {
      "text/html": [
       "<div>\n",
       "<style scoped>\n",
       "    .dataframe tbody tr th:only-of-type {\n",
       "        vertical-align: middle;\n",
       "    }\n",
       "\n",
       "    .dataframe tbody tr th {\n",
       "        vertical-align: top;\n",
       "    }\n",
       "\n",
       "    .dataframe thead th {\n",
       "        text-align: right;\n",
       "    }\n",
       "</style>\n",
       "<table border=\"1\" class=\"dataframe\">\n",
       "  <thead>\n",
       "    <tr style=\"text-align: right;\">\n",
       "      <th></th>\n",
       "      <th>District_Name</th>\n",
       "      <th>Production</th>\n",
       "    </tr>\n",
       "  </thead>\n",
       "  <tbody>\n",
       "    <tr>\n",
       "      <th>334</th>\n",
       "      <td>KOZHIKODE</td>\n",
       "      <td>1.270788e+10</td>\n",
       "    </tr>\n",
       "    <tr>\n",
       "      <th>372</th>\n",
       "      <td>MALAPPURAM</td>\n",
       "      <td>1.017336e+10</td>\n",
       "    </tr>\n",
       "    <tr>\n",
       "      <th>286</th>\n",
       "      <td>KANNUR</td>\n",
       "      <td>9.782848e+09</td>\n",
       "    </tr>\n",
       "    <tr>\n",
       "      <th>587</th>\n",
       "      <td>THIRUVANANTHAPURAM</td>\n",
       "      <td>7.596728e+09</td>\n",
       "    </tr>\n",
       "    <tr>\n",
       "      <th>590</th>\n",
       "      <td>THRISSUR</td>\n",
       "      <td>7.024658e+09</td>\n",
       "    </tr>\n",
       "    <tr>\n",
       "      <th>298</th>\n",
       "      <td>KASARAGOD</td>\n",
       "      <td>6.480635e+09</td>\n",
       "    </tr>\n",
       "    <tr>\n",
       "      <th>172</th>\n",
       "      <td>EAST GODAVARI</td>\n",
       "      <td>6.479130e+09</td>\n",
       "    </tr>\n",
       "    <tr>\n",
       "      <th>326</th>\n",
       "      <td>KOLLAM</td>\n",
       "      <td>4.682748e+09</td>\n",
       "    </tr>\n",
       "    <tr>\n",
       "      <th>437</th>\n",
       "      <td>PALAKKAD</td>\n",
       "      <td>4.461650e+09</td>\n",
       "    </tr>\n",
       "    <tr>\n",
       "      <th>178</th>\n",
       "      <td>ERNAKULAM</td>\n",
       "      <td>4.366461e+09</td>\n",
       "    </tr>\n",
       "  </tbody>\n",
       "</table>\n",
       "</div>"
      ],
      "text/plain": [
       "          District_Name    Production\n",
       "334           KOZHIKODE  1.270788e+10\n",
       "372          MALAPPURAM  1.017336e+10\n",
       "286              KANNUR  9.782848e+09\n",
       "587  THIRUVANANTHAPURAM  7.596728e+09\n",
       "590            THRISSUR  7.024658e+09\n",
       "298           KASARAGOD  6.480635e+09\n",
       "172       EAST GODAVARI  6.479130e+09\n",
       "326              KOLLAM  4.682748e+09\n",
       "437            PALAKKAD  4.461650e+09\n",
       "178           ERNAKULAM  4.366461e+09"
      ]
     },
     "execution_count": 28,
     "metadata": {},
     "output_type": "execute_result"
    }
   ],
   "source": [
    "Top_10_Dist_name=train.groupby('District_Name')['Production'].sum().reset_index().sort_values(by='Production',ascending=False).head(10)\n",
    "Top_10_Dist_name"
   ]
  },
  {
   "cell_type": "code",
   "execution_count": 29,
   "id": "fb6e2ee3-c211-4341-acc3-b697631f6e3a",
   "metadata": {},
   "outputs": [
    {
     "data": {
      "text/plain": [
       "<Axes: xlabel='District_Name', ylabel='Production'>"
      ]
     },
     "execution_count": 29,
     "metadata": {},
     "output_type": "execute_result"
    },
    {
     "data": {
      "image/png": "[encoded data removed]",
      "text/plain": [
       "<Figure size 1400x1000 with 1 Axes>"
      ]
     },
     "metadata": {},
     "output_type": "display_data"
    }
   ],
   "source": [
    "plt.figure(figsize=(14,10))\n",
    "sns.barplot(x='District_Name', y ='Production',data=Top_10_Dist_name)"
   ]
  },
  {
   "cell_type": "code",
   "execution_count": 30,
   "id": "b9bc1fb2-47b4-481a-aff7-392fc6663686",
   "metadata": {},
   "outputs": [
    {
     "data": {
      "text/html": [
       "<div>\n",
       "<style scoped>\n",
       "    .dataframe tbody tr th:only-of-type {\n",
       "        vertical-align: middle;\n",
       "    }\n",
       "\n",
       "    .dataframe tbody tr th {\n",
       "        vertical-align: top;\n",
       "    }\n",
       "\n",
       "    .dataframe thead th {\n",
       "        text-align: right;\n",
       "    }\n",
       "</style>\n",
       "<table border=\"1\" class=\"dataframe\">\n",
       "  <thead>\n",
       "    <tr style=\"text-align: right;\">\n",
       "      <th></th>\n",
       "      <th>State_Name</th>\n",
       "      <th>District_Name</th>\n",
       "      <th>Crop_Year</th>\n",
       "      <th>Season</th>\n",
       "      <th>Crop</th>\n",
       "      <th>Area</th>\n",
       "      <th>Production</th>\n",
       "    </tr>\n",
       "  </thead>\n",
       "  <tbody>\n",
       "    <tr>\n",
       "      <th>0</th>\n",
       "      <td>Uttar Pradesh</td>\n",
       "      <td>MAU</td>\n",
       "      <td>2001</td>\n",
       "      <td>Kharif</td>\n",
       "      <td>Small millets</td>\n",
       "      <td>98.0</td>\n",
       "      <td>51.0</td>\n",
       "    </tr>\n",
       "    <tr>\n",
       "      <th>1</th>\n",
       "      <td>Odisha</td>\n",
       "      <td>BARGARH</td>\n",
       "      <td>2007</td>\n",
       "      <td>Winter</td>\n",
       "      <td>Sugarcane</td>\n",
       "      <td>742.0</td>\n",
       "      <td>47581.5</td>\n",
       "    </tr>\n",
       "    <tr>\n",
       "      <th>2</th>\n",
       "      <td>Bihar</td>\n",
       "      <td>PURBI CHAMPARAN</td>\n",
       "      <td>2010</td>\n",
       "      <td>Kharif</td>\n",
       "      <td>Mesta</td>\n",
       "      <td>7.0</td>\n",
       "      <td>120.0</td>\n",
       "    </tr>\n",
       "  </tbody>\n",
       "</table>\n",
       "</div>"
      ],
      "text/plain": [
       "      State_Name    District_Name  Crop_Year       Season           Crop  \\\n",
       "0  Uttar Pradesh              MAU       2001  Kharif       Small millets   \n",
       "1         Odisha          BARGARH       2007  Winter           Sugarcane   \n",
       "2          Bihar  PURBI CHAMPARAN       2010  Kharif               Mesta   \n",
       "\n",
       "    Area  Production  \n",
       "0   98.0        51.0  \n",
       "1  742.0     47581.5  \n",
       "2    7.0       120.0  "
      ]
     },
     "execution_count": 30,
     "metadata": {},
     "output_type": "execute_result"
    }
   ],
   "source": [
    "train.head(3)"
   ]
  },
  {
   "cell_type": "code",
   "execution_count": 31,
   "id": "84d2483b-9162-4936-b880-d73c74997be0",
   "metadata": {},
   "outputs": [
    {
     "data": {
      "text/plain": [
       "State_Name                   Crop_Year\n",
       "Andaman and Nicobar Islands  2000         89056802.00\n",
       "                             2001         89688482.00\n",
       "                             2002         94336372.95\n",
       "                             2003         95289831.93\n",
       "                             2004         87183542.78\n",
       "                                             ...     \n",
       "West Bengal                  2010         30636857.00\n",
       "                             2011         29346743.00\n",
       "                             2012         29718358.00\n",
       "                             2013         23904531.00\n",
       "                             2014         28921018.00\n",
       "Name: Production, Length: 519, dtype: float64"
      ]
     },
     "execution_count": 31,
     "metadata": {},
     "output_type": "execute_result"
    }
   ],
   "source": [
    "train.groupby(['State_Name','Crop_Year'])['Production'].sum()"
   ]
  },
  {
   "cell_type": "code",
   "execution_count": 32,
   "id": "f148adeb-44e7-44a6-b2ab-8a69074e81d1",
   "metadata": {},
   "outputs": [
    {
     "data": {
      "text/plain": [
       "<Axes: xlabel='Crop_Year', ylabel='count'>"
      ]
     },
     "execution_count": 32,
     "metadata": {},
     "output_type": "execute_result"
    },
    {
     "data": {
      "image/png": "[encoded data removed]",
      "text/plain": [
       "<Figure size 1200x800 with 1 Axes>"
      ]
     },
     "metadata": {},
     "output_type": "display_data"
    }
   ],
   "source": [
    "plt.figure(figsize=(12,8))\n",
    "sns.countplot(x='Crop_Year',data=train)"
   ]
  },
  {
   "cell_type": "markdown",
   "id": "3f6cd3f1-d9ec-4889-8538-0a90179434a1",
   "metadata": {},
   "source": [
    "### 2002-2003 was the year when most of the crops were cultivated in India"
   ]
  },
  {
   "cell_type": "code",
   "execution_count": 33,
   "id": "da582d2c-a00f-4383-bdf4-4f32d8dd9fa1",
   "metadata": {},
   "outputs": [
    {
     "data": {
      "text/plain": [
       "Season\n",
       "Kharif         75607\n",
       "Rabi           52885\n",
       "Whole Year     44833\n",
       "Summer         11868\n",
       "Winter          4807\n",
       "Autumn          3911\n",
       "Name: count, dtype: int64"
      ]
     },
     "execution_count": 33,
     "metadata": {},
     "output_type": "execute_result"
    }
   ],
   "source": [
    "train.Season.value_counts()"
   ]
  },
  {
   "cell_type": "code",
   "execution_count": 34,
   "id": "085c777d-6b4b-4bdc-be6d-db66a46cfbf3",
   "metadata": {},
   "outputs": [
    {
     "data": {
      "text/plain": [
       "<Axes: xlabel='Season', ylabel='count'>"
      ]
     },
     "execution_count": 34,
     "metadata": {},
     "output_type": "execute_result"
    },
    {
     "data": {
      "image/png": "[encoded data removed]",
      "text/plain": [
       "<Figure size 1000x700 with 1 Axes>"
      ]
     },
     "metadata": {},
     "output_type": "display_data"
    }
   ],
   "source": [
    "plt.figure(figsize=(10,7))\n",
    "sns.countplot(x='Season',data=train)"
   ]
  },
  {
   "cell_type": "code",
   "execution_count": 35,
   "id": "6161062b-af87-4397-bc1e-e9dd056a0614",
   "metadata": {},
   "outputs": [
    {
     "data": {
      "text/plain": [
       "<Axes: xlabel='Season', ylabel='Production'>"
      ]
     },
     "execution_count": 35,
     "metadata": {},
     "output_type": "execute_result"
    },
    {
     "data": {
      "image/png": "[encoded data removed]",
      "text/plain": [
       "<Figure size 700x500 with 1 Axes>"
      ]
     },
     "metadata": {},
     "output_type": "display_data"
    }
   ],
   "source": [
    "plt.figure(figsize=(7,5))\n",
    "sns.barplot(data=train,x='Season',y='Production')"
   ]
  },
  {
   "cell_type": "markdown",
   "id": "d827fa45-643c-4788-909e-3928d5c84a5e",
   "metadata": {},
   "source": [
    "### Whole Year season seems to have more crop production as compared to other seasons in a year"
   ]
  },
  {
   "cell_type": "code",
   "execution_count": 36,
   "id": "875e2c5d-07de-4366-8f27-5b83c585d481",
   "metadata": {},
   "outputs": [
    {
     "data": {
      "text/plain": [
       "Crop_Year\n",
       "1997    6.600030e+08\n",
       "1998    5.423444e+09\n",
       "1999    4.329153e+09\n",
       "2000    6.827786e+09\n",
       "2001    5.694394e+09\n",
       "2002    6.985247e+09\n",
       "2003    7.282209e+09\n",
       "2004    5.667680e+09\n",
       "2005    5.884658e+09\n",
       "2006    6.893278e+09\n",
       "2007    6.534500e+09\n",
       "2008    6.016735e+09\n",
       "2009    6.529722e+09\n",
       "2010    3.565708e+09\n",
       "2011    1.113367e+10\n",
       "2012    6.326423e+09\n",
       "2013    9.234936e+09\n",
       "2014    5.374366e+09\n",
       "2015    5.132184e+06\n",
       "Name: Production, dtype: float64"
      ]
     },
     "execution_count": 36,
     "metadata": {},
     "output_type": "execute_result"
    }
   ],
   "source": [
    "train.groupby('Crop_Year')['Production'].sum()"
   ]
  },
  {
   "cell_type": "code",
   "execution_count": 37,
   "id": "f9afab3f-10e3-4b56-b679-de388f404958",
   "metadata": {},
   "outputs": [
    {
     "data": {
      "text/plain": [
       "<Axes: xlabel='Crop_Year', ylabel='Production'>"
      ]
     },
     "execution_count": 37,
     "metadata": {},
     "output_type": "execute_result"
    },
    {
     "data": {
      "image/png": "[encoded data removed]",
      "text/plain": [
       "<Figure size 1200x800 with 1 Axes>"
      ]
     },
     "metadata": {},
     "output_type": "display_data"
    }
   ],
   "source": [
    "plt.figure(figsize=(12,8))\n",
    "sns.barplot(x='Crop_Year',y='Production',data=train)"
   ]
  },
  {
   "cell_type": "markdown",
   "id": "01fa175f-8487-433f-9e56-f5bc32e72fcb",
   "metadata": {},
   "source": [
    "### We conclude that the year 2002-2003 was the year most crops were cultivated, but the years 2011 and then 2013 happen to be the year which saw the highest Production of the crops."
   ]
  },
  {
   "cell_type": "code",
   "execution_count": 38,
   "id": "776fcf78-2f35-4968-bfac-9c27fb4b293b",
   "metadata": {},
   "outputs": [
    {
     "data": {
      "text/html": [
       "<div>\n",
       "<style scoped>\n",
       "    .dataframe tbody tr th:only-of-type {\n",
       "        vertical-align: middle;\n",
       "    }\n",
       "\n",
       "    .dataframe tbody tr th {\n",
       "        vertical-align: top;\n",
       "    }\n",
       "\n",
       "    .dataframe thead th {\n",
       "        text-align: right;\n",
       "    }\n",
       "</style>\n",
       "<table border=\"1\" class=\"dataframe\">\n",
       "  <thead>\n",
       "    <tr style=\"text-align: right;\">\n",
       "      <th></th>\n",
       "      <th>State_Name</th>\n",
       "      <th>District_Name</th>\n",
       "      <th>Crop_Year</th>\n",
       "      <th>Season</th>\n",
       "      <th>Crop</th>\n",
       "      <th>Area</th>\n",
       "      <th>Production</th>\n",
       "    </tr>\n",
       "  </thead>\n",
       "  <tbody>\n",
       "  </tbody>\n",
       "</table>\n",
       "</div>"
      ],
      "text/plain": [
       "Empty DataFrame\n",
       "Columns: [State_Name, District_Name, Crop_Year, Season, Crop, Area, Production]\n",
       "Index: []"
      ]
     },
     "execution_count": 38,
     "metadata": {},
     "output_type": "execute_result"
    }
   ],
   "source": [
    "train[train['Crop'] == 'Coconut']"
   ]
  },
  {
   "cell_type": "code",
   "execution_count": 39,
   "id": "cb8a96ed-b7c1-4613-b162-c13cf27f9228",
   "metadata": {},
   "outputs": [
    {
     "data": {
      "text/html": [
       "<div>\n",
       "<style scoped>\n",
       "    .dataframe tbody tr th:only-of-type {\n",
       "        vertical-align: middle;\n",
       "    }\n",
       "\n",
       "    .dataframe tbody tr th {\n",
       "        vertical-align: top;\n",
       "    }\n",
       "\n",
       "    .dataframe thead th {\n",
       "        text-align: right;\n",
       "    }\n",
       "</style>\n",
       "<table border=\"1\" class=\"dataframe\">\n",
       "  <thead>\n",
       "    <tr style=\"text-align: right;\">\n",
       "      <th></th>\n",
       "      <th>Crop</th>\n",
       "      <th>Production</th>\n",
       "    </tr>\n",
       "  </thead>\n",
       "  <tbody>\n",
       "    <tr>\n",
       "      <th>28</th>\n",
       "      <td>Coconut</td>\n",
       "      <td>1.014975e+11</td>\n",
       "    </tr>\n",
       "    <tr>\n",
       "      <th>106</th>\n",
       "      <td>Sugarcane</td>\n",
       "      <td>4.345243e+09</td>\n",
       "    </tr>\n",
       "    <tr>\n",
       "      <th>95</th>\n",
       "      <td>Rice</td>\n",
       "      <td>1.290792e+09</td>\n",
       "    </tr>\n",
       "    <tr>\n",
       "      <th>119</th>\n",
       "      <td>Wheat</td>\n",
       "      <td>1.068390e+09</td>\n",
       "    </tr>\n",
       "    <tr>\n",
       "      <th>87</th>\n",
       "      <td>Potato</td>\n",
       "      <td>3.341382e+08</td>\n",
       "    </tr>\n",
       "    <tr>\n",
       "      <th>33</th>\n",
       "      <td>Cotton(lint)</td>\n",
       "      <td>2.323552e+08</td>\n",
       "    </tr>\n",
       "    <tr>\n",
       "      <th>59</th>\n",
       "      <td>Maize</td>\n",
       "      <td>2.176327e+08</td>\n",
       "    </tr>\n",
       "    <tr>\n",
       "      <th>49</th>\n",
       "      <td>Jute</td>\n",
       "      <td>1.424333e+08</td>\n",
       "    </tr>\n",
       "    <tr>\n",
       "      <th>7</th>\n",
       "      <td>Banana</td>\n",
       "      <td>1.190432e+08</td>\n",
       "    </tr>\n",
       "    <tr>\n",
       "      <th>105</th>\n",
       "      <td>Soyabean</td>\n",
       "      <td>1.142944e+08</td>\n",
       "    </tr>\n",
       "  </tbody>\n",
       "</table>\n",
       "</div>"
      ],
      "text/plain": [
       "             Crop    Production\n",
       "28       Coconut   1.014975e+11\n",
       "106     Sugarcane  4.345243e+09\n",
       "95           Rice  1.290792e+09\n",
       "119         Wheat  1.068390e+09\n",
       "87         Potato  3.341382e+08\n",
       "33   Cotton(lint)  2.323552e+08\n",
       "59          Maize  2.176327e+08\n",
       "49           Jute  1.424333e+08\n",
       "7          Banana  1.190432e+08\n",
       "105      Soyabean  1.142944e+08"
      ]
     },
     "execution_count": 39,
     "metadata": {},
     "output_type": "execute_result"
    }
   ],
   "source": [
    "Top_10_Crop_name=train.groupby('Crop')['Production'].sum().reset_index().sort_values(by='Production',ascending=False).head(10)\n",
    "Top_10_Crop_name"
   ]
  },
  {
   "cell_type": "code",
   "execution_count": 40,
   "id": "7341305e-a963-4490-8e47-bd7c723b51ea",
   "metadata": {},
   "outputs": [
    {
     "data": {
      "text/plain": [
       "<Axes: xlabel='Crop', ylabel='Production'>"
      ]
     },
     "execution_count": 40,
     "metadata": {},
     "output_type": "execute_result"
    },
    {
     "data": {
      "image/png": "[encoded data removed]",
      "text/plain": [
       "<Figure size 1400x1000 with 1 Axes>"
      ]
     },
     "metadata": {},
     "output_type": "display_data"
    }
   ],
   "source": [
    "plt.figure(figsize=(14,10))\n",
    "sns.barplot(x='Crop', y ='Production',data=Top_10_Crop_name)"
   ]
  },
  {
   "cell_type": "markdown",
   "id": "a59baf91-a4cb-4b02-bdb4-61e09599108f",
   "metadata": {},
   "source": [
    "### We can see that the production of Coconut is very high as compared to other crops production and Soyabean has the lowest production."
   ]
  },
  {
   "cell_type": "code",
   "execution_count": 41,
   "id": "c9674c3b-c866-4590-8572-2983328699c8",
   "metadata": {},
   "outputs": [
    {
     "data": {
      "text/html": [
       "<div>\n",
       "<style scoped>\n",
       "    .dataframe tbody tr th:only-of-type {\n",
       "        vertical-align: middle;\n",
       "    }\n",
       "\n",
       "    .dataframe tbody tr th {\n",
       "        vertical-align: top;\n",
       "    }\n",
       "\n",
       "    .dataframe thead th {\n",
       "        text-align: right;\n",
       "    }\n",
       "</style>\n",
       "<table border=\"1\" class=\"dataframe\">\n",
       "  <thead>\n",
       "    <tr style=\"text-align: right;\">\n",
       "      <th></th>\n",
       "      <th>State_Name</th>\n",
       "      <th>District_Name</th>\n",
       "      <th>Crop_Year</th>\n",
       "      <th>Season</th>\n",
       "      <th>Crop</th>\n",
       "      <th>Area</th>\n",
       "      <th>Production</th>\n",
       "    </tr>\n",
       "  </thead>\n",
       "  <tbody>\n",
       "    <tr>\n",
       "      <th>0</th>\n",
       "      <td>Uttar Pradesh</td>\n",
       "      <td>MAU</td>\n",
       "      <td>2001</td>\n",
       "      <td>Kharif</td>\n",
       "      <td>Small millets</td>\n",
       "      <td>98.0</td>\n",
       "      <td>51.0</td>\n",
       "    </tr>\n",
       "    <tr>\n",
       "      <th>1</th>\n",
       "      <td>Odisha</td>\n",
       "      <td>BARGARH</td>\n",
       "      <td>2007</td>\n",
       "      <td>Winter</td>\n",
       "      <td>Sugarcane</td>\n",
       "      <td>742.0</td>\n",
       "      <td>47581.5</td>\n",
       "    </tr>\n",
       "    <tr>\n",
       "      <th>2</th>\n",
       "      <td>Bihar</td>\n",
       "      <td>PURBI CHAMPARAN</td>\n",
       "      <td>2010</td>\n",
       "      <td>Kharif</td>\n",
       "      <td>Mesta</td>\n",
       "      <td>7.0</td>\n",
       "      <td>120.0</td>\n",
       "    </tr>\n",
       "  </tbody>\n",
       "</table>\n",
       "</div>"
      ],
      "text/plain": [
       "      State_Name    District_Name  Crop_Year       Season           Crop  \\\n",
       "0  Uttar Pradesh              MAU       2001  Kharif       Small millets   \n",
       "1         Odisha          BARGARH       2007  Winter           Sugarcane   \n",
       "2          Bihar  PURBI CHAMPARAN       2010  Kharif               Mesta   \n",
       "\n",
       "    Area  Production  \n",
       "0   98.0        51.0  \n",
       "1  742.0     47581.5  \n",
       "2    7.0       120.0  "
      ]
     },
     "execution_count": 41,
     "metadata": {},
     "output_type": "execute_result"
    }
   ],
   "source": [
    "train.head(3)"
   ]
  },
  {
   "cell_type": "code",
   "execution_count": 42,
   "id": "d7bedeff-26a5-4fa2-8a9a-e648582bda2d",
   "metadata": {},
   "outputs": [
    {
     "data": {
      "text/plain": [
       "Area\n",
       "0.10                0.08\n",
       "0.20                0.50\n",
       "0.24                2.00\n",
       "0.29                3.00\n",
       "0.50                0.20\n",
       "                 ...    \n",
       "4205800.00    3183800.00\n",
       "4307200.00    3632200.00\n",
       "5251200.00    3519600.00\n",
       "5544000.00    4485800.00\n",
       "8580100.00    7556300.00\n",
       "Name: Production, Length: 33250, dtype: float64"
      ]
     },
     "execution_count": 42,
     "metadata": {},
     "output_type": "execute_result"
    }
   ],
   "source": [
    "train.groupby('Area')['Production'].max()"
   ]
  },
  {
   "cell_type": "code",
   "execution_count": 43,
   "id": "20affab0-4f6a-45da-92cd-53b237b2f295",
   "metadata": {},
   "outputs": [
    {
     "data": {
      "text/html": [
       "<div>\n",
       "<style scoped>\n",
       "    .dataframe tbody tr th:only-of-type {\n",
       "        vertical-align: middle;\n",
       "    }\n",
       "\n",
       "    .dataframe tbody tr th {\n",
       "        vertical-align: top;\n",
       "    }\n",
       "\n",
       "    .dataframe thead th {\n",
       "        text-align: right;\n",
       "    }\n",
       "</style>\n",
       "<table border=\"1\" class=\"dataframe\">\n",
       "  <thead>\n",
       "    <tr style=\"text-align: right;\">\n",
       "      <th></th>\n",
       "      <th>State_Name</th>\n",
       "      <th>District_Name</th>\n",
       "      <th>Crop_Year</th>\n",
       "      <th>Season</th>\n",
       "      <th>Crop</th>\n",
       "      <th>Area</th>\n",
       "      <th>Production</th>\n",
       "    </tr>\n",
       "  </thead>\n",
       "  <tbody>\n",
       "    <tr>\n",
       "      <th>338</th>\n",
       "      <td>Karnataka</td>\n",
       "      <td>BELGAUM</td>\n",
       "      <td>1998</td>\n",
       "      <td>Whole Year</td>\n",
       "      <td>Coconut</td>\n",
       "      <td>207.0</td>\n",
       "      <td>890.0</td>\n",
       "    </tr>\n",
       "    <tr>\n",
       "      <th>389</th>\n",
       "      <td>West Bengal</td>\n",
       "      <td>JALPAIGURI</td>\n",
       "      <td>1997</td>\n",
       "      <td>Whole Year</td>\n",
       "      <td>Coconut</td>\n",
       "      <td>1130.0</td>\n",
       "      <td>15255.0</td>\n",
       "    </tr>\n",
       "    <tr>\n",
       "      <th>401</th>\n",
       "      <td>Assam</td>\n",
       "      <td>KAMRUP</td>\n",
       "      <td>2012</td>\n",
       "      <td>Whole Year</td>\n",
       "      <td>Coconut</td>\n",
       "      <td>1435.0</td>\n",
       "      <td>7425.0</td>\n",
       "    </tr>\n",
       "    <tr>\n",
       "      <th>418</th>\n",
       "      <td>Assam</td>\n",
       "      <td>MARIGAON</td>\n",
       "      <td>2013</td>\n",
       "      <td>Whole Year</td>\n",
       "      <td>Coconut</td>\n",
       "      <td>750.0</td>\n",
       "      <td>5130.0</td>\n",
       "    </tr>\n",
       "    <tr>\n",
       "      <th>613</th>\n",
       "      <td>Karnataka</td>\n",
       "      <td>UDUPI</td>\n",
       "      <td>2006</td>\n",
       "      <td>Whole Year</td>\n",
       "      <td>Coconut</td>\n",
       "      <td>14976.0</td>\n",
       "      <td>63931.0</td>\n",
       "    </tr>\n",
       "    <tr>\n",
       "      <th>...</th>\n",
       "      <td>...</td>\n",
       "      <td>...</td>\n",
       "      <td>...</td>\n",
       "      <td>...</td>\n",
       "      <td>...</td>\n",
       "      <td>...</td>\n",
       "      <td>...</td>\n",
       "    </tr>\n",
       "    <tr>\n",
       "      <th>196407</th>\n",
       "      <td>Assam</td>\n",
       "      <td>DIBRUGARH</td>\n",
       "      <td>2008</td>\n",
       "      <td>Whole Year</td>\n",
       "      <td>Coconut</td>\n",
       "      <td>30.0</td>\n",
       "      <td>50000.0</td>\n",
       "    </tr>\n",
       "    <tr>\n",
       "      <th>196499</th>\n",
       "      <td>West Bengal</td>\n",
       "      <td>HOOGHLY</td>\n",
       "      <td>1999</td>\n",
       "      <td>Whole Year</td>\n",
       "      <td>Coconut</td>\n",
       "      <td>1150.0</td>\n",
       "      <td>23000.0</td>\n",
       "    </tr>\n",
       "    <tr>\n",
       "      <th>196676</th>\n",
       "      <td>Karnataka</td>\n",
       "      <td>KOLAR</td>\n",
       "      <td>2002</td>\n",
       "      <td>Whole Year</td>\n",
       "      <td>Coconut</td>\n",
       "      <td>2101.0</td>\n",
       "      <td>7523.0</td>\n",
       "    </tr>\n",
       "    <tr>\n",
       "      <th>196734</th>\n",
       "      <td>Karnataka</td>\n",
       "      <td>RAMANAGARA</td>\n",
       "      <td>2010</td>\n",
       "      <td>Whole Year</td>\n",
       "      <td>Coconut</td>\n",
       "      <td>14982.0</td>\n",
       "      <td>143220.0</td>\n",
       "    </tr>\n",
       "    <tr>\n",
       "      <th>196863</th>\n",
       "      <td>Assam</td>\n",
       "      <td>MARIGAON</td>\n",
       "      <td>2012</td>\n",
       "      <td>Whole Year</td>\n",
       "      <td>Coconut</td>\n",
       "      <td>935.0</td>\n",
       "      <td>9230.0</td>\n",
       "    </tr>\n",
       "  </tbody>\n",
       "</table>\n",
       "<p>1553 rows × 7 columns</p>\n",
       "</div>"
      ],
      "text/plain": [
       "         State_Name District_Name  Crop_Year       Season      Crop     Area  \\\n",
       "338       Karnataka       BELGAUM       1998  Whole Year   Coconut     207.0   \n",
       "389     West Bengal    JALPAIGURI       1997  Whole Year   Coconut    1130.0   \n",
       "401           Assam        KAMRUP       2012  Whole Year   Coconut    1435.0   \n",
       "418           Assam      MARIGAON       2013  Whole Year   Coconut     750.0   \n",
       "613       Karnataka         UDUPI       2006  Whole Year   Coconut   14976.0   \n",
       "...             ...           ...        ...          ...       ...      ...   \n",
       "196407        Assam     DIBRUGARH       2008  Whole Year   Coconut      30.0   \n",
       "196499  West Bengal       HOOGHLY       1999  Whole Year   Coconut    1150.0   \n",
       "196676    Karnataka         KOLAR       2002  Whole Year   Coconut    2101.0   \n",
       "196734    Karnataka    RAMANAGARA       2010  Whole Year   Coconut   14982.0   \n",
       "196863        Assam      MARIGAON       2012  Whole Year   Coconut     935.0   \n",
       "\n",
       "        Production  \n",
       "338          890.0  \n",
       "389        15255.0  \n",
       "401         7425.0  \n",
       "418         5130.0  \n",
       "613        63931.0  \n",
       "...            ...  \n",
       "196407     50000.0  \n",
       "196499     23000.0  \n",
       "196676      7523.0  \n",
       "196734    143220.0  \n",
       "196863      9230.0  \n",
       "\n",
       "[1553 rows x 7 columns]"
      ]
     },
     "execution_count": 43,
     "metadata": {},
     "output_type": "execute_result"
    }
   ],
   "source": [
    "Coconut =train[train.Crop=='Coconut ']\n",
    "Coconut"
   ]
  },
  {
   "cell_type": "code",
   "execution_count": 44,
   "id": "87cb8a3b-cd50-454b-af23-65d5e409a8ae",
   "metadata": {},
   "outputs": [
    {
     "data": {
      "text/plain": [
       "<Axes: xlabel='Production', ylabel='State_Name'>"
      ]
     },
     "execution_count": 44,
     "metadata": {},
     "output_type": "execute_result"
    },
    {
     "data": {
      "image/png": "[encoded data removed]",
      "text/plain": [
       "<Figure size 640x480 with 1 Axes>"
      ]
     },
     "metadata": {},
     "output_type": "display_data"
    }
   ],
   "source": [
    "sns.barplot(y='State_Name',x='Production',data=Coconut)"
   ]
  },
  {
   "cell_type": "markdown",
   "id": "126df34f-6b9b-4aca-a137-e155ea0efb67",
   "metadata": {},
   "source": [
    "### We can see that Coconut is not only produced in Kerala but also in some other States like Andhra Pradesh, Tamil Nadu and Goa also \n",
    "### But the production was highest in Kerala only."
   ]
  },
  {
   "cell_type": "code",
   "execution_count": 45,
   "id": "cb7ed9a5-dbf4-4836-b795-8dd8675e8f13",
   "metadata": {},
   "outputs": [
    {
     "data": {
      "text/plain": [
       "<Axes: xlabel='Area', ylabel='Production'>"
      ]
     },
     "execution_count": 45,
     "metadata": {},
     "output_type": "execute_result"
    },
    {
     "data": {
      "image/png": "[encoded data removed]",
      "text/plain": [
       "<Figure size 640x480 with 1 Axes>"
      ]
     },
     "metadata": {},
     "output_type": "display_data"
    }
   ],
   "source": [
    "sns.scatterplot(data=Coconut,x='Area',y='Production')"
   ]
  },
  {
   "cell_type": "markdown",
   "id": "9923d8a6-c0be-4b7e-bbe4-d0feadb0d68a",
   "metadata": {},
   "source": [
    "### Coconut production has increased over the years which suggests that the favourable conditions for its growth has been increasing in India every year in different places."
   ]
  },
  {
   "cell_type": "code",
   "execution_count": 46,
   "id": "202556b7-7f55-4b06-968d-1881efc8fc54",
   "metadata": {},
   "outputs": [
    {
     "data": {
      "text/plain": [
       "<Axes: xlabel='Crop_Year', ylabel='Production'>"
      ]
     },
     "execution_count": 46,
     "metadata": {},
     "output_type": "execute_result"
    },
    {
     "data": {
      "image/png": "[encoded data removed]",
      "text/plain": [
       "<Figure size 1200x800 with 1 Axes>"
      ]
     },
     "metadata": {},
     "output_type": "display_data"
    }
   ],
   "source": [
    "plt.figure(figsize=(12,8))\n",
    "sns.barplot(x='Crop_Year',y='Production',data=Coconut)"
   ]
  },
  {
   "cell_type": "markdown",
   "id": "9eeb1041-34a7-4115-9432-04bb9dfec6f9",
   "metadata": {},
   "source": [
    "### The Production of Coconut has been increasing since 2011 in India."
   ]
  },
  {
   "cell_type": "code",
   "execution_count": 47,
   "id": "25db1aa2-d690-48dc-8af2-3c41106a8205",
   "metadata": {},
   "outputs": [
    {
     "data": {
      "text/html": [
       "<div>\n",
       "<style scoped>\n",
       "    .dataframe tbody tr th:only-of-type {\n",
       "        vertical-align: middle;\n",
       "    }\n",
       "\n",
       "    .dataframe tbody tr th {\n",
       "        vertical-align: top;\n",
       "    }\n",
       "\n",
       "    .dataframe thead th {\n",
       "        text-align: right;\n",
       "    }\n",
       "</style>\n",
       "<table border=\"1\" class=\"dataframe\">\n",
       "  <thead>\n",
       "    <tr style=\"text-align: right;\">\n",
       "      <th></th>\n",
       "      <th>State_Name</th>\n",
       "      <th>Area</th>\n",
       "    </tr>\n",
       "  </thead>\n",
       "  <tbody>\n",
       "    <tr>\n",
       "      <th>30</th>\n",
       "      <td>Uttar Pradesh</td>\n",
       "      <td>3.447892e+08</td>\n",
       "    </tr>\n",
       "    <tr>\n",
       "      <th>16</th>\n",
       "      <td>Madhya Pradesh</td>\n",
       "      <td>2.634951e+08</td>\n",
       "    </tr>\n",
       "    <tr>\n",
       "      <th>17</th>\n",
       "      <td>Maharashtra</td>\n",
       "      <td>2.577138e+08</td>\n",
       "    </tr>\n",
       "    <tr>\n",
       "      <th>25</th>\n",
       "      <td>Rajasthan</td>\n",
       "      <td>2.168102e+08</td>\n",
       "    </tr>\n",
       "    <tr>\n",
       "      <th>32</th>\n",
       "      <td>West Bengal</td>\n",
       "      <td>1.856551e+08</td>\n",
       "    </tr>\n",
       "    <tr>\n",
       "      <th>14</th>\n",
       "      <td>Karnataka</td>\n",
       "      <td>1.619662e+08</td>\n",
       "    </tr>\n",
       "    <tr>\n",
       "      <th>9</th>\n",
       "      <td>Gujarat</td>\n",
       "      <td>1.212664e+08</td>\n",
       "    </tr>\n",
       "    <tr>\n",
       "      <th>1</th>\n",
       "      <td>Andhra Pradesh</td>\n",
       "      <td>1.049960e+08</td>\n",
       "    </tr>\n",
       "    <tr>\n",
       "      <th>4</th>\n",
       "      <td>Bihar</td>\n",
       "      <td>1.037301e+08</td>\n",
       "    </tr>\n",
       "    <tr>\n",
       "      <th>24</th>\n",
       "      <td>Punjab</td>\n",
       "      <td>1.022087e+08</td>\n",
       "    </tr>\n",
       "  </tbody>\n",
       "</table>\n",
       "</div>"
      ],
      "text/plain": [
       "        State_Name          Area\n",
       "30   Uttar Pradesh  3.447892e+08\n",
       "16  Madhya Pradesh  2.634951e+08\n",
       "17     Maharashtra  2.577138e+08\n",
       "25       Rajasthan  2.168102e+08\n",
       "32     West Bengal  1.856551e+08\n",
       "14       Karnataka  1.619662e+08\n",
       "9          Gujarat  1.212664e+08\n",
       "1   Andhra Pradesh  1.049960e+08\n",
       "4            Bihar  1.037301e+08\n",
       "24          Punjab  1.022087e+08"
      ]
     },
     "execution_count": 47,
     "metadata": {},
     "output_type": "execute_result"
    }
   ],
   "source": [
    "Top_10_state_area_wise =train.groupby('State_Name')['Area'].sum().reset_index().sort_values(by='Area',ascending=False).head(10)\n",
    "Top_10_state_area_wise"
   ]
  },
  {
   "cell_type": "code",
   "execution_count": 48,
   "id": "2cab3cfd-0d4e-49f1-a0b8-cfb93bbf97ba",
   "metadata": {},
   "outputs": [
    {
     "data": {
      "text/plain": [
       "<Axes: xlabel='State_Name', ylabel='Area'>"
      ]
     },
     "execution_count": 48,
     "metadata": {},
     "output_type": "execute_result"
    },
    {
     "data": {
      "image/png": "[encoded data removed]",
      "text/plain": [
       "<Figure size 1400x1000 with 1 Axes>"
      ]
     },
     "metadata": {},
     "output_type": "display_data"
    }
   ],
   "source": [
    "plt.figure(figsize=(14,10))\n",
    "sns.barplot(x='State_Name', y ='Area',data=Top_10_state_area_wise)"
   ]
  },
  {
   "cell_type": "markdown",
   "id": "76c57920-1aa8-42f5-baac-b7c69cbe3e03",
   "metadata": {},
   "source": [
    "### We can see that Uttar Pradesh have more Areas as compared to other states followed by Madhya Pradesh and Maharashtra and the least area Bihar and Punjab have."
   ]
  },
  {
   "cell_type": "code",
   "execution_count": 49,
   "id": "6cc1e79f-854c-4ca9-89fb-b8346d2eb519",
   "metadata": {},
   "outputs": [
    {
     "data": {
      "text/html": [
       "<div>\n",
       "<style scoped>\n",
       "    .dataframe tbody tr th:only-of-type {\n",
       "        vertical-align: middle;\n",
       "    }\n",
       "\n",
       "    .dataframe tbody tr th {\n",
       "        vertical-align: top;\n",
       "    }\n",
       "\n",
       "    .dataframe thead th {\n",
       "        text-align: right;\n",
       "    }\n",
       "</style>\n",
       "<table border=\"1\" class=\"dataframe\">\n",
       "  <thead>\n",
       "    <tr style=\"text-align: right;\">\n",
       "      <th></th>\n",
       "      <th>Area</th>\n",
       "      <th>State_Name</th>\n",
       "      <th>Production</th>\n",
       "    </tr>\n",
       "  </thead>\n",
       "  <tbody>\n",
       "    <tr>\n",
       "      <th>70753</th>\n",
       "      <td>84531.00</td>\n",
       "      <td>Tamil Nadu</td>\n",
       "      <td>1.212000e+09</td>\n",
       "    </tr>\n",
       "    <tr>\n",
       "      <th>72273</th>\n",
       "      <td>102417.00</td>\n",
       "      <td>Kerala</td>\n",
       "      <td>1.125000e+09</td>\n",
       "    </tr>\n",
       "    <tr>\n",
       "      <th>72651</th>\n",
       "      <td>108380.00</td>\n",
       "      <td>Kerala</td>\n",
       "      <td>1.063000e+09</td>\n",
       "    </tr>\n",
       "    <tr>\n",
       "      <th>73853</th>\n",
       "      <td>131061.00</td>\n",
       "      <td>Kerala</td>\n",
       "      <td>1.059000e+09</td>\n",
       "    </tr>\n",
       "    <tr>\n",
       "      <th>73501</th>\n",
       "      <td>123066.00</td>\n",
       "      <td>Kerala</td>\n",
       "      <td>1.001000e+09</td>\n",
       "    </tr>\n",
       "    <tr>\n",
       "      <th>73778</th>\n",
       "      <td>129506.00</td>\n",
       "      <td>Kerala</td>\n",
       "      <td>9.990000e+08</td>\n",
       "    </tr>\n",
       "    <tr>\n",
       "      <th>72504</th>\n",
       "      <td>105789.00</td>\n",
       "      <td>Kerala</td>\n",
       "      <td>9.520000e+08</td>\n",
       "    </tr>\n",
       "    <tr>\n",
       "      <th>72706</th>\n",
       "      <td>109229.36</td>\n",
       "      <td>Kerala</td>\n",
       "      <td>9.467810e+08</td>\n",
       "    </tr>\n",
       "    <tr>\n",
       "      <th>73393</th>\n",
       "      <td>120704.00</td>\n",
       "      <td>Kerala</td>\n",
       "      <td>9.410000e+08</td>\n",
       "    </tr>\n",
       "    <tr>\n",
       "      <th>72392</th>\n",
       "      <td>104178.22</td>\n",
       "      <td>Kerala</td>\n",
       "      <td>9.160530e+08</td>\n",
       "    </tr>\n",
       "  </tbody>\n",
       "</table>\n",
       "</div>"
      ],
      "text/plain": [
       "            Area  State_Name    Production\n",
       "70753   84531.00  Tamil Nadu  1.212000e+09\n",
       "72273  102417.00      Kerala  1.125000e+09\n",
       "72651  108380.00      Kerala  1.063000e+09\n",
       "73853  131061.00      Kerala  1.059000e+09\n",
       "73501  123066.00      Kerala  1.001000e+09\n",
       "73778  129506.00      Kerala  9.990000e+08\n",
       "72504  105789.00      Kerala  9.520000e+08\n",
       "72706  109229.36      Kerala  9.467810e+08\n",
       "73393  120704.00      Kerala  9.410000e+08\n",
       "72392  104178.22      Kerala  9.160530e+08"
      ]
     },
     "execution_count": 49,
     "metadata": {},
     "output_type": "execute_result"
    }
   ],
   "source": [
    "Area =train.groupby(['Area','State_Name'])['Production'].sum().reset_index().sort_values(by='Production',ascending=False).head(10)\n",
    "Area"
   ]
  },
  {
   "cell_type": "code",
   "execution_count": 50,
   "id": "f29b14aa-fa48-4d7c-993e-c189e8a11574",
   "metadata": {},
   "outputs": [
    {
     "data": {
      "text/plain": [
       "<Axes: xlabel='State_Name', ylabel='Area'>"
      ]
     },
     "execution_count": 50,
     "metadata": {},
     "output_type": "execute_result"
    },
    {
     "data": {
      "image/png": "[encoded data removed]",
      "text/plain": [
       "<Figure size 640x480 with 1 Axes>"
      ]
     },
     "metadata": {},
     "output_type": "display_data"
    }
   ],
   "source": [
    "sns.barplot(x='State_Name', y='Area',data=Area)"
   ]
  },
  {
   "cell_type": "markdown",
   "id": "263e554c-e5b0-4537-a44d-b7e493538783",
   "metadata": {},
   "source": [
    "### By seeing this graph we can conclude that even Tamil Nadu is not in the Top 10 Area-wise but still has more production as compared to Uttar Pradesh which has the highest Area."
   ]
  },
  {
   "cell_type": "code",
   "execution_count": 51,
   "id": "a9f26d0c-a31f-49a2-9417-f7dcb7123800",
   "metadata": {},
   "outputs": [
    {
     "data": {
      "text/html": [
       "<div>\n",
       "<style scoped>\n",
       "    .dataframe tbody tr th:only-of-type {\n",
       "        vertical-align: middle;\n",
       "    }\n",
       "\n",
       "    .dataframe tbody tr th {\n",
       "        vertical-align: top;\n",
       "    }\n",
       "\n",
       "    .dataframe thead th {\n",
       "        text-align: right;\n",
       "    }\n",
       "</style>\n",
       "<table border=\"1\" class=\"dataframe\">\n",
       "  <thead>\n",
       "    <tr style=\"text-align: right;\">\n",
       "      <th></th>\n",
       "      <th>State_Name</th>\n",
       "      <th>Production</th>\n",
       "    </tr>\n",
       "  </thead>\n",
       "  <tbody>\n",
       "    <tr>\n",
       "      <th>15</th>\n",
       "      <td>Kerala</td>\n",
       "      <td>7.592551e+10</td>\n",
       "    </tr>\n",
       "    <tr>\n",
       "      <th>1</th>\n",
       "      <td>Andhra Pradesh</td>\n",
       "      <td>1.400627e+10</td>\n",
       "    </tr>\n",
       "    <tr>\n",
       "      <th>27</th>\n",
       "      <td>Tamil Nadu</td>\n",
       "      <td>9.383089e+09</td>\n",
       "    </tr>\n",
       "    <tr>\n",
       "      <th>30</th>\n",
       "      <td>Uttar Pradesh</td>\n",
       "      <td>2.510232e+09</td>\n",
       "    </tr>\n",
       "    <tr>\n",
       "      <th>3</th>\n",
       "      <td>Assam</td>\n",
       "      <td>1.659829e+09</td>\n",
       "    </tr>\n",
       "  </tbody>\n",
       "</table>\n",
       "</div>"
      ],
      "text/plain": [
       "        State_Name    Production\n",
       "15          Kerala  7.592551e+10\n",
       "1   Andhra Pradesh  1.400627e+10\n",
       "27      Tamil Nadu  9.383089e+09\n",
       "30   Uttar Pradesh  2.510232e+09\n",
       "3            Assam  1.659829e+09"
      ]
     },
     "execution_count": 51,
     "metadata": {},
     "output_type": "execute_result"
    }
   ],
   "source": [
    "Production =train.groupby('State_Name')['Production'].sum().reset_index().sort_values('Production',ascending=False).head()\n",
    "Production"
   ]
  },
  {
   "cell_type": "markdown",
   "id": "43af4650-0454-4439-b600-98eca93586a1",
   "metadata": {},
   "source": [
    "#### We can see Kerala have the highest number of crop production in India let analyse Kerala's data first"
   ]
  },
  {
   "cell_type": "code",
   "execution_count": 52,
   "id": "108c5dc8-f65e-4103-882b-11ae7e8f95e6",
   "metadata": {},
   "outputs": [
    {
     "data": {
      "text/html": [
       "<div>\n",
       "<style scoped>\n",
       "    .dataframe tbody tr th:only-of-type {\n",
       "        vertical-align: middle;\n",
       "    }\n",
       "\n",
       "    .dataframe tbody tr th {\n",
       "        vertical-align: top;\n",
       "    }\n",
       "\n",
       "    .dataframe thead th {\n",
       "        text-align: right;\n",
       "    }\n",
       "</style>\n",
       "<table border=\"1\" class=\"dataframe\">\n",
       "  <thead>\n",
       "    <tr style=\"text-align: right;\">\n",
       "      <th></th>\n",
       "      <th>State_Name</th>\n",
       "      <th>District_Name</th>\n",
       "      <th>Crop_Year</th>\n",
       "      <th>Season</th>\n",
       "      <th>Crop</th>\n",
       "      <th>Area</th>\n",
       "      <th>Production</th>\n",
       "    </tr>\n",
       "  </thead>\n",
       "  <tbody>\n",
       "    <tr>\n",
       "      <th>35</th>\n",
       "      <td>Kerala</td>\n",
       "      <td>WAYANAD</td>\n",
       "      <td>2003</td>\n",
       "      <td>Whole Year</td>\n",
       "      <td>Brinjal</td>\n",
       "      <td>8.0</td>\n",
       "      <td>0.0</td>\n",
       "    </tr>\n",
       "    <tr>\n",
       "      <th>82</th>\n",
       "      <td>Kerala</td>\n",
       "      <td>PALAKKAD</td>\n",
       "      <td>2009</td>\n",
       "      <td>Kharif</td>\n",
       "      <td>Jowar</td>\n",
       "      <td>2516.0</td>\n",
       "      <td>1283.0</td>\n",
       "    </tr>\n",
       "    <tr>\n",
       "      <th>131</th>\n",
       "      <td>Kerala</td>\n",
       "      <td>KOZHIKODE</td>\n",
       "      <td>2002</td>\n",
       "      <td>Whole Year</td>\n",
       "      <td>Sweet potato</td>\n",
       "      <td>9.0</td>\n",
       "      <td>103.0</td>\n",
       "    </tr>\n",
       "    <tr>\n",
       "      <th>149</th>\n",
       "      <td>Kerala</td>\n",
       "      <td>KOTTAYAM</td>\n",
       "      <td>2002</td>\n",
       "      <td>Whole Year</td>\n",
       "      <td>Jack Fruit</td>\n",
       "      <td>4501.0</td>\n",
       "      <td>21.0</td>\n",
       "    </tr>\n",
       "    <tr>\n",
       "      <th>225</th>\n",
       "      <td>Kerala</td>\n",
       "      <td>THIRUVANANTHAPURAM</td>\n",
       "      <td>2003</td>\n",
       "      <td>Whole Year</td>\n",
       "      <td>Sweet potato</td>\n",
       "      <td>34.0</td>\n",
       "      <td>385.0</td>\n",
       "    </tr>\n",
       "    <tr>\n",
       "      <th>...</th>\n",
       "      <td>...</td>\n",
       "      <td>...</td>\n",
       "      <td>...</td>\n",
       "      <td>...</td>\n",
       "      <td>...</td>\n",
       "      <td>...</td>\n",
       "      <td>...</td>\n",
       "    </tr>\n",
       "    <tr>\n",
       "      <th>196411</th>\n",
       "      <td>Kerala</td>\n",
       "      <td>PALAKKAD</td>\n",
       "      <td>2005</td>\n",
       "      <td>Whole Year</td>\n",
       "      <td>Black pepper</td>\n",
       "      <td>7457.0</td>\n",
       "      <td>1129.0</td>\n",
       "    </tr>\n",
       "    <tr>\n",
       "      <th>196595</th>\n",
       "      <td>Kerala</td>\n",
       "      <td>KASARAGOD</td>\n",
       "      <td>2004</td>\n",
       "      <td>Whole Year</td>\n",
       "      <td>Turmeric</td>\n",
       "      <td>74.0</td>\n",
       "      <td>148.0</td>\n",
       "    </tr>\n",
       "    <tr>\n",
       "      <th>196731</th>\n",
       "      <td>Kerala</td>\n",
       "      <td>KANNUR</td>\n",
       "      <td>2002</td>\n",
       "      <td>Whole Year</td>\n",
       "      <td>Pineapple</td>\n",
       "      <td>349.0</td>\n",
       "      <td>2002.0</td>\n",
       "    </tr>\n",
       "    <tr>\n",
       "      <th>196749</th>\n",
       "      <td>Kerala</td>\n",
       "      <td>WAYANAD</td>\n",
       "      <td>2005</td>\n",
       "      <td>Whole Year</td>\n",
       "      <td>Turmeric</td>\n",
       "      <td>251.0</td>\n",
       "      <td>621.0</td>\n",
       "    </tr>\n",
       "    <tr>\n",
       "      <th>196796</th>\n",
       "      <td>Kerala</td>\n",
       "      <td>KANNUR</td>\n",
       "      <td>2007</td>\n",
       "      <td>Whole Year</td>\n",
       "      <td>Cashewnut</td>\n",
       "      <td>19366.0</td>\n",
       "      <td>25715.0</td>\n",
       "    </tr>\n",
       "  </tbody>\n",
       "</table>\n",
       "<p>3229 rows × 7 columns</p>\n",
       "</div>"
      ],
      "text/plain": [
       "       State_Name       District_Name  Crop_Year       Season          Crop  \\\n",
       "35         Kerala             WAYANAD       2003  Whole Year        Brinjal   \n",
       "82         Kerala            PALAKKAD       2009  Kharif              Jowar   \n",
       "131        Kerala           KOZHIKODE       2002  Whole Year   Sweet potato   \n",
       "149        Kerala            KOTTAYAM       2002  Whole Year     Jack Fruit   \n",
       "225        Kerala  THIRUVANANTHAPURAM       2003  Whole Year   Sweet potato   \n",
       "...           ...                 ...        ...          ...           ...   \n",
       "196411     Kerala            PALAKKAD       2005  Whole Year   Black pepper   \n",
       "196595     Kerala           KASARAGOD       2004  Whole Year       Turmeric   \n",
       "196731     Kerala              KANNUR       2002  Whole Year      Pineapple   \n",
       "196749     Kerala             WAYANAD       2005  Whole Year       Turmeric   \n",
       "196796     Kerala              KANNUR       2007  Whole Year      Cashewnut   \n",
       "\n",
       "           Area  Production  \n",
       "35          8.0         0.0  \n",
       "82       2516.0      1283.0  \n",
       "131         9.0       103.0  \n",
       "149      4501.0        21.0  \n",
       "225        34.0       385.0  \n",
       "...         ...         ...  \n",
       "196411   7457.0      1129.0  \n",
       "196595     74.0       148.0  \n",
       "196731    349.0      2002.0  \n",
       "196749    251.0       621.0  \n",
       "196796  19366.0     25715.0  \n",
       "\n",
       "[3229 rows x 7 columns]"
      ]
     },
     "execution_count": 52,
     "metadata": {},
     "output_type": "execute_result"
    }
   ],
   "source": [
    "Kerala = train[train.State_Name=='Kerala']\n",
    "Kerala"
   ]
  },
  {
   "cell_type": "code",
   "execution_count": 53,
   "id": "765cd989-b098-4590-bafc-a28510a14b6d",
   "metadata": {},
   "outputs": [
    {
     "data": {
      "text/html": [
       "<div>\n",
       "<style scoped>\n",
       "    .dataframe tbody tr th:only-of-type {\n",
       "        vertical-align: middle;\n",
       "    }\n",
       "\n",
       "    .dataframe tbody tr th {\n",
       "        vertical-align: top;\n",
       "    }\n",
       "\n",
       "    .dataframe thead th {\n",
       "        text-align: right;\n",
       "    }\n",
       "</style>\n",
       "<table border=\"1\" class=\"dataframe\">\n",
       "  <thead>\n",
       "    <tr style=\"text-align: right;\">\n",
       "      <th></th>\n",
       "      <th>Crop</th>\n",
       "      <th>Production</th>\n",
       "    </tr>\n",
       "  </thead>\n",
       "  <tbody>\n",
       "    <tr>\n",
       "      <th>10</th>\n",
       "      <td>Coconut</td>\n",
       "      <td>7.586324e+10</td>\n",
       "    </tr>\n",
       "    <tr>\n",
       "      <th>37</th>\n",
       "      <td>Tapioca</td>\n",
       "      <td>3.687717e+07</td>\n",
       "    </tr>\n",
       "    <tr>\n",
       "      <th>29</th>\n",
       "      <td>Rice</td>\n",
       "      <td>8.669611e+06</td>\n",
       "    </tr>\n",
       "    <tr>\n",
       "      <th>2</th>\n",
       "      <td>Banana</td>\n",
       "      <td>6.303891e+06</td>\n",
       "    </tr>\n",
       "    <tr>\n",
       "      <th>35</th>\n",
       "      <td>Sugarcane</td>\n",
       "      <td>3.357835e+06</td>\n",
       "    </tr>\n",
       "    <tr>\n",
       "      <th>0</th>\n",
       "      <td>Arecanut</td>\n",
       "      <td>1.714240e+06</td>\n",
       "    </tr>\n",
       "    <tr>\n",
       "      <th>21</th>\n",
       "      <td>Mango</td>\n",
       "      <td>1.307132e+06</td>\n",
       "    </tr>\n",
       "    <tr>\n",
       "      <th>30</th>\n",
       "      <td>Rubber</td>\n",
       "      <td>8.647800e+05</td>\n",
       "    </tr>\n",
       "    <tr>\n",
       "      <th>8</th>\n",
       "      <td>Cashewnut</td>\n",
       "      <td>7.170595e+05</td>\n",
       "    </tr>\n",
       "    <tr>\n",
       "      <th>5</th>\n",
       "      <td>Black pepper</td>\n",
       "      <td>7.063798e+05</td>\n",
       "    </tr>\n",
       "  </tbody>\n",
       "</table>\n",
       "</div>"
      ],
      "text/plain": [
       "            Crop    Production\n",
       "10      Coconut   7.586324e+10\n",
       "37       Tapioca  3.687717e+07\n",
       "29          Rice  8.669611e+06\n",
       "2         Banana  6.303891e+06\n",
       "35     Sugarcane  3.357835e+06\n",
       "0       Arecanut  1.714240e+06\n",
       "21         Mango  1.307132e+06\n",
       "30        Rubber  8.647800e+05\n",
       "8      Cashewnut  7.170595e+05\n",
       "5   Black pepper  7.063798e+05"
      ]
     },
     "execution_count": 53,
     "metadata": {},
     "output_type": "execute_result"
    }
   ],
   "source": [
    "Kerala_crop_production = Kerala.groupby('Crop')['Production'].sum().reset_index().sort_values('Production',ascending=False).head(10)\n",
    "Kerala_crop_production"
   ]
  },
  {
   "cell_type": "markdown",
   "id": "13ed42dc-5fbd-4a8f-b2e0-daf73526a6b6",
   "metadata": {},
   "source": [
    "## Coconut is most produced crop in Kerala"
   ]
  },
  {
   "cell_type": "code",
   "execution_count": 54,
   "id": "2b02fa4f-ee07-465a-ae55-06cd28fdd7b6",
   "metadata": {},
   "outputs": [
    {
     "data": {
      "text/html": [
       "<div>\n",
       "<style scoped>\n",
       "    .dataframe tbody tr th:only-of-type {\n",
       "        vertical-align: middle;\n",
       "    }\n",
       "\n",
       "    .dataframe tbody tr th {\n",
       "        vertical-align: top;\n",
       "    }\n",
       "\n",
       "    .dataframe thead th {\n",
       "        text-align: right;\n",
       "    }\n",
       "</style>\n",
       "<table border=\"1\" class=\"dataframe\">\n",
       "  <thead>\n",
       "    <tr style=\"text-align: right;\">\n",
       "      <th></th>\n",
       "      <th>District_Name</th>\n",
       "      <th>Production</th>\n",
       "    </tr>\n",
       "  </thead>\n",
       "  <tbody>\n",
       "    <tr>\n",
       "      <th>7</th>\n",
       "      <td>KOZHIKODE</td>\n",
       "      <td>1.270788e+10</td>\n",
       "    </tr>\n",
       "    <tr>\n",
       "      <th>8</th>\n",
       "      <td>MALAPPURAM</td>\n",
       "      <td>1.017336e+10</td>\n",
       "    </tr>\n",
       "    <tr>\n",
       "      <th>3</th>\n",
       "      <td>KANNUR</td>\n",
       "      <td>9.782848e+09</td>\n",
       "    </tr>\n",
       "    <tr>\n",
       "      <th>11</th>\n",
       "      <td>THIRUVANANTHAPURAM</td>\n",
       "      <td>7.596728e+09</td>\n",
       "    </tr>\n",
       "    <tr>\n",
       "      <th>12</th>\n",
       "      <td>THRISSUR</td>\n",
       "      <td>7.024658e+09</td>\n",
       "    </tr>\n",
       "    <tr>\n",
       "      <th>4</th>\n",
       "      <td>KASARAGOD</td>\n",
       "      <td>6.480635e+09</td>\n",
       "    </tr>\n",
       "    <tr>\n",
       "      <th>5</th>\n",
       "      <td>KOLLAM</td>\n",
       "      <td>4.682748e+09</td>\n",
       "    </tr>\n",
       "    <tr>\n",
       "      <th>9</th>\n",
       "      <td>PALAKKAD</td>\n",
       "      <td>4.461650e+09</td>\n",
       "    </tr>\n",
       "    <tr>\n",
       "      <th>1</th>\n",
       "      <td>ERNAKULAM</td>\n",
       "      <td>4.366461e+09</td>\n",
       "    </tr>\n",
       "    <tr>\n",
       "      <th>0</th>\n",
       "      <td>ALAPPUZHA</td>\n",
       "      <td>3.299292e+09</td>\n",
       "    </tr>\n",
       "  </tbody>\n",
       "</table>\n",
       "</div>"
      ],
      "text/plain": [
       "         District_Name    Production\n",
       "7            KOZHIKODE  1.270788e+10\n",
       "8           MALAPPURAM  1.017336e+10\n",
       "3               KANNUR  9.782848e+09\n",
       "11  THIRUVANANTHAPURAM  7.596728e+09\n",
       "12            THRISSUR  7.024658e+09\n",
       "4            KASARAGOD  6.480635e+09\n",
       "5               KOLLAM  4.682748e+09\n",
       "9             PALAKKAD  4.461650e+09\n",
       "1            ERNAKULAM  4.366461e+09\n",
       "0            ALAPPUZHA  3.299292e+09"
      ]
     },
     "execution_count": 54,
     "metadata": {},
     "output_type": "execute_result"
    }
   ],
   "source": [
    "kerala_dist_production = Kerala.groupby('District_Name')['Production'].sum().reset_index().sort_values('Production',ascending=False).head(10)\n",
    "kerala_dist_production"
   ]
  },
  {
   "cell_type": "code",
   "execution_count": 55,
   "id": "ca2410f0-610a-4642-a684-d5c2ec1b9ea0",
   "metadata": {},
   "outputs": [
    {
     "data": {
      "text/plain": [
       "<Axes: xlabel='Production', ylabel='District_Name'>"
      ]
     },
     "execution_count": 55,
     "metadata": {},
     "output_type": "execute_result"
    },
    {
     "data": {
      "image/png": "[encoded data removed]",
      "text/plain": [
       "<Figure size 800x700 with 1 Axes>"
      ]
     },
     "metadata": {},
     "output_type": "display_data"
    }
   ],
   "source": [
    "plt.figure(figsize=(8,7))\n",
    "sns.barplot(y='District_Name',x='Production',data=kerala_dist_production)"
   ]
  },
  {
   "cell_type": "markdown",
   "id": "71206e5d-9757-4fee-8793-112eb7245580",
   "metadata": {},
   "source": [
    "### Kozhikode and Malappuram Districts in Kerala seem to have the most favourable conditions for any crop production since they have more production compared to any other district in Kerala"
   ]
  },
  {
   "cell_type": "code",
   "execution_count": 56,
   "id": "3c886be5-ae19-4489-a95b-26959bdea0c2",
   "metadata": {},
   "outputs": [
    {
     "data": {
      "text/html": [
       "<div>\n",
       "<style scoped>\n",
       "    .dataframe tbody tr th:only-of-type {\n",
       "        vertical-align: middle;\n",
       "    }\n",
       "\n",
       "    .dataframe tbody tr th {\n",
       "        vertical-align: top;\n",
       "    }\n",
       "\n",
       "    .dataframe thead th {\n",
       "        text-align: right;\n",
       "    }\n",
       "</style>\n",
       "<table border=\"1\" class=\"dataframe\">\n",
       "  <thead>\n",
       "    <tr style=\"text-align: right;\">\n",
       "      <th></th>\n",
       "      <th>State_Name</th>\n",
       "      <th>District_Name</th>\n",
       "      <th>Crop_Year</th>\n",
       "      <th>Season</th>\n",
       "      <th>Crop</th>\n",
       "      <th>Area</th>\n",
       "      <th>Production</th>\n",
       "    </tr>\n",
       "  </thead>\n",
       "  <tbody>\n",
       "    <tr>\n",
       "      <th>0</th>\n",
       "      <td>Uttar Pradesh</td>\n",
       "      <td>MAU</td>\n",
       "      <td>2001</td>\n",
       "      <td>Kharif</td>\n",
       "      <td>Small millets</td>\n",
       "      <td>98.0</td>\n",
       "      <td>51.0</td>\n",
       "    </tr>\n",
       "    <tr>\n",
       "      <th>1</th>\n",
       "      <td>Odisha</td>\n",
       "      <td>BARGARH</td>\n",
       "      <td>2007</td>\n",
       "      <td>Winter</td>\n",
       "      <td>Sugarcane</td>\n",
       "      <td>742.0</td>\n",
       "      <td>47581.5</td>\n",
       "    </tr>\n",
       "    <tr>\n",
       "      <th>2</th>\n",
       "      <td>Bihar</td>\n",
       "      <td>PURBI CHAMPARAN</td>\n",
       "      <td>2010</td>\n",
       "      <td>Kharif</td>\n",
       "      <td>Mesta</td>\n",
       "      <td>7.0</td>\n",
       "      <td>120.0</td>\n",
       "    </tr>\n",
       "    <tr>\n",
       "      <th>3</th>\n",
       "      <td>Andaman and Nicobar Islands</td>\n",
       "      <td>NORTH AND MIDDLE ANDAMAN</td>\n",
       "      <td>2010</td>\n",
       "      <td>Rabi</td>\n",
       "      <td>Dry chillies</td>\n",
       "      <td>254.0</td>\n",
       "      <td>402.0</td>\n",
       "    </tr>\n",
       "    <tr>\n",
       "      <th>4</th>\n",
       "      <td>Gujarat</td>\n",
       "      <td>SURENDRANAGAR</td>\n",
       "      <td>1997</td>\n",
       "      <td>Kharif</td>\n",
       "      <td>Bajra</td>\n",
       "      <td>85900.0</td>\n",
       "      <td>103000.0</td>\n",
       "    </tr>\n",
       "  </tbody>\n",
       "</table>\n",
       "</div>"
      ],
      "text/plain": [
       "                    State_Name             District_Name  Crop_Year  \\\n",
       "0                Uttar Pradesh                       MAU       2001   \n",
       "1                       Odisha                   BARGARH       2007   \n",
       "2                        Bihar           PURBI CHAMPARAN       2010   \n",
       "3  Andaman and Nicobar Islands  NORTH AND MIDDLE ANDAMAN       2010   \n",
       "4                      Gujarat             SURENDRANAGAR       1997   \n",
       "\n",
       "        Season           Crop     Area  Production  \n",
       "0  Kharif       Small millets     98.0        51.0  \n",
       "1  Winter           Sugarcane    742.0     47581.5  \n",
       "2  Kharif               Mesta      7.0       120.0  \n",
       "3  Rabi          Dry chillies    254.0       402.0  \n",
       "4  Kharif               Bajra  85900.0    103000.0  "
      ]
     },
     "execution_count": 56,
     "metadata": {},
     "output_type": "execute_result"
    }
   ],
   "source": [
    "train.head()"
   ]
  },
  {
   "cell_type": "code",
   "execution_count": 57,
   "id": "34c3e07f-ce44-41e5-b028-4da9ed4b4b0a",
   "metadata": {},
   "outputs": [
    {
     "data": {
      "text/html": [
       "<div>\n",
       "<style scoped>\n",
       "    .dataframe tbody tr th:only-of-type {\n",
       "        vertical-align: middle;\n",
       "    }\n",
       "\n",
       "    .dataframe tbody tr th {\n",
       "        vertical-align: top;\n",
       "    }\n",
       "\n",
       "    .dataframe thead th {\n",
       "        text-align: right;\n",
       "    }\n",
       "</style>\n",
       "<table border=\"1\" class=\"dataframe\">\n",
       "  <thead>\n",
       "    <tr style=\"text-align: right;\">\n",
       "      <th></th>\n",
       "      <th>State_Name</th>\n",
       "      <th>District_Name</th>\n",
       "      <th>Crop_Year</th>\n",
       "      <th>Season</th>\n",
       "      <th>Crop</th>\n",
       "      <th>Area</th>\n",
       "      <th>Production</th>\n",
       "    </tr>\n",
       "  </thead>\n",
       "  <tbody>\n",
       "    <tr>\n",
       "      <th>1</th>\n",
       "      <td>Odisha</td>\n",
       "      <td>BARGARH</td>\n",
       "      <td>2007</td>\n",
       "      <td>Winter</td>\n",
       "      <td>Sugarcane</td>\n",
       "      <td>742.0</td>\n",
       "      <td>47581.5</td>\n",
       "    </tr>\n",
       "    <tr>\n",
       "      <th>49</th>\n",
       "      <td>Arunachal Pradesh</td>\n",
       "      <td>WEST SIANG</td>\n",
       "      <td>2010</td>\n",
       "      <td>Whole Year</td>\n",
       "      <td>Sugarcane</td>\n",
       "      <td>96.0</td>\n",
       "      <td>2785.0</td>\n",
       "    </tr>\n",
       "    <tr>\n",
       "      <th>55</th>\n",
       "      <td>Madhya Pradesh</td>\n",
       "      <td>HOSHANGABAD</td>\n",
       "      <td>2006</td>\n",
       "      <td>Whole Year</td>\n",
       "      <td>Sugarcane</td>\n",
       "      <td>1783.0</td>\n",
       "      <td>59250.0</td>\n",
       "    </tr>\n",
       "    <tr>\n",
       "      <th>71</th>\n",
       "      <td>Uttar Pradesh</td>\n",
       "      <td>AGRA</td>\n",
       "      <td>2004</td>\n",
       "      <td>Kharif</td>\n",
       "      <td>Sugarcane</td>\n",
       "      <td>230.0</td>\n",
       "      <td>11424.0</td>\n",
       "    </tr>\n",
       "    <tr>\n",
       "      <th>114</th>\n",
       "      <td>Andhra Pradesh</td>\n",
       "      <td>PRAKASAM</td>\n",
       "      <td>2013</td>\n",
       "      <td>Kharif</td>\n",
       "      <td>Sugarcane</td>\n",
       "      <td>673.0</td>\n",
       "      <td>53132.0</td>\n",
       "    </tr>\n",
       "    <tr>\n",
       "      <th>...</th>\n",
       "      <td>...</td>\n",
       "      <td>...</td>\n",
       "      <td>...</td>\n",
       "      <td>...</td>\n",
       "      <td>...</td>\n",
       "      <td>...</td>\n",
       "      <td>...</td>\n",
       "    </tr>\n",
       "    <tr>\n",
       "      <th>196767</th>\n",
       "      <td>Odisha</td>\n",
       "      <td>ANUGUL</td>\n",
       "      <td>1999</td>\n",
       "      <td>Winter</td>\n",
       "      <td>Sugarcane</td>\n",
       "      <td>1200.0</td>\n",
       "      <td>73960.0</td>\n",
       "    </tr>\n",
       "    <tr>\n",
       "      <th>196807</th>\n",
       "      <td>Uttar Pradesh</td>\n",
       "      <td>ALIGARH</td>\n",
       "      <td>2004</td>\n",
       "      <td>Kharif</td>\n",
       "      <td>Sugarcane</td>\n",
       "      <td>9156.0</td>\n",
       "      <td>466077.0</td>\n",
       "    </tr>\n",
       "    <tr>\n",
       "      <th>196819</th>\n",
       "      <td>Uttar Pradesh</td>\n",
       "      <td>DEORIA</td>\n",
       "      <td>2008</td>\n",
       "      <td>Kharif</td>\n",
       "      <td>Sugarcane</td>\n",
       "      <td>9405.0</td>\n",
       "      <td>417883.0</td>\n",
       "    </tr>\n",
       "    <tr>\n",
       "      <th>196820</th>\n",
       "      <td>Karnataka</td>\n",
       "      <td>KOPPAL</td>\n",
       "      <td>2010</td>\n",
       "      <td>Whole Year</td>\n",
       "      <td>Sugarcane</td>\n",
       "      <td>403.0</td>\n",
       "      <td>39051.0</td>\n",
       "    </tr>\n",
       "    <tr>\n",
       "      <th>196833</th>\n",
       "      <td>West Bengal</td>\n",
       "      <td>HOWRAH</td>\n",
       "      <td>2004</td>\n",
       "      <td>Whole Year</td>\n",
       "      <td>Sugarcane</td>\n",
       "      <td>108.0</td>\n",
       "      <td>7865.0</td>\n",
       "    </tr>\n",
       "  </tbody>\n",
       "</table>\n",
       "<p>6251 rows × 7 columns</p>\n",
       "</div>"
      ],
      "text/plain": [
       "               State_Name District_Name  Crop_Year       Season       Crop  \\\n",
       "1                  Odisha       BARGARH       2007  Winter       Sugarcane   \n",
       "49      Arunachal Pradesh    WEST SIANG       2010  Whole Year   Sugarcane   \n",
       "55         Madhya Pradesh   HOSHANGABAD       2006  Whole Year   Sugarcane   \n",
       "71          Uttar Pradesh          AGRA       2004  Kharif       Sugarcane   \n",
       "114        Andhra Pradesh      PRAKASAM       2013  Kharif       Sugarcane   \n",
       "...                   ...           ...        ...          ...        ...   \n",
       "196767             Odisha        ANUGUL       1999  Winter       Sugarcane   \n",
       "196807      Uttar Pradesh       ALIGARH       2004  Kharif       Sugarcane   \n",
       "196819      Uttar Pradesh        DEORIA       2008  Kharif       Sugarcane   \n",
       "196820          Karnataka        KOPPAL       2010  Whole Year   Sugarcane   \n",
       "196833        West Bengal        HOWRAH       2004  Whole Year   Sugarcane   \n",
       "\n",
       "          Area  Production  \n",
       "1        742.0     47581.5  \n",
       "49        96.0      2785.0  \n",
       "55      1783.0     59250.0  \n",
       "71       230.0     11424.0  \n",
       "114      673.0     53132.0  \n",
       "...        ...         ...  \n",
       "196767  1200.0     73960.0  \n",
       "196807  9156.0    466077.0  \n",
       "196819  9405.0    417883.0  \n",
       "196820   403.0     39051.0  \n",
       "196833   108.0      7865.0  \n",
       "\n",
       "[6251 rows x 7 columns]"
      ]
     },
     "execution_count": 57,
     "metadata": {},
     "output_type": "execute_result"
    }
   ],
   "source": [
    "sugarcane =train[train.Crop=='Sugarcane']\n",
    "sugarcane"
   ]
  },
  {
   "cell_type": "code",
   "execution_count": 58,
   "id": "c1252dc8-057c-45cb-b77e-2dee1ca1724f",
   "metadata": {},
   "outputs": [
    {
     "data": {
      "text/html": [
       "<div>\n",
       "<style scoped>\n",
       "    .dataframe tbody tr th:only-of-type {\n",
       "        vertical-align: middle;\n",
       "    }\n",
       "\n",
       "    .dataframe tbody tr th {\n",
       "        vertical-align: top;\n",
       "    }\n",
       "\n",
       "    .dataframe thead th {\n",
       "        text-align: right;\n",
       "    }\n",
       "</style>\n",
       "<table border=\"1\" class=\"dataframe\">\n",
       "  <thead>\n",
       "    <tr style=\"text-align: right;\">\n",
       "      <th></th>\n",
       "      <th>State_Name</th>\n",
       "      <th>Production</th>\n",
       "    </tr>\n",
       "  </thead>\n",
       "  <tbody>\n",
       "    <tr>\n",
       "      <th>28</th>\n",
       "      <td>Uttar Pradesh</td>\n",
       "      <td>1.685787e+09</td>\n",
       "    </tr>\n",
       "    <tr>\n",
       "      <th>16</th>\n",
       "      <td>Maharashtra</td>\n",
       "      <td>7.571184e+08</td>\n",
       "    </tr>\n",
       "    <tr>\n",
       "      <th>25</th>\n",
       "      <td>Tamil Nadu</td>\n",
       "      <td>6.717015e+08</td>\n",
       "    </tr>\n",
       "    <tr>\n",
       "      <th>13</th>\n",
       "      <td>Karnataka</td>\n",
       "      <td>3.986118e+08</td>\n",
       "    </tr>\n",
       "    <tr>\n",
       "      <th>8</th>\n",
       "      <td>Gujarat</td>\n",
       "      <td>1.956256e+08</td>\n",
       "    </tr>\n",
       "    <tr>\n",
       "      <th>1</th>\n",
       "      <td>Andhra Pradesh</td>\n",
       "      <td>1.832087e+08</td>\n",
       "    </tr>\n",
       "    <tr>\n",
       "      <th>4</th>\n",
       "      <td>Bihar</td>\n",
       "      <td>8.818586e+07</td>\n",
       "    </tr>\n",
       "    <tr>\n",
       "      <th>9</th>\n",
       "      <td>Haryana</td>\n",
       "      <td>8.193290e+07</td>\n",
       "    </tr>\n",
       "    <tr>\n",
       "      <th>29</th>\n",
       "      <td>Uttarakhand</td>\n",
       "      <td>6.867258e+07</td>\n",
       "    </tr>\n",
       "    <tr>\n",
       "      <th>23</th>\n",
       "      <td>Punjab</td>\n",
       "      <td>6.820700e+07</td>\n",
       "    </tr>\n",
       "  </tbody>\n",
       "</table>\n",
       "</div>"
      ],
      "text/plain": [
       "        State_Name    Production\n",
       "28   Uttar Pradesh  1.685787e+09\n",
       "16     Maharashtra  7.571184e+08\n",
       "25      Tamil Nadu  6.717015e+08\n",
       "13       Karnataka  3.986118e+08\n",
       "8          Gujarat  1.956256e+08\n",
       "1   Andhra Pradesh  1.832087e+08\n",
       "4            Bihar  8.818586e+07\n",
       "9          Haryana  8.193290e+07\n",
       "29     Uttarakhand  6.867258e+07\n",
       "23          Punjab  6.820700e+07"
      ]
     },
     "execution_count": 58,
     "metadata": {},
     "output_type": "execute_result"
    }
   ],
   "source": [
    "Top_10_states= sugarcane.groupby('State_Name')['Production'].sum().reset_index().sort_values('Production',ascending=False).head(10)\n",
    "Top_10_states"
   ]
  },
  {
   "cell_type": "code",
   "execution_count": 59,
   "id": "f43c0a45-bd0b-45ab-a3e4-f03916a1711a",
   "metadata": {},
   "outputs": [
    {
     "data": {
      "text/plain": [
       "<Axes: xlabel='Production', ylabel='State_Name'>"
      ]
     },
     "execution_count": 59,
     "metadata": {},
     "output_type": "execute_result"
    },
    {
     "data": {
      "image/png": "[encoded data removed]",
      "text/plain": [
       "<Figure size 640x480 with 1 Axes>"
      ]
     },
     "metadata": {},
     "output_type": "display_data"
    }
   ],
   "source": [
    "sns.barplot(x='Production',y='State_Name',data=Top_10_states)"
   ]
  },
  {
   "cell_type": "markdown",
   "id": "5f905268-ab81-44bb-b97b-ccc4a910b7f2",
   "metadata": {},
   "source": [
    "### We can see that Uttar Pradesh have the highest sugarcane production in India and the second one is Maharashtra, Production least in Punjab."
   ]
  },
  {
   "cell_type": "code",
   "execution_count": 60,
   "id": "049b81a1-5cff-4eea-9c7d-7d9d499a699d",
   "metadata": {},
   "outputs": [
    {
     "data": {
      "text/plain": [
       "<Axes: xlabel='Crop_Year', ylabel='Production'>"
      ]
     },
     "execution_count": 60,
     "metadata": {},
     "output_type": "execute_result"
    },
    {
     "data": {
      "image/png": "[encoded data removed]",
      "text/plain": [
       "<Figure size 1200x800 with 1 Axes>"
      ]
     },
     "metadata": {},
     "output_type": "display_data"
    }
   ],
   "source": [
    "plt.figure(figsize=(12,8))\n",
    "sns.barplot(x='Crop_Year',y='Production',data=sugarcane)"
   ]
  },
  {
   "cell_type": "markdown",
   "id": "5361d1d1-d859-4a16-8a1f-579d7f2500e7",
   "metadata": {},
   "source": [
    "#### We can state that the highest production of Sugarcane was in the years 1997 and 2014, The production was very less in year 2015."
   ]
  },
  {
   "cell_type": "code",
   "execution_count": 61,
   "id": "e409ffbc-47a6-4384-a42b-81cadb5fdbaa",
   "metadata": {},
   "outputs": [
    {
     "data": {
      "text/html": [
       "<div>\n",
       "<style scoped>\n",
       "    .dataframe tbody tr th:only-of-type {\n",
       "        vertical-align: middle;\n",
       "    }\n",
       "\n",
       "    .dataframe tbody tr th {\n",
       "        vertical-align: top;\n",
       "    }\n",
       "\n",
       "    .dataframe thead th {\n",
       "        text-align: right;\n",
       "    }\n",
       "</style>\n",
       "<table border=\"1\" class=\"dataframe\">\n",
       "  <thead>\n",
       "    <tr style=\"text-align: right;\">\n",
       "      <th></th>\n",
       "      <th>State_Name</th>\n",
       "      <th>District_Name</th>\n",
       "      <th>Crop_Year</th>\n",
       "      <th>Season</th>\n",
       "      <th>Crop</th>\n",
       "      <th>Area</th>\n",
       "      <th>Production</th>\n",
       "    </tr>\n",
       "  </thead>\n",
       "  <tbody>\n",
       "    <tr>\n",
       "      <th>44</th>\n",
       "      <td>West Bengal</td>\n",
       "      <td>BIRBHUM</td>\n",
       "      <td>2011</td>\n",
       "      <td>Winter</td>\n",
       "      <td>Rice</td>\n",
       "      <td>326412.0</td>\n",
       "      <td>940842.0</td>\n",
       "    </tr>\n",
       "    <tr>\n",
       "      <th>64</th>\n",
       "      <td>Arunachal Pradesh</td>\n",
       "      <td>LOWER SUBANSIRI</td>\n",
       "      <td>2006</td>\n",
       "      <td>Kharif</td>\n",
       "      <td>Rice</td>\n",
       "      <td>9643.0</td>\n",
       "      <td>12075.0</td>\n",
       "    </tr>\n",
       "    <tr>\n",
       "      <th>81</th>\n",
       "      <td>Bihar</td>\n",
       "      <td>MADHUBANI</td>\n",
       "      <td>2007</td>\n",
       "      <td>Winter</td>\n",
       "      <td>Rice</td>\n",
       "      <td>141004.0</td>\n",
       "      <td>60677.0</td>\n",
       "    </tr>\n",
       "    <tr>\n",
       "      <th>91</th>\n",
       "      <td>Assam</td>\n",
       "      <td>JORHAT</td>\n",
       "      <td>2009</td>\n",
       "      <td>Autumn</td>\n",
       "      <td>Rice</td>\n",
       "      <td>5443.0</td>\n",
       "      <td>6369.0</td>\n",
       "    </tr>\n",
       "    <tr>\n",
       "      <th>105</th>\n",
       "      <td>Assam</td>\n",
       "      <td>UDALGURI</td>\n",
       "      <td>2010</td>\n",
       "      <td>Winter</td>\n",
       "      <td>Rice</td>\n",
       "      <td>61418.0</td>\n",
       "      <td>89415.0</td>\n",
       "    </tr>\n",
       "    <tr>\n",
       "      <th>...</th>\n",
       "      <td>...</td>\n",
       "      <td>...</td>\n",
       "      <td>...</td>\n",
       "      <td>...</td>\n",
       "      <td>...</td>\n",
       "      <td>...</td>\n",
       "      <td>...</td>\n",
       "    </tr>\n",
       "    <tr>\n",
       "      <th>196761</th>\n",
       "      <td>Bihar</td>\n",
       "      <td>PASHCHIM CHAMPARAN</td>\n",
       "      <td>2007</td>\n",
       "      <td>Winter</td>\n",
       "      <td>Rice</td>\n",
       "      <td>96996.0</td>\n",
       "      <td>36374.0</td>\n",
       "    </tr>\n",
       "    <tr>\n",
       "      <th>196779</th>\n",
       "      <td>Uttar Pradesh</td>\n",
       "      <td>AURAIYA</td>\n",
       "      <td>2011</td>\n",
       "      <td>Kharif</td>\n",
       "      <td>Rice</td>\n",
       "      <td>50179.0</td>\n",
       "      <td>145519.0</td>\n",
       "    </tr>\n",
       "    <tr>\n",
       "      <th>196835</th>\n",
       "      <td>Assam</td>\n",
       "      <td>KARIMGANJ</td>\n",
       "      <td>2013</td>\n",
       "      <td>Winter</td>\n",
       "      <td>Rice</td>\n",
       "      <td>69394.0</td>\n",
       "      <td>138893.0</td>\n",
       "    </tr>\n",
       "    <tr>\n",
       "      <th>196836</th>\n",
       "      <td>Rajasthan</td>\n",
       "      <td>DAUSA</td>\n",
       "      <td>2001</td>\n",
       "      <td>Kharif</td>\n",
       "      <td>Rice</td>\n",
       "      <td>1.0</td>\n",
       "      <td>1.0</td>\n",
       "    </tr>\n",
       "    <tr>\n",
       "      <th>196852</th>\n",
       "      <td>Assam</td>\n",
       "      <td>DARRANG</td>\n",
       "      <td>2012</td>\n",
       "      <td>Autumn</td>\n",
       "      <td>Rice</td>\n",
       "      <td>7620.0</td>\n",
       "      <td>10527.0</td>\n",
       "    </tr>\n",
       "  </tbody>\n",
       "</table>\n",
       "<p>12061 rows × 7 columns</p>\n",
       "</div>"
      ],
      "text/plain": [
       "               State_Name       District_Name  Crop_Year       Season  Crop  \\\n",
       "44            West Bengal             BIRBHUM       2011  Winter       Rice   \n",
       "64      Arunachal Pradesh     LOWER SUBANSIRI       2006  Kharif       Rice   \n",
       "81                  Bihar           MADHUBANI       2007  Winter       Rice   \n",
       "91                  Assam              JORHAT       2009  Autumn       Rice   \n",
       "105                 Assam            UDALGURI       2010  Winter       Rice   \n",
       "...                   ...                 ...        ...          ...   ...   \n",
       "196761              Bihar  PASHCHIM CHAMPARAN       2007  Winter       Rice   \n",
       "196779      Uttar Pradesh             AURAIYA       2011  Kharif       Rice   \n",
       "196835              Assam           KARIMGANJ       2013  Winter       Rice   \n",
       "196836          Rajasthan               DAUSA       2001  Kharif       Rice   \n",
       "196852              Assam             DARRANG       2012  Autumn       Rice   \n",
       "\n",
       "            Area  Production  \n",
       "44      326412.0    940842.0  \n",
       "64        9643.0     12075.0  \n",
       "81      141004.0     60677.0  \n",
       "91        5443.0      6369.0  \n",
       "105      61418.0     89415.0  \n",
       "...          ...         ...  \n",
       "196761   96996.0     36374.0  \n",
       "196779   50179.0    145519.0  \n",
       "196835   69394.0    138893.0  \n",
       "196836       1.0         1.0  \n",
       "196852    7620.0     10527.0  \n",
       "\n",
       "[12061 rows x 7 columns]"
      ]
     },
     "execution_count": 61,
     "metadata": {},
     "output_type": "execute_result"
    }
   ],
   "source": [
    "Rice_production= train[train.Crop=='Rice']\n",
    "Rice_production"
   ]
  },
  {
   "cell_type": "code",
   "execution_count": 62,
   "id": "75ff21f9-9691-4295-8588-2704fcc2a461",
   "metadata": {},
   "outputs": [
    {
     "data": {
      "text/html": [
       "<div>\n",
       "<style scoped>\n",
       "    .dataframe tbody tr th:only-of-type {\n",
       "        vertical-align: middle;\n",
       "    }\n",
       "\n",
       "    .dataframe tbody tr th {\n",
       "        vertical-align: top;\n",
       "    }\n",
       "\n",
       "    .dataframe thead th {\n",
       "        text-align: right;\n",
       "    }\n",
       "</style>\n",
       "<table border=\"1\" class=\"dataframe\">\n",
       "  <thead>\n",
       "    <tr style=\"text-align: right;\">\n",
       "      <th></th>\n",
       "      <th>State_Name</th>\n",
       "      <th>Production</th>\n",
       "    </tr>\n",
       "  </thead>\n",
       "  <tbody>\n",
       "    <tr>\n",
       "      <th>32</th>\n",
       "      <td>West Bengal</td>\n",
       "      <td>214426068.0</td>\n",
       "    </tr>\n",
       "    <tr>\n",
       "      <th>30</th>\n",
       "      <td>Uttar Pradesh</td>\n",
       "      <td>171414548.0</td>\n",
       "    </tr>\n",
       "    <tr>\n",
       "      <th>24</th>\n",
       "      <td>Punjab</td>\n",
       "      <td>148906000.0</td>\n",
       "    </tr>\n",
       "    <tr>\n",
       "      <th>1</th>\n",
       "      <td>Andhra Pradesh</td>\n",
       "      <td>111951109.0</td>\n",
       "    </tr>\n",
       "    <tr>\n",
       "      <th>22</th>\n",
       "      <td>Odisha</td>\n",
       "      <td>96333384.0</td>\n",
       "    </tr>\n",
       "    <tr>\n",
       "      <th>27</th>\n",
       "      <td>Tamil Nadu</td>\n",
       "      <td>80488557.0</td>\n",
       "    </tr>\n",
       "    <tr>\n",
       "      <th>4</th>\n",
       "      <td>Bihar</td>\n",
       "      <td>75502332.0</td>\n",
       "    </tr>\n",
       "    <tr>\n",
       "      <th>6</th>\n",
       "      <td>Chhattisgarh</td>\n",
       "      <td>63745983.0</td>\n",
       "    </tr>\n",
       "    <tr>\n",
       "      <th>3</th>\n",
       "      <td>Assam</td>\n",
       "      <td>56059375.0</td>\n",
       "    </tr>\n",
       "    <tr>\n",
       "      <th>28</th>\n",
       "      <td>Telangana</td>\n",
       "      <td>55097231.0</td>\n",
       "    </tr>\n",
       "  </tbody>\n",
       "</table>\n",
       "</div>"
      ],
      "text/plain": [
       "        State_Name   Production\n",
       "32     West Bengal  214426068.0\n",
       "30   Uttar Pradesh  171414548.0\n",
       "24          Punjab  148906000.0\n",
       "1   Andhra Pradesh  111951109.0\n",
       "22          Odisha   96333384.0\n",
       "27      Tamil Nadu   80488557.0\n",
       "4            Bihar   75502332.0\n",
       "6     Chhattisgarh   63745983.0\n",
       "3            Assam   56059375.0\n",
       "28      Telangana    55097231.0"
      ]
     },
     "execution_count": 62,
     "metadata": {},
     "output_type": "execute_result"
    }
   ],
   "source": [
    "Top_10_states= Rice_production.groupby('State_Name')['Production'].sum().reset_index().sort_values('Production',ascending=False).head(10)\n",
    "Top_10_states"
   ]
  },
  {
   "cell_type": "code",
   "execution_count": 63,
   "id": "a5b6fa01-4b08-4552-8d07-02ca84cbb120",
   "metadata": {},
   "outputs": [
    {
     "data": {
      "text/plain": [
       "<Axes: xlabel='Production', ylabel='State_Name'>"
      ]
     },
     "execution_count": 63,
     "metadata": {},
     "output_type": "execute_result"
    },
    {
     "data": {
      "image/png": "[encoded data removed]",
      "text/plain": [
       "<Figure size 640x480 with 1 Axes>"
      ]
     },
     "metadata": {},
     "output_type": "display_data"
    }
   ],
   "source": [
    "sns.barplot(y='State_Name',x='Production',data=Top_10_states)"
   ]
  },
  {
   "cell_type": "markdown",
   "id": "75c55abd-fba6-46bc-bd70-6f3e138906da",
   "metadata": {},
   "source": [
    "### Here we find that West Bengal and Uttar Pradesh have the highest production of Rice in India and least in the Telangana."
   ]
  },
  {
   "cell_type": "code",
   "execution_count": 64,
   "id": "bf060e64-d7ea-4da9-b171-dc733b2d24f7",
   "metadata": {},
   "outputs": [
    {
     "data": {
      "text/plain": [
       "<Axes: xlabel='Crop_Year', ylabel='Production'>"
      ]
     },
     "execution_count": 64,
     "metadata": {},
     "output_type": "execute_result"
    },
    {
     "data": {
      "image/png": "[encoded data removed]",
      "text/plain": [
       "<Figure size 1200x800 with 1 Axes>"
      ]
     },
     "metadata": {},
     "output_type": "display_data"
    }
   ],
   "source": [
    "plt.figure(figsize=(12,8))\n",
    "sns.barplot(x='Crop_Year',y='Production',data=Rice_production)"
   ]
  },
  {
   "cell_type": "markdown",
   "id": "914fd185-ab1c-428b-a554-08bd31d9bebd",
   "metadata": {},
   "source": [
    "#### We can see from 2004 to 2014 the production of rice was continuously rising but in 2015 the production of rice was very less."
   ]
  },
  {
   "cell_type": "markdown",
   "id": "fb8354da-54a0-4c38-b1f2-16053ee9eac3",
   "metadata": {},
   "source": [
    "# Now Take Test data"
   ]
  },
  {
   "cell_type": "code",
   "execution_count": 65,
   "id": "8aca543c-8db3-4f86-b862-d67103478ed4",
   "metadata": {},
   "outputs": [
    {
     "data": {
      "text/html": [
       "<div>\n",
       "<style scoped>\n",
       "    .dataframe tbody tr th:only-of-type {\n",
       "        vertical-align: middle;\n",
       "    }\n",
       "\n",
       "    .dataframe tbody tr th {\n",
       "        vertical-align: top;\n",
       "    }\n",
       "\n",
       "    .dataframe thead th {\n",
       "        text-align: right;\n",
       "    }\n",
       "</style>\n",
       "<table border=\"1\" class=\"dataframe\">\n",
       "  <thead>\n",
       "    <tr style=\"text-align: right;\">\n",
       "      <th></th>\n",
       "      <th>State_Name</th>\n",
       "      <th>District_Name</th>\n",
       "      <th>Crop_Year</th>\n",
       "      <th>Season</th>\n",
       "      <th>Crop</th>\n",
       "      <th>Area</th>\n",
       "      <th>Production</th>\n",
       "    </tr>\n",
       "  </thead>\n",
       "  <tbody>\n",
       "    <tr>\n",
       "      <th>2</th>\n",
       "      <td>Andaman and Nicobar Islands</td>\n",
       "      <td>NICOBARS</td>\n",
       "      <td>2000</td>\n",
       "      <td>Kharif</td>\n",
       "      <td>Rice</td>\n",
       "      <td>102.0</td>\n",
       "      <td>321.00</td>\n",
       "    </tr>\n",
       "    <tr>\n",
       "      <th>10</th>\n",
       "      <td>Andaman and Nicobar Islands</td>\n",
       "      <td>NICOBARS</td>\n",
       "      <td>2001</td>\n",
       "      <td>Kharif</td>\n",
       "      <td>Arecanut</td>\n",
       "      <td>1254.0</td>\n",
       "      <td>2061.00</td>\n",
       "    </tr>\n",
       "    <tr>\n",
       "      <th>21</th>\n",
       "      <td>Andaman and Nicobar Islands</td>\n",
       "      <td>NICOBARS</td>\n",
       "      <td>2002</td>\n",
       "      <td>Whole Year</td>\n",
       "      <td>Black pepper</td>\n",
       "      <td>63.0</td>\n",
       "      <td>13.50</td>\n",
       "    </tr>\n",
       "    <tr>\n",
       "      <th>27</th>\n",
       "      <td>Andaman and Nicobar Islands</td>\n",
       "      <td>NICOBARS</td>\n",
       "      <td>2003</td>\n",
       "      <td>Kharif</td>\n",
       "      <td>Rice</td>\n",
       "      <td>52.0</td>\n",
       "      <td>90.17</td>\n",
       "    </tr>\n",
       "    <tr>\n",
       "      <th>30</th>\n",
       "      <td>Andaman and Nicobar Islands</td>\n",
       "      <td>NICOBARS</td>\n",
       "      <td>2003</td>\n",
       "      <td>Whole Year</td>\n",
       "      <td>Black pepper</td>\n",
       "      <td>75.5</td>\n",
       "      <td>15.86</td>\n",
       "    </tr>\n",
       "  </tbody>\n",
       "</table>\n",
       "</div>"
      ],
      "text/plain": [
       "                     State_Name District_Name  Crop_Year       Season  \\\n",
       "2   Andaman and Nicobar Islands      NICOBARS       2000  Kharif        \n",
       "10  Andaman and Nicobar Islands      NICOBARS       2001  Kharif        \n",
       "21  Andaman and Nicobar Islands      NICOBARS       2002  Whole Year    \n",
       "27  Andaman and Nicobar Islands      NICOBARS       2003  Kharif        \n",
       "30  Andaman and Nicobar Islands      NICOBARS       2003  Whole Year    \n",
       "\n",
       "            Crop    Area  Production  \n",
       "2           Rice   102.0      321.00  \n",
       "10      Arecanut  1254.0     2061.00  \n",
       "21  Black pepper    63.0       13.50  \n",
       "27          Rice    52.0       90.17  \n",
       "30  Black pepper    75.5       15.86  "
      ]
     },
     "execution_count": 65,
     "metadata": {},
     "output_type": "execute_result"
    }
   ],
   "source": [
    "test.head()"
   ]
  },
  {
   "cell_type": "code",
   "execution_count": 66,
   "id": "2964e98e-f659-4b43-a76b-cd93a01b729d",
   "metadata": {},
   "outputs": [
    {
     "data": {
      "text/html": [
       "<div>\n",
       "<style scoped>\n",
       "    .dataframe tbody tr th:only-of-type {\n",
       "        vertical-align: middle;\n",
       "    }\n",
       "\n",
       "    .dataframe tbody tr th {\n",
       "        vertical-align: top;\n",
       "    }\n",
       "\n",
       "    .dataframe thead th {\n",
       "        text-align: right;\n",
       "    }\n",
       "</style>\n",
       "<table border=\"1\" class=\"dataframe\">\n",
       "  <thead>\n",
       "    <tr style=\"text-align: right;\">\n",
       "      <th></th>\n",
       "      <th>State_Name</th>\n",
       "      <th>District_Name</th>\n",
       "      <th>Crop_Year</th>\n",
       "      <th>Season</th>\n",
       "      <th>Crop</th>\n",
       "      <th>Area</th>\n",
       "      <th>Production</th>\n",
       "    </tr>\n",
       "  </thead>\n",
       "  <tbody>\n",
       "    <tr>\n",
       "      <th>0</th>\n",
       "      <td>Andaman and Nicobar Islands</td>\n",
       "      <td>NICOBARS</td>\n",
       "      <td>2000</td>\n",
       "      <td>Kharif</td>\n",
       "      <td>Rice</td>\n",
       "      <td>102.0</td>\n",
       "      <td>321.00</td>\n",
       "    </tr>\n",
       "    <tr>\n",
       "      <th>1</th>\n",
       "      <td>Andaman and Nicobar Islands</td>\n",
       "      <td>NICOBARS</td>\n",
       "      <td>2001</td>\n",
       "      <td>Kharif</td>\n",
       "      <td>Arecanut</td>\n",
       "      <td>1254.0</td>\n",
       "      <td>2061.00</td>\n",
       "    </tr>\n",
       "    <tr>\n",
       "      <th>2</th>\n",
       "      <td>Andaman and Nicobar Islands</td>\n",
       "      <td>NICOBARS</td>\n",
       "      <td>2002</td>\n",
       "      <td>Whole Year</td>\n",
       "      <td>Black pepper</td>\n",
       "      <td>63.0</td>\n",
       "      <td>13.50</td>\n",
       "    </tr>\n",
       "    <tr>\n",
       "      <th>3</th>\n",
       "      <td>Andaman and Nicobar Islands</td>\n",
       "      <td>NICOBARS</td>\n",
       "      <td>2003</td>\n",
       "      <td>Kharif</td>\n",
       "      <td>Rice</td>\n",
       "      <td>52.0</td>\n",
       "      <td>90.17</td>\n",
       "    </tr>\n",
       "    <tr>\n",
       "      <th>4</th>\n",
       "      <td>Andaman and Nicobar Islands</td>\n",
       "      <td>NICOBARS</td>\n",
       "      <td>2003</td>\n",
       "      <td>Whole Year</td>\n",
       "      <td>Black pepper</td>\n",
       "      <td>75.5</td>\n",
       "      <td>15.86</td>\n",
       "    </tr>\n",
       "    <tr>\n",
       "      <th>...</th>\n",
       "      <td>...</td>\n",
       "      <td>...</td>\n",
       "      <td>...</td>\n",
       "      <td>...</td>\n",
       "      <td>...</td>\n",
       "      <td>...</td>\n",
       "      <td>...</td>\n",
       "    </tr>\n",
       "    <tr>\n",
       "      <th>49213</th>\n",
       "      <td>West Bengal</td>\n",
       "      <td>PURULIA</td>\n",
       "      <td>2014</td>\n",
       "      <td>Kharif</td>\n",
       "      <td>Mesta</td>\n",
       "      <td>159.0</td>\n",
       "      <td>2065.00</td>\n",
       "    </tr>\n",
       "    <tr>\n",
       "      <th>49214</th>\n",
       "      <td>West Bengal</td>\n",
       "      <td>PURULIA</td>\n",
       "      <td>2014</td>\n",
       "      <td>Kharif</td>\n",
       "      <td>Moong(Green Gram)</td>\n",
       "      <td>181.0</td>\n",
       "      <td>100.00</td>\n",
       "    </tr>\n",
       "    <tr>\n",
       "      <th>49215</th>\n",
       "      <td>West Bengal</td>\n",
       "      <td>PURULIA</td>\n",
       "      <td>2014</td>\n",
       "      <td>Kharif</td>\n",
       "      <td>Other Kharif pulses</td>\n",
       "      <td>79.0</td>\n",
       "      <td>39.00</td>\n",
       "    </tr>\n",
       "    <tr>\n",
       "      <th>49216</th>\n",
       "      <td>West Bengal</td>\n",
       "      <td>PURULIA</td>\n",
       "      <td>2014</td>\n",
       "      <td>Rabi</td>\n",
       "      <td>Khesari</td>\n",
       "      <td>146.0</td>\n",
       "      <td>126.00</td>\n",
       "    </tr>\n",
       "    <tr>\n",
       "      <th>49217</th>\n",
       "      <td>West Bengal</td>\n",
       "      <td>PURULIA</td>\n",
       "      <td>2014</td>\n",
       "      <td>Whole Year</td>\n",
       "      <td>Sugarcane</td>\n",
       "      <td>324.0</td>\n",
       "      <td>16250.00</td>\n",
       "    </tr>\n",
       "  </tbody>\n",
       "</table>\n",
       "<p>49218 rows × 7 columns</p>\n",
       "</div>"
      ],
      "text/plain": [
       "                        State_Name District_Name  Crop_Year       Season  \\\n",
       "0      Andaman and Nicobar Islands      NICOBARS       2000  Kharif        \n",
       "1      Andaman and Nicobar Islands      NICOBARS       2001  Kharif        \n",
       "2      Andaman and Nicobar Islands      NICOBARS       2002  Whole Year    \n",
       "3      Andaman and Nicobar Islands      NICOBARS       2003  Kharif        \n",
       "4      Andaman and Nicobar Islands      NICOBARS       2003  Whole Year    \n",
       "...                            ...           ...        ...          ...   \n",
       "49213                  West Bengal       PURULIA       2014  Kharif        \n",
       "49214                  West Bengal       PURULIA       2014  Kharif        \n",
       "49215                  West Bengal       PURULIA       2014  Kharif        \n",
       "49216                  West Bengal       PURULIA       2014  Rabi          \n",
       "49217                  West Bengal       PURULIA       2014  Whole Year    \n",
       "\n",
       "                      Crop    Area  Production  \n",
       "0                     Rice   102.0      321.00  \n",
       "1                 Arecanut  1254.0     2061.00  \n",
       "2             Black pepper    63.0       13.50  \n",
       "3                     Rice    52.0       90.17  \n",
       "4             Black pepper    75.5       15.86  \n",
       "...                    ...     ...         ...  \n",
       "49213                Mesta   159.0     2065.00  \n",
       "49214    Moong(Green Gram)   181.0      100.00  \n",
       "49215  Other Kharif pulses    79.0       39.00  \n",
       "49216              Khesari   146.0      126.00  \n",
       "49217            Sugarcane   324.0    16250.00  \n",
       "\n",
       "[49218 rows x 7 columns]"
      ]
     },
     "execution_count": 66,
     "metadata": {},
     "output_type": "execute_result"
    }
   ],
   "source": [
    "test.reset_index(drop=True)"
   ]
  },
  {
   "cell_type": "code",
   "execution_count": 67,
   "id": "b5752b94-7ec7-4419-a81a-9c86ac86f741",
   "metadata": {},
   "outputs": [
    {
     "data": {
      "text/plain": [
       "State_Name         0\n",
       "District_Name      0\n",
       "Crop_Year          0\n",
       "Season             0\n",
       "Crop               0\n",
       "Area               0\n",
       "Production       768\n",
       "dtype: int64"
      ]
     },
     "execution_count": 67,
     "metadata": {},
     "output_type": "execute_result"
    }
   ],
   "source": [
    "test.isnull().sum()"
   ]
  },
  {
   "cell_type": "code",
   "execution_count": 68,
   "id": "9bb41fb7-94c8-47b2-87df-b0f23588e7ea",
   "metadata": {},
   "outputs": [],
   "source": [
    "test.dropna(inplace=True)"
   ]
  },
  {
   "cell_type": "code",
   "execution_count": 69,
   "id": "d706571c-9c87-46a2-ad17-1a9781232d06",
   "metadata": {},
   "outputs": [
    {
     "name": "stdout",
     "output_type": "stream",
     "text": [
      "<class 'pandas.core.frame.DataFrame'>\n",
      "Index: 48450 entries, 2 to 246088\n",
      "Data columns (total 7 columns):\n",
      " #   Column         Non-Null Count  Dtype  \n",
      "---  ------         --------------  -----  \n",
      " 0   State_Name     48450 non-null  object \n",
      " 1   District_Name  48450 non-null  object \n",
      " 2   Crop_Year      48450 non-null  int64  \n",
      " 3   Season         48450 non-null  object \n",
      " 4   Crop           48450 non-null  object \n",
      " 5   Area           48450 non-null  float64\n",
      " 6   Production     48450 non-null  float64\n",
      "dtypes: float64(2), int64(1), object(4)\n",
      "memory usage: 3.0+ MB\n"
     ]
    }
   ],
   "source": [
    "test.info()"
   ]
  },
  {
   "cell_type": "code",
   "execution_count": 70,
   "id": "542aa611-cca6-485d-a76b-8bdde292bbeb",
   "metadata": {},
   "outputs": [
    {
     "data": {
      "text/html": [
       "<div>\n",
       "<style scoped>\n",
       "    .dataframe tbody tr th:only-of-type {\n",
       "        vertical-align: middle;\n",
       "    }\n",
       "\n",
       "    .dataframe tbody tr th {\n",
       "        vertical-align: top;\n",
       "    }\n",
       "\n",
       "    .dataframe thead th {\n",
       "        text-align: right;\n",
       "    }\n",
       "</style>\n",
       "<table border=\"1\" class=\"dataframe\">\n",
       "  <thead>\n",
       "    <tr style=\"text-align: right;\">\n",
       "      <th></th>\n",
       "      <th>Crop_Year</th>\n",
       "      <th>Area</th>\n",
       "      <th>Production</th>\n",
       "    </tr>\n",
       "  </thead>\n",
       "  <tbody>\n",
       "    <tr>\n",
       "      <th>count</th>\n",
       "      <td>48450.000000</td>\n",
       "      <td>4.845000e+04</td>\n",
       "      <td>4.845000e+04</td>\n",
       "    </tr>\n",
       "    <tr>\n",
       "      <th>mean</th>\n",
       "      <td>2005.637812</td>\n",
       "      <td>1.195869e+04</td>\n",
       "      <td>6.358529e+05</td>\n",
       "    </tr>\n",
       "    <tr>\n",
       "      <th>std</th>\n",
       "      <td>4.976409</td>\n",
       "      <td>3.869045e+04</td>\n",
       "      <td>1.812132e+07</td>\n",
       "    </tr>\n",
       "    <tr>\n",
       "      <th>min</th>\n",
       "      <td>1997.000000</td>\n",
       "      <td>2.800000e-01</td>\n",
       "      <td>0.000000e+00</td>\n",
       "    </tr>\n",
       "    <tr>\n",
       "      <th>25%</th>\n",
       "      <td>2002.000000</td>\n",
       "      <td>8.500000e+01</td>\n",
       "      <td>8.700000e+01</td>\n",
       "    </tr>\n",
       "    <tr>\n",
       "      <th>50%</th>\n",
       "      <td>2006.000000</td>\n",
       "      <td>6.000000e+02</td>\n",
       "      <td>7.150000e+02</td>\n",
       "    </tr>\n",
       "    <tr>\n",
       "      <th>75%</th>\n",
       "      <td>2010.000000</td>\n",
       "      <td>4.588750e+03</td>\n",
       "      <td>6.996000e+03</td>\n",
       "    </tr>\n",
       "    <tr>\n",
       "      <th>max</th>\n",
       "      <td>2015.000000</td>\n",
       "      <td>1.403200e+06</td>\n",
       "      <td>1.250800e+09</td>\n",
       "    </tr>\n",
       "  </tbody>\n",
       "</table>\n",
       "</div>"
      ],
      "text/plain": [
       "          Crop_Year          Area    Production\n",
       "count  48450.000000  4.845000e+04  4.845000e+04\n",
       "mean    2005.637812  1.195869e+04  6.358529e+05\n",
       "std        4.976409  3.869045e+04  1.812132e+07\n",
       "min     1997.000000  2.800000e-01  0.000000e+00\n",
       "25%     2002.000000  8.500000e+01  8.700000e+01\n",
       "50%     2006.000000  6.000000e+02  7.150000e+02\n",
       "75%     2010.000000  4.588750e+03  6.996000e+03\n",
       "max     2015.000000  1.403200e+06  1.250800e+09"
      ]
     },
     "execution_count": 70,
     "metadata": {},
     "output_type": "execute_result"
    }
   ],
   "source": [
    "test.describe()"
   ]
  },
  {
   "cell_type": "code",
   "execution_count": 71,
   "id": "52fee278-54ce-4bb9-824a-ef75566b6323",
   "metadata": {},
   "outputs": [
    {
     "data": {
      "text/html": [
       "<div>\n",
       "<style scoped>\n",
       "    .dataframe tbody tr th:only-of-type {\n",
       "        vertical-align: middle;\n",
       "    }\n",
       "\n",
       "    .dataframe tbody tr th {\n",
       "        vertical-align: top;\n",
       "    }\n",
       "\n",
       "    .dataframe thead th {\n",
       "        text-align: right;\n",
       "    }\n",
       "</style>\n",
       "<table border=\"1\" class=\"dataframe\">\n",
       "  <thead>\n",
       "    <tr style=\"text-align: right;\">\n",
       "      <th></th>\n",
       "      <th>State_Name</th>\n",
       "      <th>District_Name</th>\n",
       "      <th>Crop_Year</th>\n",
       "      <th>Season</th>\n",
       "      <th>Crop</th>\n",
       "      <th>Area</th>\n",
       "      <th>Production</th>\n",
       "    </tr>\n",
       "  </thead>\n",
       "  <tbody>\n",
       "  </tbody>\n",
       "</table>\n",
       "</div>"
      ],
      "text/plain": [
       "Empty DataFrame\n",
       "Columns: [State_Name, District_Name, Crop_Year, Season, Crop, Area, Production]\n",
       "Index: []"
      ]
     },
     "execution_count": 71,
     "metadata": {},
     "output_type": "execute_result"
    }
   ],
   "source": [
    "test[test.duplicated()]"
   ]
  },
  {
   "cell_type": "code",
   "execution_count": 72,
   "id": "d69c72bc-f473-409a-9e46-486e88c538f7",
   "metadata": {},
   "outputs": [
    {
     "data": {
      "text/plain": [
       "array([2000, 2001, 2002, 2003, 2004, 2006, 2010, 2005, 1997, 1998, 1999,\n",
       "       2007, 2008, 2009, 2011, 2012, 2013, 2014, 2015], dtype=int64)"
      ]
     },
     "execution_count": 72,
     "metadata": {},
     "output_type": "execute_result"
    }
   ],
   "source": [
    "test['Crop_Year'].unique()"
   ]
  },
  {
   "cell_type": "code",
   "execution_count": 73,
   "id": "52ab0f19-a1a3-4c85-bfc9-741340aa8444",
   "metadata": {},
   "outputs": [
    {
     "data": {
      "text/html": [
       "<div>\n",
       "<style scoped>\n",
       "    .dataframe tbody tr th:only-of-type {\n",
       "        vertical-align: middle;\n",
       "    }\n",
       "\n",
       "    .dataframe tbody tr th {\n",
       "        vertical-align: top;\n",
       "    }\n",
       "\n",
       "    .dataframe thead th {\n",
       "        text-align: right;\n",
       "    }\n",
       "</style>\n",
       "<table border=\"1\" class=\"dataframe\">\n",
       "  <thead>\n",
       "    <tr style=\"text-align: right;\">\n",
       "      <th></th>\n",
       "      <th>State_Name</th>\n",
       "      <th>Production</th>\n",
       "    </tr>\n",
       "  </thead>\n",
       "  <tbody>\n",
       "    <tr>\n",
       "      <th>15</th>\n",
       "      <td>Kerala</td>\n",
       "      <td>2.195454e+10</td>\n",
       "    </tr>\n",
       "    <tr>\n",
       "      <th>1</th>\n",
       "      <td>Andhra Pradesh</td>\n",
       "      <td>3.318316e+09</td>\n",
       "    </tr>\n",
       "    <tr>\n",
       "      <th>27</th>\n",
       "      <td>Tamil Nadu</td>\n",
       "      <td>2.693354e+09</td>\n",
       "    </tr>\n",
       "    <tr>\n",
       "      <th>30</th>\n",
       "      <td>Uttar Pradesh</td>\n",
       "      <td>7.242604e+08</td>\n",
       "    </tr>\n",
       "    <tr>\n",
       "      <th>3</th>\n",
       "      <td>Assam</td>\n",
       "      <td>4.519229e+08</td>\n",
       "    </tr>\n",
       "    <tr>\n",
       "      <th>32</th>\n",
       "      <td>West Bengal</td>\n",
       "      <td>3.207696e+08</td>\n",
       "    </tr>\n",
       "    <tr>\n",
       "      <th>17</th>\n",
       "      <td>Maharashtra</td>\n",
       "      <td>2.444218e+08</td>\n",
       "    </tr>\n",
       "    <tr>\n",
       "      <th>14</th>\n",
       "      <td>Karnataka</td>\n",
       "      <td>1.861974e+08</td>\n",
       "    </tr>\n",
       "    <tr>\n",
       "      <th>8</th>\n",
       "      <td>Goa</td>\n",
       "      <td>1.264140e+08</td>\n",
       "    </tr>\n",
       "    <tr>\n",
       "      <th>24</th>\n",
       "      <td>Punjab</td>\n",
       "      <td>1.163516e+08</td>\n",
       "    </tr>\n",
       "  </tbody>\n",
       "</table>\n",
       "</div>"
      ],
      "text/plain": [
       "        State_Name    Production\n",
       "15          Kerala  2.195454e+10\n",
       "1   Andhra Pradesh  3.318316e+09\n",
       "27      Tamil Nadu  2.693354e+09\n",
       "30   Uttar Pradesh  7.242604e+08\n",
       "3            Assam  4.519229e+08\n",
       "32     West Bengal  3.207696e+08\n",
       "17     Maharashtra  2.444218e+08\n",
       "14       Karnataka  1.861974e+08\n",
       "8              Goa  1.264140e+08\n",
       "24          Punjab  1.163516e+08"
      ]
     },
     "execution_count": 73,
     "metadata": {},
     "output_type": "execute_result"
    }
   ],
   "source": [
    "State_wise= test.groupby('State_Name')['Production'].sum().reset_index().sort_values('Production',ascending=False).head(10)\n",
    "State_wise"
   ]
  },
  {
   "cell_type": "code",
   "execution_count": 74,
   "id": "efb4684e-089e-4a48-9d2f-52bee3eeb7d5",
   "metadata": {},
   "outputs": [
    {
     "data": {
      "text/plain": [
       "<Axes: xlabel='Production', ylabel='State_Name'>"
      ]
     },
     "execution_count": 74,
     "metadata": {},
     "output_type": "execute_result"
    },
    {
     "data": {
      "image/png": "[encoded data removed]",
      "text/plain": [
       "<Figure size 640x480 with 1 Axes>"
      ]
     },
     "metadata": {},
     "output_type": "display_data"
    }
   ],
   "source": [
    "sns.barplot(x='Production',y='State_Name',data=State_wise)"
   ]
  },
  {
   "cell_type": "code",
   "execution_count": 75,
   "id": "c66a9f67-dad8-4507-887f-6d47fe0524c8",
   "metadata": {},
   "outputs": [
    {
     "data": {
      "text/html": [
       "<div>\n",
       "<style scoped>\n",
       "    .dataframe tbody tr th:only-of-type {\n",
       "        vertical-align: middle;\n",
       "    }\n",
       "\n",
       "    .dataframe tbody tr th {\n",
       "        vertical-align: top;\n",
       "    }\n",
       "\n",
       "    .dataframe thead th {\n",
       "        text-align: right;\n",
       "    }\n",
       "</style>\n",
       "<table border=\"1\" class=\"dataframe\">\n",
       "  <thead>\n",
       "    <tr style=\"text-align: right;\">\n",
       "      <th></th>\n",
       "      <th>District_Name</th>\n",
       "      <th>Production</th>\n",
       "    </tr>\n",
       "  </thead>\n",
       "  <tbody>\n",
       "    <tr>\n",
       "      <th>370</th>\n",
       "      <td>MALAPPURAM</td>\n",
       "      <td>4.345039e+09</td>\n",
       "    </tr>\n",
       "    <tr>\n",
       "      <th>586</th>\n",
       "      <td>THRISSUR</td>\n",
       "      <td>2.898849e+09</td>\n",
       "    </tr>\n",
       "    <tr>\n",
       "      <th>333</th>\n",
       "      <td>KOZHIKODE</td>\n",
       "      <td>2.572865e+09</td>\n",
       "    </tr>\n",
       "    <tr>\n",
       "      <th>325</th>\n",
       "      <td>KOLLAM</td>\n",
       "      <td>2.469198e+09</td>\n",
       "    </tr>\n",
       "    <tr>\n",
       "      <th>583</th>\n",
       "      <td>THIRUVANANTHAPURAM</td>\n",
       "      <td>2.425987e+09</td>\n",
       "    </tr>\n",
       "    <tr>\n",
       "      <th>433</th>\n",
       "      <td>PALAKKAD</td>\n",
       "      <td>1.907731e+09</td>\n",
       "    </tr>\n",
       "    <tr>\n",
       "      <th>172</th>\n",
       "      <td>EAST GODAVARI</td>\n",
       "      <td>1.791928e+09</td>\n",
       "    </tr>\n",
       "    <tr>\n",
       "      <th>10</th>\n",
       "      <td>ALAPPUZHA</td>\n",
       "      <td>1.501170e+09</td>\n",
       "    </tr>\n",
       "    <tr>\n",
       "      <th>126</th>\n",
       "      <td>COIMBATORE</td>\n",
       "      <td>1.268962e+09</td>\n",
       "    </tr>\n",
       "    <tr>\n",
       "      <th>297</th>\n",
       "      <td>KASARAGOD</td>\n",
       "      <td>1.251582e+09</td>\n",
       "    </tr>\n",
       "  </tbody>\n",
       "</table>\n",
       "</div>"
      ],
      "text/plain": [
       "          District_Name    Production\n",
       "370          MALAPPURAM  4.345039e+09\n",
       "586            THRISSUR  2.898849e+09\n",
       "333           KOZHIKODE  2.572865e+09\n",
       "325              KOLLAM  2.469198e+09\n",
       "583  THIRUVANANTHAPURAM  2.425987e+09\n",
       "433            PALAKKAD  1.907731e+09\n",
       "172       EAST GODAVARI  1.791928e+09\n",
       "10            ALAPPUZHA  1.501170e+09\n",
       "126          COIMBATORE  1.268962e+09\n",
       "297           KASARAGOD  1.251582e+09"
      ]
     },
     "execution_count": 75,
     "metadata": {},
     "output_type": "execute_result"
    }
   ],
   "source": [
    "District_wise = test.groupby('District_Name')['Production'].sum().reset_index().sort_values('Production',ascending=False).head(10)\n",
    "District_wise"
   ]
  },
  {
   "cell_type": "code",
   "execution_count": 76,
   "id": "28551756-842c-48cb-bcaf-a2520793c508",
   "metadata": {},
   "outputs": [
    {
     "data": {
      "text/plain": [
       "<Axes: xlabel='Production', ylabel='District_Name'>"
      ]
     },
     "execution_count": 76,
     "metadata": {},
     "output_type": "execute_result"
    },
    {
     "data": {
      "image/png": "[encoded data removed]",
      "text/plain": [
       "<Figure size 640x480 with 1 Axes>"
      ]
     },
     "metadata": {},
     "output_type": "display_data"
    }
   ],
   "source": [
    "sns.barplot(x='Production',y='District_Name',data=District_wise)"
   ]
  },
  {
   "cell_type": "code",
   "execution_count": 77,
   "id": "cb4f8257-6aeb-4b6e-8407-845ec59946e5",
   "metadata": {},
   "outputs": [
    {
     "data": {
      "text/html": [
       "<div>\n",
       "<style scoped>\n",
       "    .dataframe tbody tr th:only-of-type {\n",
       "        vertical-align: middle;\n",
       "    }\n",
       "\n",
       "    .dataframe tbody tr th {\n",
       "        vertical-align: top;\n",
       "    }\n",
       "\n",
       "    .dataframe thead th {\n",
       "        text-align: right;\n",
       "    }\n",
       "</style>\n",
       "<table border=\"1\" class=\"dataframe\">\n",
       "  <thead>\n",
       "    <tr style=\"text-align: right;\">\n",
       "      <th></th>\n",
       "      <th>State_Name</th>\n",
       "      <th>District_Name</th>\n",
       "      <th>Crop_Year</th>\n",
       "      <th>Season</th>\n",
       "      <th>Crop</th>\n",
       "      <th>Area</th>\n",
       "      <th>Production</th>\n",
       "    </tr>\n",
       "  </thead>\n",
       "  <tbody>\n",
       "    <tr>\n",
       "      <th>2</th>\n",
       "      <td>Andaman and Nicobar Islands</td>\n",
       "      <td>NICOBARS</td>\n",
       "      <td>2000</td>\n",
       "      <td>Kharif</td>\n",
       "      <td>Rice</td>\n",
       "      <td>102.0</td>\n",
       "      <td>321.00</td>\n",
       "    </tr>\n",
       "    <tr>\n",
       "      <th>10</th>\n",
       "      <td>Andaman and Nicobar Islands</td>\n",
       "      <td>NICOBARS</td>\n",
       "      <td>2001</td>\n",
       "      <td>Kharif</td>\n",
       "      <td>Arecanut</td>\n",
       "      <td>1254.0</td>\n",
       "      <td>2061.00</td>\n",
       "    </tr>\n",
       "    <tr>\n",
       "      <th>21</th>\n",
       "      <td>Andaman and Nicobar Islands</td>\n",
       "      <td>NICOBARS</td>\n",
       "      <td>2002</td>\n",
       "      <td>Whole Year</td>\n",
       "      <td>Black pepper</td>\n",
       "      <td>63.0</td>\n",
       "      <td>13.50</td>\n",
       "    </tr>\n",
       "    <tr>\n",
       "      <th>27</th>\n",
       "      <td>Andaman and Nicobar Islands</td>\n",
       "      <td>NICOBARS</td>\n",
       "      <td>2003</td>\n",
       "      <td>Kharif</td>\n",
       "      <td>Rice</td>\n",
       "      <td>52.0</td>\n",
       "      <td>90.17</td>\n",
       "    </tr>\n",
       "    <tr>\n",
       "      <th>30</th>\n",
       "      <td>Andaman and Nicobar Islands</td>\n",
       "      <td>NICOBARS</td>\n",
       "      <td>2003</td>\n",
       "      <td>Whole Year</td>\n",
       "      <td>Black pepper</td>\n",
       "      <td>75.5</td>\n",
       "      <td>15.86</td>\n",
       "    </tr>\n",
       "  </tbody>\n",
       "</table>\n",
       "</div>"
      ],
      "text/plain": [
       "                     State_Name District_Name  Crop_Year       Season  \\\n",
       "2   Andaman and Nicobar Islands      NICOBARS       2000  Kharif        \n",
       "10  Andaman and Nicobar Islands      NICOBARS       2001  Kharif        \n",
       "21  Andaman and Nicobar Islands      NICOBARS       2002  Whole Year    \n",
       "27  Andaman and Nicobar Islands      NICOBARS       2003  Kharif        \n",
       "30  Andaman and Nicobar Islands      NICOBARS       2003  Whole Year    \n",
       "\n",
       "            Crop    Area  Production  \n",
       "2           Rice   102.0      321.00  \n",
       "10      Arecanut  1254.0     2061.00  \n",
       "21  Black pepper    63.0       13.50  \n",
       "27          Rice    52.0       90.17  \n",
       "30  Black pepper    75.5       15.86  "
      ]
     },
     "execution_count": 77,
     "metadata": {},
     "output_type": "execute_result"
    }
   ],
   "source": [
    "test.head()"
   ]
  },
  {
   "cell_type": "code",
   "execution_count": 78,
   "id": "c4538937-c500-4681-9abf-7070daf6a0cb",
   "metadata": {},
   "outputs": [
    {
     "data": {
      "text/html": [
       "<div>\n",
       "<style scoped>\n",
       "    .dataframe tbody tr th:only-of-type {\n",
       "        vertical-align: middle;\n",
       "    }\n",
       "\n",
       "    .dataframe tbody tr th {\n",
       "        vertical-align: top;\n",
       "    }\n",
       "\n",
       "    .dataframe thead th {\n",
       "        text-align: right;\n",
       "    }\n",
       "</style>\n",
       "<table border=\"1\" class=\"dataframe\">\n",
       "  <thead>\n",
       "    <tr style=\"text-align: right;\">\n",
       "      <th></th>\n",
       "      <th>Crop_Year</th>\n",
       "      <th>Production</th>\n",
       "    </tr>\n",
       "  </thead>\n",
       "  <tbody>\n",
       "    <tr>\n",
       "      <th>16</th>\n",
       "      <td>2013</td>\n",
       "      <td>3.668653e+09</td>\n",
       "    </tr>\n",
       "    <tr>\n",
       "      <th>17</th>\n",
       "      <td>2014</td>\n",
       "      <td>3.290174e+09</td>\n",
       "    </tr>\n",
       "    <tr>\n",
       "      <th>14</th>\n",
       "      <td>2011</td>\n",
       "      <td>3.175235e+09</td>\n",
       "    </tr>\n",
       "    <tr>\n",
       "      <th>13</th>\n",
       "      <td>2010</td>\n",
       "      <td>2.741901e+09</td>\n",
       "    </tr>\n",
       "    <tr>\n",
       "      <th>7</th>\n",
       "      <td>2004</td>\n",
       "      <td>2.521781e+09</td>\n",
       "    </tr>\n",
       "    <tr>\n",
       "      <th>8</th>\n",
       "      <td>2005</td>\n",
       "      <td>2.159099e+09</td>\n",
       "    </tr>\n",
       "    <tr>\n",
       "      <th>2</th>\n",
       "      <td>1999</td>\n",
       "      <td>2.105513e+09</td>\n",
       "    </tr>\n",
       "    <tr>\n",
       "      <th>15</th>\n",
       "      <td>2012</td>\n",
       "      <td>1.844632e+09</td>\n",
       "    </tr>\n",
       "    <tr>\n",
       "      <th>9</th>\n",
       "      <td>2006</td>\n",
       "      <td>1.788635e+09</td>\n",
       "    </tr>\n",
       "    <tr>\n",
       "      <th>4</th>\n",
       "      <td>2001</td>\n",
       "      <td>1.771147e+09</td>\n",
       "    </tr>\n",
       "  </tbody>\n",
       "</table>\n",
       "</div>"
      ],
      "text/plain": [
       "    Crop_Year    Production\n",
       "16       2013  3.668653e+09\n",
       "17       2014  3.290174e+09\n",
       "14       2011  3.175235e+09\n",
       "13       2010  2.741901e+09\n",
       "7        2004  2.521781e+09\n",
       "8        2005  2.159099e+09\n",
       "2        1999  2.105513e+09\n",
       "15       2012  1.844632e+09\n",
       "9        2006  1.788635e+09\n",
       "4        2001  1.771147e+09"
      ]
     },
     "execution_count": 78,
     "metadata": {},
     "output_type": "execute_result"
    }
   ],
   "source": [
    "Crop_year = test.groupby('Crop_Year')['Production'].sum().reset_index().sort_values('Production',ascending=False).head(10)\n",
    "Crop_year"
   ]
  },
  {
   "cell_type": "code",
   "execution_count": 79,
   "id": "a9401b60-6b1f-4596-9573-cf8234838e7f",
   "metadata": {},
   "outputs": [
    {
     "data": {
      "text/plain": [
       "<Axes: xlabel='Crop_Year', ylabel='Production'>"
      ]
     },
     "execution_count": 79,
     "metadata": {},
     "output_type": "execute_result"
    },
    {
     "data": {
      "image/png": "[encoded data removed]",
      "text/plain": [
       "<Figure size 640x480 with 1 Axes>"
      ]
     },
     "metadata": {},
     "output_type": "display_data"
    }
   ],
   "source": [
    "sns.barplot(y='Production',x='Crop_Year',data=Crop_year)"
   ]
  },
  {
   "cell_type": "code",
   "execution_count": 80,
   "id": "b7d59ee2-993b-40ee-ae9a-acee18b3a99f",
   "metadata": {},
   "outputs": [
    {
     "data": {
      "text/html": [
       "<div>\n",
       "<style scoped>\n",
       "    .dataframe tbody tr th:only-of-type {\n",
       "        vertical-align: middle;\n",
       "    }\n",
       "\n",
       "    .dataframe tbody tr th {\n",
       "        vertical-align: top;\n",
       "    }\n",
       "\n",
       "    .dataframe thead th {\n",
       "        text-align: right;\n",
       "    }\n",
       "</style>\n",
       "<table border=\"1\" class=\"dataframe\">\n",
       "  <thead>\n",
       "    <tr style=\"text-align: right;\">\n",
       "      <th></th>\n",
       "      <th>Season</th>\n",
       "      <th>Production</th>\n",
       "    </tr>\n",
       "  </thead>\n",
       "  <tbody>\n",
       "    <tr>\n",
       "      <th>4</th>\n",
       "      <td>Whole Year</td>\n",
       "      <td>2.935059e+10</td>\n",
       "    </tr>\n",
       "    <tr>\n",
       "      <th>1</th>\n",
       "      <td>Kharif</td>\n",
       "      <td>9.093550e+08</td>\n",
       "    </tr>\n",
       "    <tr>\n",
       "      <th>2</th>\n",
       "      <td>Rabi</td>\n",
       "      <td>4.217523e+08</td>\n",
       "    </tr>\n",
       "    <tr>\n",
       "      <th>5</th>\n",
       "      <td>Winter</td>\n",
       "      <td>8.287377e+07</td>\n",
       "    </tr>\n",
       "    <tr>\n",
       "      <th>3</th>\n",
       "      <td>Summer</td>\n",
       "      <td>2.881335e+07</td>\n",
       "    </tr>\n",
       "    <tr>\n",
       "      <th>0</th>\n",
       "      <td>Autumn</td>\n",
       "      <td>1.368599e+07</td>\n",
       "    </tr>\n",
       "  </tbody>\n",
       "</table>\n",
       "</div>"
      ],
      "text/plain": [
       "        Season    Production\n",
       "4  Whole Year   2.935059e+10\n",
       "1  Kharif       9.093550e+08\n",
       "2  Rabi         4.217523e+08\n",
       "5  Winter       8.287377e+07\n",
       "3  Summer       2.881335e+07\n",
       "0  Autumn       1.368599e+07"
      ]
     },
     "execution_count": 80,
     "metadata": {},
     "output_type": "execute_result"
    }
   ],
   "source": [
    "Season_wise = test.groupby('Season')['Production'].sum().reset_index().sort_values('Production',ascending=False).head(10)\n",
    "Season_wise"
   ]
  },
  {
   "cell_type": "code",
   "execution_count": 81,
   "id": "c7e46cdb-13cc-46ec-a715-b8f38e532b1e",
   "metadata": {},
   "outputs": [
    {
     "data": {
      "text/plain": [
       "<Axes: xlabel='Season', ylabel='Production'>"
      ]
     },
     "execution_count": 81,
     "metadata": {},
     "output_type": "execute_result"
    },
    {
     "data": {
      "image/png": "[encoded data removed]",
      "text/plain": [
       "<Figure size 640x480 with 1 Axes>"
      ]
     },
     "metadata": {},
     "output_type": "display_data"
    }
   ],
   "source": [
    "sns.barplot(y='Production',x='Season',data=Season_wise)"
   ]
  },
  {
   "cell_type": "code",
   "execution_count": 82,
   "id": "a43b33b9-fd1b-4468-a2bd-5d1383fa35ad",
   "metadata": {},
   "outputs": [
    {
     "data": {
      "text/html": [
       "<div>\n",
       "<style scoped>\n",
       "    .dataframe tbody tr th:only-of-type {\n",
       "        vertical-align: middle;\n",
       "    }\n",
       "\n",
       "    .dataframe tbody tr th {\n",
       "        vertical-align: top;\n",
       "    }\n",
       "\n",
       "    .dataframe thead th {\n",
       "        text-align: right;\n",
       "    }\n",
       "</style>\n",
       "<table border=\"1\" class=\"dataframe\">\n",
       "  <thead>\n",
       "    <tr style=\"text-align: right;\">\n",
       "      <th></th>\n",
       "      <th>Crop</th>\n",
       "      <th>Production</th>\n",
       "    </tr>\n",
       "  </thead>\n",
       "  <tbody>\n",
       "    <tr>\n",
       "      <th>27</th>\n",
       "      <td>Coconut</td>\n",
       "      <td>2.848418e+10</td>\n",
       "    </tr>\n",
       "    <tr>\n",
       "      <th>100</th>\n",
       "      <td>Sugarcane</td>\n",
       "      <td>1.190439e+09</td>\n",
       "    </tr>\n",
       "    <tr>\n",
       "      <th>89</th>\n",
       "      <td>Rice</td>\n",
       "      <td>3.146786e+08</td>\n",
       "    </tr>\n",
       "    <tr>\n",
       "      <th>112</th>\n",
       "      <td>Wheat</td>\n",
       "      <td>2.644353e+08</td>\n",
       "    </tr>\n",
       "    <tr>\n",
       "      <th>81</th>\n",
       "      <td>Potato</td>\n",
       "      <td>9.068817e+07</td>\n",
       "    </tr>\n",
       "    <tr>\n",
       "      <th>31</th>\n",
       "      <td>Cotton(lint)</td>\n",
       "      <td>6.464485e+07</td>\n",
       "    </tr>\n",
       "    <tr>\n",
       "      <th>56</th>\n",
       "      <td>Maize</td>\n",
       "      <td>5.570905e+07</td>\n",
       "    </tr>\n",
       "    <tr>\n",
       "      <th>47</th>\n",
       "      <td>Jute</td>\n",
       "      <td>3.912489e+07</td>\n",
       "    </tr>\n",
       "    <tr>\n",
       "      <th>99</th>\n",
       "      <td>Soyabean</td>\n",
       "      <td>2.754284e+07</td>\n",
       "    </tr>\n",
       "    <tr>\n",
       "      <th>6</th>\n",
       "      <td>Banana</td>\n",
       "      <td>2.708948e+07</td>\n",
       "    </tr>\n",
       "  </tbody>\n",
       "</table>\n",
       "</div>"
      ],
      "text/plain": [
       "             Crop    Production\n",
       "27       Coconut   2.848418e+10\n",
       "100     Sugarcane  1.190439e+09\n",
       "89           Rice  3.146786e+08\n",
       "112         Wheat  2.644353e+08\n",
       "81         Potato  9.068817e+07\n",
       "31   Cotton(lint)  6.464485e+07\n",
       "56          Maize  5.570905e+07\n",
       "47           Jute  3.912489e+07\n",
       "99       Soyabean  2.754284e+07\n",
       "6          Banana  2.708948e+07"
      ]
     },
     "execution_count": 82,
     "metadata": {},
     "output_type": "execute_result"
    }
   ],
   "source": [
    "Crops =test.groupby('Crop')['Production'].sum().reset_index().sort_values('Production',ascending=False).head(10)\n",
    "Crops"
   ]
  },
  {
   "cell_type": "code",
   "execution_count": 83,
   "id": "bc1d2455-f19e-4f96-b518-7c6ee607f30a",
   "metadata": {},
   "outputs": [
    {
     "data": {
      "text/plain": [
       "<Axes: xlabel='Production', ylabel='Crop'>"
      ]
     },
     "execution_count": 83,
     "metadata": {},
     "output_type": "execute_result"
    },
    {
     "data": {
      "image/png": "[encoded data removed]",
      "text/plain": [
       "<Figure size 640x480 with 1 Axes>"
      ]
     },
     "metadata": {},
     "output_type": "display_data"
    }
   ],
   "source": [
    "sns.barplot(x='Production',y='Crop',data=Crops)"
   ]
  },
  {
   "cell_type": "code",
   "execution_count": 84,
   "id": "301f67b4-5c18-4059-87d9-28ac8a810043",
   "metadata": {},
   "outputs": [
    {
     "data": {
      "text/html": [
       "<div>\n",
       "<style scoped>\n",
       "    .dataframe tbody tr th:only-of-type {\n",
       "        vertical-align: middle;\n",
       "    }\n",
       "\n",
       "    .dataframe tbody tr th {\n",
       "        vertical-align: top;\n",
       "    }\n",
       "\n",
       "    .dataframe thead th {\n",
       "        text-align: right;\n",
       "    }\n",
       "</style>\n",
       "<table border=\"1\" class=\"dataframe\">\n",
       "  <thead>\n",
       "    <tr style=\"text-align: right;\">\n",
       "      <th></th>\n",
       "      <th>Area</th>\n",
       "      <th>State_Name</th>\n",
       "      <th>Production</th>\n",
       "    </tr>\n",
       "  </thead>\n",
       "  <tbody>\n",
       "    <tr>\n",
       "      <th>25430</th>\n",
       "      <td>82704.00</td>\n",
       "      <td>Tamil Nadu</td>\n",
       "      <td>1.250800e+09</td>\n",
       "    </tr>\n",
       "    <tr>\n",
       "      <th>26215</th>\n",
       "      <td>123115.00</td>\n",
       "      <td>Kerala</td>\n",
       "      <td>9.480000e+08</td>\n",
       "    </tr>\n",
       "    <tr>\n",
       "      <th>25927</th>\n",
       "      <td>105481.00</td>\n",
       "      <td>Kerala</td>\n",
       "      <td>9.350000e+08</td>\n",
       "    </tr>\n",
       "    <tr>\n",
       "      <th>25888</th>\n",
       "      <td>103691.00</td>\n",
       "      <td>Kerala</td>\n",
       "      <td>9.330000e+08</td>\n",
       "    </tr>\n",
       "    <tr>\n",
       "      <th>26062</th>\n",
       "      <td>113162.00</td>\n",
       "      <td>Kerala</td>\n",
       "      <td>9.000000e+08</td>\n",
       "    </tr>\n",
       "    <tr>\n",
       "      <th>26046</th>\n",
       "      <td>112238.00</td>\n",
       "      <td>Kerala</td>\n",
       "      <td>8.590000e+08</td>\n",
       "    </tr>\n",
       "    <tr>\n",
       "      <th>26309</th>\n",
       "      <td>129865.00</td>\n",
       "      <td>Kerala</td>\n",
       "      <td>8.540000e+08</td>\n",
       "    </tr>\n",
       "    <tr>\n",
       "      <th>24038</th>\n",
       "      <td>46865.00</td>\n",
       "      <td>Andhra Pradesh</td>\n",
       "      <td>7.801620e+08</td>\n",
       "    </tr>\n",
       "    <tr>\n",
       "      <th>26199</th>\n",
       "      <td>121688.42</td>\n",
       "      <td>Kerala</td>\n",
       "      <td>7.696850e+08</td>\n",
       "    </tr>\n",
       "    <tr>\n",
       "      <th>25498</th>\n",
       "      <td>85366.00</td>\n",
       "      <td>Kerala</td>\n",
       "      <td>7.260000e+08</td>\n",
       "    </tr>\n",
       "  </tbody>\n",
       "</table>\n",
       "</div>"
      ],
      "text/plain": [
       "            Area      State_Name    Production\n",
       "25430   82704.00      Tamil Nadu  1.250800e+09\n",
       "26215  123115.00          Kerala  9.480000e+08\n",
       "25927  105481.00          Kerala  9.350000e+08\n",
       "25888  103691.00          Kerala  9.330000e+08\n",
       "26062  113162.00          Kerala  9.000000e+08\n",
       "26046  112238.00          Kerala  8.590000e+08\n",
       "26309  129865.00          Kerala  8.540000e+08\n",
       "24038   46865.00  Andhra Pradesh  7.801620e+08\n",
       "26199  121688.42          Kerala  7.696850e+08\n",
       "25498   85366.00          Kerala  7.260000e+08"
      ]
     },
     "execution_count": 84,
     "metadata": {},
     "output_type": "execute_result"
    }
   ],
   "source": [
    "Area_wise =test.groupby(['Area','State_Name'])['Production'].sum().reset_index().sort_values('Production',ascending=False).head(10)\n",
    "Area_wise"
   ]
  },
  {
   "cell_type": "code",
   "execution_count": 85,
   "id": "c4f0a94f-8622-4bbd-8beb-8b87b527b6cd",
   "metadata": {},
   "outputs": [
    {
     "data": {
      "text/plain": [
       "<Axes: xlabel='State_Name', ylabel='Area'>"
      ]
     },
     "execution_count": 85,
     "metadata": {},
     "output_type": "execute_result"
    },
    {
     "data": {
      "image/png": "[encoded data removed]",
      "text/plain": [
       "<Figure size 640x480 with 1 Axes>"
      ]
     },
     "metadata": {},
     "output_type": "display_data"
    }
   ],
   "source": [
    "\n",
    "sns.barplot(x='State_Name',y='Area',data=Area_wise)"
   ]
  },
  {
   "cell_type": "code",
   "execution_count": 86,
   "id": "2ba44c53-ffc7-4f5a-9604-bc6a27df6619",
   "metadata": {},
   "outputs": [
    {
     "data": {
      "text/html": [
       "<div>\n",
       "<style scoped>\n",
       "    .dataframe tbody tr th:only-of-type {\n",
       "        vertical-align: middle;\n",
       "    }\n",
       "\n",
       "    .dataframe tbody tr th {\n",
       "        vertical-align: top;\n",
       "    }\n",
       "\n",
       "    .dataframe thead th {\n",
       "        text-align: right;\n",
       "    }\n",
       "</style>\n",
       "<table border=\"1\" class=\"dataframe\">\n",
       "  <thead>\n",
       "    <tr style=\"text-align: right;\">\n",
       "      <th></th>\n",
       "      <th>State_Name</th>\n",
       "      <th>District_Name</th>\n",
       "      <th>Crop_Year</th>\n",
       "      <th>Season</th>\n",
       "      <th>Crop</th>\n",
       "      <th>Area</th>\n",
       "      <th>Production</th>\n",
       "    </tr>\n",
       "  </thead>\n",
       "  <tbody>\n",
       "    <tr>\n",
       "      <th>0</th>\n",
       "      <td>Uttar Pradesh</td>\n",
       "      <td>MAU</td>\n",
       "      <td>2001</td>\n",
       "      <td>Kharif</td>\n",
       "      <td>Small millets</td>\n",
       "      <td>98.0</td>\n",
       "      <td>51.0</td>\n",
       "    </tr>\n",
       "    <tr>\n",
       "      <th>1</th>\n",
       "      <td>Odisha</td>\n",
       "      <td>BARGARH</td>\n",
       "      <td>2007</td>\n",
       "      <td>Winter</td>\n",
       "      <td>Sugarcane</td>\n",
       "      <td>742.0</td>\n",
       "      <td>47581.5</td>\n",
       "    </tr>\n",
       "    <tr>\n",
       "      <th>2</th>\n",
       "      <td>Bihar</td>\n",
       "      <td>PURBI CHAMPARAN</td>\n",
       "      <td>2010</td>\n",
       "      <td>Kharif</td>\n",
       "      <td>Mesta</td>\n",
       "      <td>7.0</td>\n",
       "      <td>120.0</td>\n",
       "    </tr>\n",
       "    <tr>\n",
       "      <th>3</th>\n",
       "      <td>Andaman and Nicobar Islands</td>\n",
       "      <td>NORTH AND MIDDLE ANDAMAN</td>\n",
       "      <td>2010</td>\n",
       "      <td>Rabi</td>\n",
       "      <td>Dry chillies</td>\n",
       "      <td>254.0</td>\n",
       "      <td>402.0</td>\n",
       "    </tr>\n",
       "    <tr>\n",
       "      <th>4</th>\n",
       "      <td>Gujarat</td>\n",
       "      <td>SURENDRANAGAR</td>\n",
       "      <td>1997</td>\n",
       "      <td>Kharif</td>\n",
       "      <td>Bajra</td>\n",
       "      <td>85900.0</td>\n",
       "      <td>103000.0</td>\n",
       "    </tr>\n",
       "  </tbody>\n",
       "</table>\n",
       "</div>"
      ],
      "text/plain": [
       "                    State_Name             District_Name  Crop_Year  \\\n",
       "0                Uttar Pradesh                       MAU       2001   \n",
       "1                       Odisha                   BARGARH       2007   \n",
       "2                        Bihar           PURBI CHAMPARAN       2010   \n",
       "3  Andaman and Nicobar Islands  NORTH AND MIDDLE ANDAMAN       2010   \n",
       "4                      Gujarat             SURENDRANAGAR       1997   \n",
       "\n",
       "        Season           Crop     Area  Production  \n",
       "0  Kharif       Small millets     98.0        51.0  \n",
       "1  Winter           Sugarcane    742.0     47581.5  \n",
       "2  Kharif               Mesta      7.0       120.0  \n",
       "3  Rabi          Dry chillies    254.0       402.0  \n",
       "4  Kharif               Bajra  85900.0    103000.0  "
      ]
     },
     "execution_count": 86,
     "metadata": {},
     "output_type": "execute_result"
    }
   ],
   "source": [
    "train.head()"
   ]
  },
  {
   "cell_type": "code",
   "execution_count": 87,
   "id": "78beb348-13f6-45d2-96fd-2ff44abadb04",
   "metadata": {},
   "outputs": [
    {
     "data": {
      "text/html": [
       "<div>\n",
       "<style scoped>\n",
       "    .dataframe tbody tr th:only-of-type {\n",
       "        vertical-align: middle;\n",
       "    }\n",
       "\n",
       "    .dataframe tbody tr th {\n",
       "        vertical-align: top;\n",
       "    }\n",
       "\n",
       "    .dataframe thead th {\n",
       "        text-align: right;\n",
       "    }\n",
       "</style>\n",
       "<table border=\"1\" class=\"dataframe\">\n",
       "  <thead>\n",
       "    <tr style=\"text-align: right;\">\n",
       "      <th></th>\n",
       "      <th>State_Name</th>\n",
       "      <th>District_Name</th>\n",
       "      <th>Season</th>\n",
       "      <th>Crop</th>\n",
       "    </tr>\n",
       "  </thead>\n",
       "  <tbody>\n",
       "    <tr>\n",
       "      <th>count</th>\n",
       "      <td>193911</td>\n",
       "      <td>193911</td>\n",
       "      <td>193911</td>\n",
       "      <td>193911</td>\n",
       "    </tr>\n",
       "    <tr>\n",
       "      <th>unique</th>\n",
       "      <td>33</td>\n",
       "      <td>646</td>\n",
       "      <td>6</td>\n",
       "      <td>124</td>\n",
       "    </tr>\n",
       "    <tr>\n",
       "      <th>top</th>\n",
       "      <td>Uttar Pradesh</td>\n",
       "      <td>BIJAPUR</td>\n",
       "      <td>Kharif</td>\n",
       "      <td>Rice</td>\n",
       "    </tr>\n",
       "    <tr>\n",
       "      <th>freq</th>\n",
       "      <td>26553</td>\n",
       "      <td>735</td>\n",
       "      <td>75607</td>\n",
       "      <td>12061</td>\n",
       "    </tr>\n",
       "  </tbody>\n",
       "</table>\n",
       "</div>"
      ],
      "text/plain": [
       "           State_Name District_Name       Season    Crop\n",
       "count          193911        193911       193911  193911\n",
       "unique             33           646            6     124\n",
       "top     Uttar Pradesh       BIJAPUR  Kharif         Rice\n",
       "freq            26553           735        75607   12061"
      ]
     },
     "execution_count": 87,
     "metadata": {},
     "output_type": "execute_result"
    }
   ],
   "source": [
    "train.describe(include='object')"
   ]
  },
  {
   "cell_type": "markdown",
   "id": "fe68a27a-2b30-4d9a-ba01-5cdabb24d50f",
   "metadata": {},
   "source": [
    "#### We can see the District name has 646 unique values so we drop that column."
   ]
  },
  {
   "cell_type": "code",
   "execution_count": 88,
   "id": "3259351c-c06d-4256-82d7-78c067dbc92d",
   "metadata": {},
   "outputs": [],
   "source": [
    "train.drop(columns='District_Name',inplace=True)"
   ]
  },
  {
   "cell_type": "code",
   "execution_count": 89,
   "id": "b1d07363-03ac-493e-89cd-d1157a20949a",
   "metadata": {},
   "outputs": [],
   "source": [
    "from sklearn.preprocessing import LabelEncoder\n",
    "le=LabelEncoder()"
   ]
  },
  {
   "cell_type": "code",
   "execution_count": 90,
   "id": "5d3b814b-fa98-4d76-b298-a3b97e8fb1cb",
   "metadata": {},
   "outputs": [],
   "source": [
    "train['State_Name']=le.fit_transform(train['State_Name'])\n",
    "train['Season']=le.fit_transform(train['Season'])\n",
    "train['Crop']=le.fit_transform(train['Crop'])"
   ]
  },
  {
   "cell_type": "code",
   "execution_count": 91,
   "id": "19f47268-5c53-4852-a908-d184a63d6532",
   "metadata": {},
   "outputs": [
    {
     "data": {
      "text/html": [
       "<div>\n",
       "<style scoped>\n",
       "    .dataframe tbody tr th:only-of-type {\n",
       "        vertical-align: middle;\n",
       "    }\n",
       "\n",
       "    .dataframe tbody tr th {\n",
       "        vertical-align: top;\n",
       "    }\n",
       "\n",
       "    .dataframe thead th {\n",
       "        text-align: right;\n",
       "    }\n",
       "</style>\n",
       "<table border=\"1\" class=\"dataframe\">\n",
       "  <thead>\n",
       "    <tr style=\"text-align: right;\">\n",
       "      <th></th>\n",
       "      <th>State_Name</th>\n",
       "      <th>Crop_Year</th>\n",
       "      <th>Season</th>\n",
       "      <th>Crop</th>\n",
       "      <th>Area</th>\n",
       "      <th>Production</th>\n",
       "    </tr>\n",
       "  </thead>\n",
       "  <tbody>\n",
       "    <tr>\n",
       "      <th>0</th>\n",
       "      <td>30</td>\n",
       "      <td>2001</td>\n",
       "      <td>1</td>\n",
       "      <td>103</td>\n",
       "      <td>98.0</td>\n",
       "      <td>51.0</td>\n",
       "    </tr>\n",
       "    <tr>\n",
       "      <th>1</th>\n",
       "      <td>22</td>\n",
       "      <td>2007</td>\n",
       "      <td>5</td>\n",
       "      <td>106</td>\n",
       "      <td>742.0</td>\n",
       "      <td>47581.5</td>\n",
       "    </tr>\n",
       "    <tr>\n",
       "      <th>2</th>\n",
       "      <td>4</td>\n",
       "      <td>2010</td>\n",
       "      <td>1</td>\n",
       "      <td>62</td>\n",
       "      <td>7.0</td>\n",
       "      <td>120.0</td>\n",
       "    </tr>\n",
       "    <tr>\n",
       "      <th>3</th>\n",
       "      <td>0</td>\n",
       "      <td>2010</td>\n",
       "      <td>2</td>\n",
       "      <td>37</td>\n",
       "      <td>254.0</td>\n",
       "      <td>402.0</td>\n",
       "    </tr>\n",
       "    <tr>\n",
       "      <th>4</th>\n",
       "      <td>9</td>\n",
       "      <td>1997</td>\n",
       "      <td>1</td>\n",
       "      <td>6</td>\n",
       "      <td>85900.0</td>\n",
       "      <td>103000.0</td>\n",
       "    </tr>\n",
       "  </tbody>\n",
       "</table>\n",
       "</div>"
      ],
      "text/plain": [
       "   State_Name  Crop_Year  Season  Crop     Area  Production\n",
       "0          30       2001       1   103     98.0        51.0\n",
       "1          22       2007       5   106    742.0     47581.5\n",
       "2           4       2010       1    62      7.0       120.0\n",
       "3           0       2010       2    37    254.0       402.0\n",
       "4           9       1997       1     6  85900.0    103000.0"
      ]
     },
     "execution_count": 91,
     "metadata": {},
     "output_type": "execute_result"
    }
   ],
   "source": [
    "train.head()"
   ]
  },
  {
   "cell_type": "markdown",
   "id": "62d1c0a8-647b-4fd7-9a6a-f78390c56f51",
   "metadata": {},
   "source": [
    "### Train Test split"
   ]
  },
  {
   "cell_type": "code",
   "execution_count": 92,
   "id": "c2483058-8a23-475c-bf60-85f0dd80eb8c",
   "metadata": {},
   "outputs": [],
   "source": [
    "X = train.drop(['Production'],axis=1)\n",
    "y =train['Production']"
   ]
  },
  {
   "cell_type": "code",
   "execution_count": 93,
   "id": "2487f698-88aa-42af-bb90-72aac61b4870",
   "metadata": {},
   "outputs": [
    {
     "data": {
      "text/plain": [
       "((155128, 5), (38783, 5), (155128,), (38783,))"
      ]
     },
     "execution_count": 93,
     "metadata": {},
     "output_type": "execute_result"
    }
   ],
   "source": [
    "X_train,X_test,y_train,y_test=train_test_split(X,y,test_size=0.20,random_state=1)\n",
    "X_train.shape,X_test.shape,y_train.shape,y_test.shape"
   ]
  },
  {
   "cell_type": "markdown",
   "id": "6f14677d-784e-4570-ba30-9f51db0dfb39",
   "metadata": {},
   "source": [
    "## Scaling the data"
   ]
  },
  {
   "cell_type": "code",
   "execution_count": 94,
   "id": "e398f418-9a0c-41ae-9796-e94274e908c2",
   "metadata": {},
   "outputs": [],
   "source": [
    "sc=StandardScaler()\n",
    "\n",
    "X_train_scaled=sc.fit_transform(X_train)\n",
    "X_test_scaled=sc.transform(X_test)"
   ]
  },
  {
   "cell_type": "markdown",
   "id": "90dde162-0440-4973-af08-086f15286405",
   "metadata": {},
   "source": [
    "## Now will try to build with various models like Decision Tree and Randomforest etc"
   ]
  },
  {
   "cell_type": "code",
   "execution_count": 95,
   "id": "608dea8f-6ae1-4915-b01d-6fb120d45f01",
   "metadata": {},
   "outputs": [],
   "source": [
    "models=[DecisionTreeRegressor(),RandomForestRegressor()]"
   ]
  },
  {
   "cell_type": "code",
   "execution_count": 96,
   "id": "8581fe54-2020-4dff-a0ca-47ed2cf95c24",
   "metadata": {},
   "outputs": [
    {
     "name": "stdout",
     "output_type": "stream",
     "text": [
      "DecisionTreeRegressor(): \n",
      "MSE_train:  1666247.5552526398\n",
      "MSE_test:  82294178674456.27\n",
      "RMSE_train:  1290.832117377252\n",
      "RMSE_test:  9071613.895799153\n",
      "R2_score_train:  0.999999993983815\n",
      "R2_score_test:  0.7274697057801345\n",
      "\n",
      "--------------------------------------------------------------------------------------------------------------\n",
      "RandomForestRegressor(): \n",
      "MSE_train:  3439036580710.9146\n",
      "MSE_test:  37262689556652.93\n",
      "RMSE_train:  1854463.960477775\n",
      "RMSE_test:  6104317.2883339645\n",
      "R2_score_train:  0.9875829493503449\n",
      "R2_score_test:  0.876598662118366\n",
      "\n",
      "--------------------------------------------------------------------------------------------------------------\n"
     ]
    }
   ],
   "source": [
    "for i in range(2):\n",
    "    models[i].fit(X_train_scaled,y_train)\n",
    "    \n",
    "    print(f'{models[i]}: ')\n",
    "    y_pred_train=models[i].predict(X_train_scaled)\n",
    "    y_pred_test=models[i].predict(X_test_scaled)\n",
    "    \n",
    "    print('MSE_train: ',mean_squared_error(y_train,y_pred_train))\n",
    "    print('MSE_test: ',mean_squared_error(y_test,y_pred_test))\n",
    "    \n",
    "    print('RMSE_train: ',np.sqrt(mean_squared_error(y_train,y_pred_train)))\n",
    "    print('RMSE_test: ',np.sqrt(mean_squared_error(y_test,y_pred_test)))\n",
    "    \n",
    "    print('R2_score_train: ',r2_score(y_train,y_pred_train))\n",
    "    print('R2_score_test: ',r2_score(y_test,y_pred_test))\n",
    "    \n",
    "    print()\n",
    "    print('--'*55)"
   ]
  },
  {
   "cell_type": "markdown",
   "id": "59e65ef7-9662-499a-9376-3ac095b05cea",
   "metadata": {},
   "source": [
    "### Randomized Search CV"
   ]
  },
  {
   "cell_type": "code",
   "execution_count": 97,
   "id": "7a3bf565-6c7c-4a51-b2a9-c2c8f9ed5844",
   "metadata": {},
   "outputs": [],
   "source": [
    "#Randomized Search CV\n",
    "\n",
    "# Number of trees in random forest\n",
    "n_estimators = list(range(300,500,200))\n",
    "# Number of features to consider at every split\n",
    "max_features = ['auto', 'sqrt']\n",
    "# Maximum number of levels in tree\n",
    "max_depth = [int(x) for x in np.linspace(5, 30, num = 6)]\n",
    "# Minimum number of samples required to split a node\n",
    "min_samples_split = [2, 5, 10, 15, 100]\n",
    "# Minimum number of samples required at each leaf node\n",
    "min_samples_leaf = [1, 2, 5, 10]"
   ]
  },
  {
   "cell_type": "code",
   "execution_count": 98,
   "id": "a0842d6c-abc7-493d-a05f-146eaf0acbd3",
   "metadata": {},
   "outputs": [],
   "source": [
    "# Create the random grid\n",
    "\n",
    "random_grid = {'n_estimators': n_estimators,\n",
    "               'max_features': max_features,\n",
    "               'max_depth': max_depth,\n",
    "               'min_samples_split': min_samples_split,\n",
    "               'min_samples_leaf': min_samples_leaf}"
   ]
  },
  {
   "cell_type": "code",
   "execution_count": 99,
   "id": "44d6d700-28b8-4470-9abc-bd0d9730613c",
   "metadata": {},
   "outputs": [
    {
     "data": {
      "text/html": [
       "<style>#sk-container-id-1 {color: black;}#sk-container-id-1 pre{padding: 0;}#sk-container-id-1 div.sk-toggleable {background-color: white;}#sk-container-id-1 label.sk-toggleable__label {cursor: pointer;display: block;width: 100%;margin-bottom: 0;padding: 0.3em;box-sizing: border-box;text-align: center;}#sk-container-id-1 label.sk-toggleable__label-arrow:before {content: \"▸\";float: left;margin-right: 0.25em;color: #696969;}#sk-container-id-1 label.sk-toggleable__label-arrow:hover:before {color: black;}#sk-container-id-1 div.sk-estimator:hover label.sk-toggleable__label-arrow:before {color: black;}#sk-container-id-1 div.sk-toggleable__content {max-height: 0;max-width: 0;overflow: hidden;text-align: left;background-color: #f0f8ff;}#sk-container-id-1 div.sk-toggleable__content pre {margin: 0.2em;color: black;border-radius: 0.25em;background-color: #f0f8ff;}#sk-container-id-1 input.sk-toggleable__control:checked~div.sk-toggleable__content {max-height: 200px;max-width: 100%;overflow: auto;}#sk-container-id-1 input.sk-toggleable__control:checked~label.sk-toggleable__label-arrow:before {content: \"▾\";}#sk-container-id-1 div.sk-estimator input.sk-toggleable__control:checked~label.sk-toggleable__label {background-color: #d4ebff;}#sk-container-id-1 div.sk-label input.sk-toggleable__control:checked~label.sk-toggleable__label {background-color: #d4ebff;}#sk-container-id-1 input.sk-hidden--visually {border: 0;clip: rect(1px 1px 1px 1px);clip: rect(1px, 1px, 1px, 1px);height: 1px;margin: -1px;overflow: hidden;padding: 0;position: absolute;width: 1px;}#sk-container-id-1 div.sk-estimator {font-family: monospace;background-color: #f0f8ff;border: 1px dotted black;border-radius: 0.25em;box-sizing: border-box;margin-bottom: 0.5em;}#sk-container-id-1 div.sk-estimator:hover {background-color: #d4ebff;}#sk-container-id-1 div.sk-parallel-item::after {content: \"\";width: 100%;border-bottom: 1px solid gray;flex-grow: 1;}#sk-container-id-1 div.sk-label:hover label.sk-toggleable__label {background-color: #d4ebff;}#sk-container-id-1 div.sk-serial::before {content: \"\";position: absolute;border-left: 1px solid gray;box-sizing: border-box;top: 0;bottom: 0;left: 50%;z-index: 0;}#sk-container-id-1 div.sk-serial {display: flex;flex-direction: column;align-items: center;background-color: white;padding-right: 0.2em;padding-left: 0.2em;position: relative;}#sk-container-id-1 div.sk-item {position: relative;z-index: 1;}#sk-container-id-1 div.sk-parallel {display: flex;align-items: stretch;justify-content: center;background-color: white;position: relative;}#sk-container-id-1 div.sk-item::before, #sk-container-id-1 div.sk-parallel-item::before {content: \"\";position: absolute;border-left: 1px solid gray;box-sizing: border-box;top: 0;bottom: 0;left: 50%;z-index: -1;}#sk-container-id-1 div.sk-parallel-item {display: flex;flex-direction: column;z-index: 1;position: relative;background-color: white;}#sk-container-id-1 div.sk-parallel-item:first-child::after {align-self: flex-end;width: 50%;}#sk-container-id-1 div.sk-parallel-item:last-child::after {align-self: flex-start;width: 50%;}#sk-container-id-1 div.sk-parallel-item:only-child::after {width: 0;}#sk-container-id-1 div.sk-dashed-wrapped {border: 1px dashed gray;margin: 0 0.4em 0.5em 0.4em;box-sizing: border-box;padding-bottom: 0.4em;background-color: white;}#sk-container-id-1 div.sk-label label {font-family: monospace;font-weight: bold;display: inline-block;line-height: 1.2em;}#sk-container-id-1 div.sk-label-container {text-align: center;}#sk-container-id-1 div.sk-container {/* jupyter's `normalize.less` sets `[hidden] { display: none; }` but bootstrap.min.css set `[hidden] { display: none !important; }` so we also need the `!important` here to be able to override the default hidden behavior on the sphinx rendered scikit-learn.org. See: https://github.com/scikit-learn/scikit-learn/issues/21755 */display: inline-block !important;position: relative;}#sk-container-id-1 div.sk-text-repr-fallback {display: none;}</style><div id=\"sk-container-id-1\" class=\"sk-top-container\"><div class=\"sk-text-repr-fallback\"><pre>RandomizedSearchCV(cv=3, estimator=RandomForestRegressor(),\n",
       "                   param_distributions={&#x27;max_depth&#x27;: [5, 10, 15, 20, 25, 30],\n",
       "                                        &#x27;max_features&#x27;: [&#x27;auto&#x27;, &#x27;sqrt&#x27;],\n",
       "                                        &#x27;min_samples_leaf&#x27;: [1, 2, 5, 10],\n",
       "                                        &#x27;min_samples_split&#x27;: [2, 5, 10, 15,\n",
       "                                                              100],\n",
       "                                        &#x27;n_estimators&#x27;: [300]},\n",
       "                   random_state=0)</pre><b>In a Jupyter environment, please rerun this cell to show the HTML representation or trust the notebook. <br />On GitHub, the HTML representation is unable to render, please try loading this page with nbviewer.org.</b></div><div class=\"sk-container\" hidden><div class=\"sk-item sk-dashed-wrapped\"><div class=\"sk-label-container\"><div class=\"sk-label sk-toggleable\"><input class=\"sk-toggleable__control sk-hidden--visually\" id=\"sk-estimator-id-1\" type=\"checkbox\" ><label for=\"sk-estimator-id-1\" class=\"sk-toggleable__label sk-toggleable__label-arrow\">RandomizedSearchCV</label><div class=\"sk-toggleable__content\"><pre>RandomizedSearchCV(cv=3, estimator=RandomForestRegressor(),\n",
       "                   param_distributions={&#x27;max_depth&#x27;: [5, 10, 15, 20, 25, 30],\n",
       "                                        &#x27;max_features&#x27;: [&#x27;auto&#x27;, &#x27;sqrt&#x27;],\n",
       "                                        &#x27;min_samples_leaf&#x27;: [1, 2, 5, 10],\n",
       "                                        &#x27;min_samples_split&#x27;: [2, 5, 10, 15,\n",
       "                                                              100],\n",
       "                                        &#x27;n_estimators&#x27;: [300]},\n",
       "                   random_state=0)</pre></div></div></div><div class=\"sk-parallel\"><div class=\"sk-parallel-item\"><div class=\"sk-item\"><div class=\"sk-label-container\"><div class=\"sk-label sk-toggleable\"><input class=\"sk-toggleable__control sk-hidden--visually\" id=\"sk-estimator-id-2\" type=\"checkbox\" ><label for=\"sk-estimator-id-2\" class=\"sk-toggleable__label sk-toggleable__label-arrow\">estimator: RandomForestRegressor</label><div class=\"sk-toggleable__content\"><pre>RandomForestRegressor()</pre></div></div></div><div class=\"sk-serial\"><div class=\"sk-item\"><div class=\"sk-estimator sk-toggleable\"><input class=\"sk-toggleable__control sk-hidden--visually\" id=\"sk-estimator-id-3\" type=\"checkbox\" ><label for=\"sk-estimator-id-3\" class=\"sk-toggleable__label sk-toggleable__label-arrow\">RandomForestRegressor</label><div class=\"sk-toggleable__content\"><pre>RandomForestRegressor()</pre></div></div></div></div></div></div></div></div></div></div>"
      ],
      "text/plain": [
       "RandomizedSearchCV(cv=3, estimator=RandomForestRegressor(),\n",
       "                   param_distributions={'max_depth': [5, 10, 15, 20, 25, 30],\n",
       "                                        'max_features': ['auto', 'sqrt'],\n",
       "                                        'min_samples_leaf': [1, 2, 5, 10],\n",
       "                                        'min_samples_split': [2, 5, 10, 15,\n",
       "                                                              100],\n",
       "                                        'n_estimators': [300]},\n",
       "                   random_state=0)"
      ]
     },
     "execution_count": 99,
     "metadata": {},
     "output_type": "execute_result"
    }
   ],
   "source": [
    "from sklearn.model_selection import RandomizedSearchCV\n",
    "\n",
    "rf_regressor=RandomForestRegressor()\n",
    "rf_model=RandomizedSearchCV(estimator=rf_regressor,param_distributions=random_grid,\n",
    "                            cv=3,random_state=0)\n",
    "rf_model.fit(X_train_scaled,y_train)"
   ]
  },
  {
   "cell_type": "code",
   "execution_count": 100,
   "id": "c7f0ea63-1e6d-4fa2-98aa-ac31cc97e6d3",
   "metadata": {},
   "outputs": [
    {
     "data": {
      "text/plain": [
       "{'n_estimators': 300,\n",
       " 'min_samples_split': 2,\n",
       " 'min_samples_leaf': 1,\n",
       " 'max_features': 'sqrt',\n",
       " 'max_depth': 30}"
      ]
     },
     "execution_count": 100,
     "metadata": {},
     "output_type": "execute_result"
    }
   ],
   "source": [
    "# best parameter\n",
    "rf_model.best_params_"
   ]
  },
  {
   "cell_type": "code",
   "execution_count": 101,
   "id": "e826dd8a-cc01-49bb-8468-af0dbe04cd89",
   "metadata": {},
   "outputs": [
    {
     "data": {
      "text/html": [
       "<style>#sk-container-id-2 {color: black;}#sk-container-id-2 pre{padding: 0;}#sk-container-id-2 div.sk-toggleable {background-color: white;}#sk-container-id-2 label.sk-toggleable__label {cursor: pointer;display: block;width: 100%;margin-bottom: 0;padding: 0.3em;box-sizing: border-box;text-align: center;}#sk-container-id-2 label.sk-toggleable__label-arrow:before {content: \"▸\";float: left;margin-right: 0.25em;color: #696969;}#sk-container-id-2 label.sk-toggleable__label-arrow:hover:before {color: black;}#sk-container-id-2 div.sk-estimator:hover label.sk-toggleable__label-arrow:before {color: black;}#sk-container-id-2 div.sk-toggleable__content {max-height: 0;max-width: 0;overflow: hidden;text-align: left;background-color: #f0f8ff;}#sk-container-id-2 div.sk-toggleable__content pre {margin: 0.2em;color: black;border-radius: 0.25em;background-color: #f0f8ff;}#sk-container-id-2 input.sk-toggleable__control:checked~div.sk-toggleable__content {max-height: 200px;max-width: 100%;overflow: auto;}#sk-container-id-2 input.sk-toggleable__control:checked~label.sk-toggleable__label-arrow:before {content: \"▾\";}#sk-container-id-2 div.sk-estimator input.sk-toggleable__control:checked~label.sk-toggleable__label {background-color: #d4ebff;}#sk-container-id-2 div.sk-label input.sk-toggleable__control:checked~label.sk-toggleable__label {background-color: #d4ebff;}#sk-container-id-2 input.sk-hidden--visually {border: 0;clip: rect(1px 1px 1px 1px);clip: rect(1px, 1px, 1px, 1px);height: 1px;margin: -1px;overflow: hidden;padding: 0;position: absolute;width: 1px;}#sk-container-id-2 div.sk-estimator {font-family: monospace;background-color: #f0f8ff;border: 1px dotted black;border-radius: 0.25em;box-sizing: border-box;margin-bottom: 0.5em;}#sk-container-id-2 div.sk-estimator:hover {background-color: #d4ebff;}#sk-container-id-2 div.sk-parallel-item::after {content: \"\";width: 100%;border-bottom: 1px solid gray;flex-grow: 1;}#sk-container-id-2 div.sk-label:hover label.sk-toggleable__label {background-color: #d4ebff;}#sk-container-id-2 div.sk-serial::before {content: \"\";position: absolute;border-left: 1px solid gray;box-sizing: border-box;top: 0;bottom: 0;left: 50%;z-index: 0;}#sk-container-id-2 div.sk-serial {display: flex;flex-direction: column;align-items: center;background-color: white;padding-right: 0.2em;padding-left: 0.2em;position: relative;}#sk-container-id-2 div.sk-item {position: relative;z-index: 1;}#sk-container-id-2 div.sk-parallel {display: flex;align-items: stretch;justify-content: center;background-color: white;position: relative;}#sk-container-id-2 div.sk-item::before, #sk-container-id-2 div.sk-parallel-item::before {content: \"\";position: absolute;border-left: 1px solid gray;box-sizing: border-box;top: 0;bottom: 0;left: 50%;z-index: -1;}#sk-container-id-2 div.sk-parallel-item {display: flex;flex-direction: column;z-index: 1;position: relative;background-color: white;}#sk-container-id-2 div.sk-parallel-item:first-child::after {align-self: flex-end;width: 50%;}#sk-container-id-2 div.sk-parallel-item:last-child::after {align-self: flex-start;width: 50%;}#sk-container-id-2 div.sk-parallel-item:only-child::after {width: 0;}#sk-container-id-2 div.sk-dashed-wrapped {border: 1px dashed gray;margin: 0 0.4em 0.5em 0.4em;box-sizing: border-box;padding-bottom: 0.4em;background-color: white;}#sk-container-id-2 div.sk-label label {font-family: monospace;font-weight: bold;display: inline-block;line-height: 1.2em;}#sk-container-id-2 div.sk-label-container {text-align: center;}#sk-container-id-2 div.sk-container {/* jupyter's `normalize.less` sets `[hidden] { display: none; }` but bootstrap.min.css set `[hidden] { display: none !important; }` so we also need the `!important` here to be able to override the default hidden behavior on the sphinx rendered scikit-learn.org. See: https://github.com/scikit-learn/scikit-learn/issues/21755 */display: inline-block !important;position: relative;}#sk-container-id-2 div.sk-text-repr-fallback {display: none;}</style><div id=\"sk-container-id-2\" class=\"sk-top-container\"><div class=\"sk-text-repr-fallback\"><pre>RandomForestRegressor(max_depth=30, max_features=&#x27;sqrt&#x27;, n_estimators=300)</pre><b>In a Jupyter environment, please rerun this cell to show the HTML representation or trust the notebook. <br />On GitHub, the HTML representation is unable to render, please try loading this page with nbviewer.org.</b></div><div class=\"sk-container\" hidden><div class=\"sk-item\"><div class=\"sk-estimator sk-toggleable\"><input class=\"sk-toggleable__control sk-hidden--visually\" id=\"sk-estimator-id-4\" type=\"checkbox\" checked><label for=\"sk-estimator-id-4\" class=\"sk-toggleable__label sk-toggleable__label-arrow\">RandomForestRegressor</label><div class=\"sk-toggleable__content\"><pre>RandomForestRegressor(max_depth=30, max_features=&#x27;sqrt&#x27;, n_estimators=300)</pre></div></div></div></div></div>"
      ],
      "text/plain": [
       "RandomForestRegressor(max_depth=30, max_features='sqrt', n_estimators=300)"
      ]
     },
     "execution_count": 101,
     "metadata": {},
     "output_type": "execute_result"
    }
   ],
   "source": [
    "final_model = RandomForestRegressor(n_estimators = 300,min_samples_split = 2,min_samples_leaf = 1,max_features = 'sqrt',max_depth = 30)\n",
    "final_model.fit(X_train_scaled,y_train)"
   ]
  },
  {
   "cell_type": "code",
   "execution_count": 102,
   "id": "69c122de-72d5-4cd0-8529-ef7aeeb4c1f2",
   "metadata": {},
   "outputs": [
    {
     "name": "stdout",
     "output_type": "stream",
     "text": [
      "R2 score of training dataset 0.9899673739359778\n",
      "R2 score of testing dataset 0.9016714218595691\n"
     ]
    }
   ],
   "source": [
    "#predicting the values\n",
    "trian_pred=final_model.predict(X_train_scaled)\n",
    "test_pred=final_model.predict(X_test_scaled)\n",
    "\n",
    "print('R2 score of training dataset',r2_score(y_train,trian_pred))\n",
    "print('R2 score of testing dataset',r2_score(y_test,test_pred))"
   ]
  },
  {
   "cell_type": "code",
   "execution_count": 104,
   "id": "a414af9f-c570-4392-83f3-b6f0003e229e",
   "metadata": {},
   "outputs": [
    {
     "name": "stdout",
     "output_type": "stream",
     "text": [
      "r2 score train 0.9899673739359778\n",
      "r2_score test: 0.9016714218595691\n",
      "MAE: 172452.2065317168\n",
      "MSE: 29691633370364.656\n",
      "RMSE: 5449002.970302425\n"
     ]
    }
   ],
   "source": [
    "from sklearn.metrics import mean_absolute_error\n",
    "print('r2 score train', r2_score(y_train,trian_pred))\n",
    "print('r2_score test:',r2_score(y_test,test_pred))\n",
    "print('MAE:', mean_absolute_error(y_test, test_pred))\n",
    "print('MSE:', mean_squared_error(y_test, test_pred))\n",
    "print('RMSE:', np.sqrt(mean_squared_error(y_test, test_pred)))"
   ]
  },
  {
   "cell_type": "code",
   "execution_count": null,
   "id": "fc533b48-9c14-4206-8b1b-5c785b7652b9",
   "metadata": {},
   "outputs": [],
   "source": []
  }
 ],
 "metadata": {
  "kernelspec": {
   "display_name": "Python 3 (ipykernel)",
   "language": "python",
   "name": "python3"
  },
  "language_info": {
   "codemirror_mode": {
    "name": "ipython",
    "version": 3
   },
   "file_extension": ".py",
   "mimetype": "text/x-python",
   "name": "python",
   "nbconvert_exporter": "python",
   "pygments_lexer": "ipython3",
   "version": "3.11.5"
  }
 },
 "nbformat": 4,
 "nbformat_minor": 5
}
